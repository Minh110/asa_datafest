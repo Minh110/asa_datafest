{
 "cells": [
  {
   "cell_type": "code",
   "execution_count": 2,
   "metadata": {},
   "outputs": [],
   "source": [
    "import numpy as np\n",
    "import pandas as pd\n",
    "import plotly.express as px\n"
   ]
  },
  {
   "cell_type": "code",
   "execution_count": 3,
   "metadata": {},
   "outputs": [
    {
     "name": "stderr",
     "output_type": "stream",
     "text": [
      "/var/folders/nb/20h7pxd97n9dly3_d0vghc280000gn/T/ipykernel_89234/2326660139.py:1: DtypeWarning: Columns (34,38,39,40,47,50,53,54,57,58,59,60,62,68,70,72,73,74,76,77,78,81,85,88,89,90,91,92,96,97,98,99,100,101,102,103,104,105,106,107,108,109,110,111,112,113,114,115,116,118,120,121,122,123,129,131) have mixed types. Specify dtype option on import or set low_memory=False.\n",
      "  log = pd.read_csv(\"./data_files/logs.csv\")\n"
     ]
    }
   ],
   "source": [
    "log = pd.read_csv(\"./data_files/logs.csv\")"
   ]
  },
  {
   "cell_type": "code",
   "execution_count": 5,
   "metadata": {},
   "outputs": [
    {
     "data": {
      "text/html": [
       "<div>\n",
       "<style scoped>\n",
       "    .dataframe tbody tr th:only-of-type {\n",
       "        vertical-align: middle;\n",
       "    }\n",
       "\n",
       "    .dataframe tbody tr th {\n",
       "        vertical-align: top;\n",
       "    }\n",
       "\n",
       "    .dataframe thead th {\n",
       "        text-align: right;\n",
       "    }\n",
       "</style>\n",
       "<table border=\"1\" class=\"dataframe\">\n",
       "  <thead>\n",
       "    <tr style=\"text-align: right;\">\n",
       "      <th></th>\n",
       "      <th>row_id</th>\n",
       "      <th>player_id</th>\n",
       "      <th>school</th>\n",
       "      <th>wave</th>\n",
       "      <th>session</th>\n",
       "      <th>date</th>\n",
       "      <th>event_id</th>\n",
       "      <th>event_description</th>\n",
       "      <th>event_category</th>\n",
       "      <th>event_time</th>\n",
       "      <th>...</th>\n",
       "      <th>piece2_id</th>\n",
       "      <th>piece3_id</th>\n",
       "      <th>opponent_point_loss</th>\n",
       "      <th>player_points</th>\n",
       "      <th>opponent_points</th>\n",
       "      <th>old_rating</th>\n",
       "      <th>new_rating</th>\n",
       "      <th>priority_type_that_went_to_zero</th>\n",
       "      <th>epilogue_item_id</th>\n",
       "      <th>item_locked_unlocked_state</th>\n",
       "    </tr>\n",
       "  </thead>\n",
       "  <tbody>\n",
       "    <tr>\n",
       "      <th>0</th>\n",
       "      <td>1</td>\n",
       "      <td>6427001</td>\n",
       "      <td>3561</td>\n",
       "      <td>3561 (T,TH) Spring 2013</td>\n",
       "      <td>Session 1</td>\n",
       "      <td>2013-03-07</td>\n",
       "      <td>600</td>\n",
       "      <td>Player selects age</td>\n",
       "      <td>Avatar Creation</td>\n",
       "      <td>3M 18S</td>\n",
       "      <td>...</td>\n",
       "      <td>NaN</td>\n",
       "      <td>NaN</td>\n",
       "      <td>NaN</td>\n",
       "      <td>NaN</td>\n",
       "      <td>NaN</td>\n",
       "      <td>NaN</td>\n",
       "      <td>NaN</td>\n",
       "      <td>NaN</td>\n",
       "      <td>NaN</td>\n",
       "      <td>NaN</td>\n",
       "    </tr>\n",
       "    <tr>\n",
       "      <th>1</th>\n",
       "      <td>2</td>\n",
       "      <td>6427001</td>\n",
       "      <td>3561</td>\n",
       "      <td>3561 (T,TH) Spring 2013</td>\n",
       "      <td>Session 1</td>\n",
       "      <td>2013-03-07</td>\n",
       "      <td>601</td>\n",
       "      <td>Player selects gender</td>\n",
       "      <td>Avatar Creation</td>\n",
       "      <td>3M 19S</td>\n",
       "      <td>...</td>\n",
       "      <td>NaN</td>\n",
       "      <td>NaN</td>\n",
       "      <td>NaN</td>\n",
       "      <td>NaN</td>\n",
       "      <td>NaN</td>\n",
       "      <td>NaN</td>\n",
       "      <td>NaN</td>\n",
       "      <td>NaN</td>\n",
       "      <td>NaN</td>\n",
       "      <td>NaN</td>\n",
       "    </tr>\n",
       "    <tr>\n",
       "      <th>2</th>\n",
       "      <td>3</td>\n",
       "      <td>6427001</td>\n",
       "      <td>3561</td>\n",
       "      <td>3561 (T,TH) Spring 2013</td>\n",
       "      <td>Session 1</td>\n",
       "      <td>2013-03-07</td>\n",
       "      <td>602</td>\n",
       "      <td>Player commits to age and gender</td>\n",
       "      <td>Avatar Creation</td>\n",
       "      <td>3M 25S</td>\n",
       "      <td>...</td>\n",
       "      <td>NaN</td>\n",
       "      <td>NaN</td>\n",
       "      <td>NaN</td>\n",
       "      <td>NaN</td>\n",
       "      <td>NaN</td>\n",
       "      <td>NaN</td>\n",
       "      <td>NaN</td>\n",
       "      <td>NaN</td>\n",
       "      <td>NaN</td>\n",
       "      <td>NaN</td>\n",
       "    </tr>\n",
       "    <tr>\n",
       "      <th>3</th>\n",
       "      <td>4</td>\n",
       "      <td>6427001</td>\n",
       "      <td>3561</td>\n",
       "      <td>3561 (T,TH) Spring 2013</td>\n",
       "      <td>Session 1</td>\n",
       "      <td>2013-03-07</td>\n",
       "      <td>603</td>\n",
       "      <td>Player selects avatar</td>\n",
       "      <td>Avatar Creation</td>\n",
       "      <td>3M 30S</td>\n",
       "      <td>...</td>\n",
       "      <td>NaN</td>\n",
       "      <td>NaN</td>\n",
       "      <td>NaN</td>\n",
       "      <td>NaN</td>\n",
       "      <td>NaN</td>\n",
       "      <td>NaN</td>\n",
       "      <td>NaN</td>\n",
       "      <td>NaN</td>\n",
       "      <td>NaN</td>\n",
       "      <td>NaN</td>\n",
       "    </tr>\n",
       "    <tr>\n",
       "      <th>4</th>\n",
       "      <td>5</td>\n",
       "      <td>6427001</td>\n",
       "      <td>3561</td>\n",
       "      <td>3561 (T,TH) Spring 2013</td>\n",
       "      <td>Session 1</td>\n",
       "      <td>2013-03-07</td>\n",
       "      <td>604</td>\n",
       "      <td>Player commits to avatar and name</td>\n",
       "      <td>Avatar Creation</td>\n",
       "      <td>4M 12S</td>\n",
       "      <td>...</td>\n",
       "      <td>NaN</td>\n",
       "      <td>NaN</td>\n",
       "      <td>NaN</td>\n",
       "      <td>NaN</td>\n",
       "      <td>NaN</td>\n",
       "      <td>NaN</td>\n",
       "      <td>NaN</td>\n",
       "      <td>NaN</td>\n",
       "      <td>NaN</td>\n",
       "      <td>NaN</td>\n",
       "    </tr>\n",
       "    <tr>\n",
       "      <th>...</th>\n",
       "      <td>...</td>\n",
       "      <td>...</td>\n",
       "      <td>...</td>\n",
       "      <td>...</td>\n",
       "      <td>...</td>\n",
       "      <td>...</td>\n",
       "      <td>...</td>\n",
       "      <td>...</td>\n",
       "      <td>...</td>\n",
       "      <td>...</td>\n",
       "      <td>...</td>\n",
       "      <td>...</td>\n",
       "      <td>...</td>\n",
       "      <td>...</td>\n",
       "      <td>...</td>\n",
       "      <td>...</td>\n",
       "      <td>...</td>\n",
       "      <td>...</td>\n",
       "      <td>...</td>\n",
       "      <td>...</td>\n",
       "      <td>...</td>\n",
       "    </tr>\n",
       "    <tr>\n",
       "      <th>2106592</th>\n",
       "      <td>2106593</td>\n",
       "      <td>65670032</td>\n",
       "      <td>1531</td>\n",
       "      <td>Single wave</td>\n",
       "      <td>Session 10</td>\n",
       "      <td>2013-12-13</td>\n",
       "      <td>706</td>\n",
       "      <td>Player pans epilogue</td>\n",
       "      <td>Epilogue</td>\n",
       "      <td>1H 36M 1S</td>\n",
       "      <td>...</td>\n",
       "      <td>NaN</td>\n",
       "      <td>NaN</td>\n",
       "      <td>NaN</td>\n",
       "      <td>NaN</td>\n",
       "      <td>NaN</td>\n",
       "      <td>NaN</td>\n",
       "      <td>NaN</td>\n",
       "      <td>NaN</td>\n",
       "      <td>NaN</td>\n",
       "      <td>NaN</td>\n",
       "    </tr>\n",
       "    <tr>\n",
       "      <th>2106593</th>\n",
       "      <td>2106594</td>\n",
       "      <td>65670032</td>\n",
       "      <td>1531</td>\n",
       "      <td>Single wave</td>\n",
       "      <td>Session 10</td>\n",
       "      <td>2013-12-13</td>\n",
       "      <td>705</td>\n",
       "      <td>Player closes Epilogue Item</td>\n",
       "      <td>Epilogue</td>\n",
       "      <td>1H 36M 5S</td>\n",
       "      <td>...</td>\n",
       "      <td>NaN</td>\n",
       "      <td>NaN</td>\n",
       "      <td>NaN</td>\n",
       "      <td>NaN</td>\n",
       "      <td>NaN</td>\n",
       "      <td>NaN</td>\n",
       "      <td>NaN</td>\n",
       "      <td>NaN</td>\n",
       "      <td>24.0</td>\n",
       "      <td>True</td>\n",
       "    </tr>\n",
       "    <tr>\n",
       "      <th>2106594</th>\n",
       "      <td>2106595</td>\n",
       "      <td>65670032</td>\n",
       "      <td>1531</td>\n",
       "      <td>Single wave</td>\n",
       "      <td>Session 10</td>\n",
       "      <td>2013-12-13</td>\n",
       "      <td>1</td>\n",
       "      <td>Player ends session</td>\n",
       "      <td>General</td>\n",
       "      <td>1H 36M 7S</td>\n",
       "      <td>...</td>\n",
       "      <td>NaN</td>\n",
       "      <td>NaN</td>\n",
       "      <td>NaN</td>\n",
       "      <td>NaN</td>\n",
       "      <td>NaN</td>\n",
       "      <td>NaN</td>\n",
       "      <td>NaN</td>\n",
       "      <td>NaN</td>\n",
       "      <td>NaN</td>\n",
       "      <td>NaN</td>\n",
       "    </tr>\n",
       "    <tr>\n",
       "      <th>2106595</th>\n",
       "      <td>2106596</td>\n",
       "      <td>65670032</td>\n",
       "      <td>1531</td>\n",
       "      <td>Single wave</td>\n",
       "      <td>Session 10</td>\n",
       "      <td>2013-12-13</td>\n",
       "      <td>706</td>\n",
       "      <td>Player pans epilogue</td>\n",
       "      <td>Epilogue</td>\n",
       "      <td>1H 36M 7S</td>\n",
       "      <td>...</td>\n",
       "      <td>NaN</td>\n",
       "      <td>NaN</td>\n",
       "      <td>NaN</td>\n",
       "      <td>NaN</td>\n",
       "      <td>NaN</td>\n",
       "      <td>NaN</td>\n",
       "      <td>NaN</td>\n",
       "      <td>NaN</td>\n",
       "      <td>NaN</td>\n",
       "      <td>NaN</td>\n",
       "    </tr>\n",
       "    <tr>\n",
       "      <th>2106596</th>\n",
       "      <td>2106597</td>\n",
       "      <td>65670032</td>\n",
       "      <td>1531</td>\n",
       "      <td>Single wave</td>\n",
       "      <td>Session 10</td>\n",
       "      <td>2013-12-13</td>\n",
       "      <td>708</td>\n",
       "      <td>Player hits done button</td>\n",
       "      <td>Epilogue</td>\n",
       "      <td>1H 36M 7S</td>\n",
       "      <td>...</td>\n",
       "      <td>NaN</td>\n",
       "      <td>NaN</td>\n",
       "      <td>NaN</td>\n",
       "      <td>NaN</td>\n",
       "      <td>NaN</td>\n",
       "      <td>NaN</td>\n",
       "      <td>NaN</td>\n",
       "      <td>NaN</td>\n",
       "      <td>NaN</td>\n",
       "      <td>NaN</td>\n",
       "    </tr>\n",
       "  </tbody>\n",
       "</table>\n",
       "<p>2106597 rows × 132 columns</p>\n",
       "</div>"
      ],
      "text/plain": [
       "          row_id  player_id  school                     wave     session  \\\n",
       "0              1    6427001    3561  3561 (T,TH) Spring 2013   Session 1   \n",
       "1              2    6427001    3561  3561 (T,TH) Spring 2013   Session 1   \n",
       "2              3    6427001    3561  3561 (T,TH) Spring 2013   Session 1   \n",
       "3              4    6427001    3561  3561 (T,TH) Spring 2013   Session 1   \n",
       "4              5    6427001    3561  3561 (T,TH) Spring 2013   Session 1   \n",
       "...          ...        ...     ...                      ...         ...   \n",
       "2106592  2106593   65670032    1531              Single wave  Session 10   \n",
       "2106593  2106594   65670032    1531              Single wave  Session 10   \n",
       "2106594  2106595   65670032    1531              Single wave  Session 10   \n",
       "2106595  2106596   65670032    1531              Single wave  Session 10   \n",
       "2106596  2106597   65670032    1531              Single wave  Session 10   \n",
       "\n",
       "               date  event_id                  event_description  \\\n",
       "0        2013-03-07       600                 Player selects age   \n",
       "1        2013-03-07       601              Player selects gender   \n",
       "2        2013-03-07       602   Player commits to age and gender   \n",
       "3        2013-03-07       603              Player selects avatar   \n",
       "4        2013-03-07       604  Player commits to avatar and name   \n",
       "...             ...       ...                                ...   \n",
       "2106592  2013-12-13       706               Player pans epilogue   \n",
       "2106593  2013-12-13       705        Player closes Epilogue Item   \n",
       "2106594  2013-12-13         1                Player ends session   \n",
       "2106595  2013-12-13       706               Player pans epilogue   \n",
       "2106596  2013-12-13       708            Player hits done button   \n",
       "\n",
       "          event_category event_time  ...  piece2_id  piece3_id  \\\n",
       "0        Avatar Creation     3M 18S  ...        NaN        NaN   \n",
       "1        Avatar Creation     3M 19S  ...        NaN        NaN   \n",
       "2        Avatar Creation     3M 25S  ...        NaN        NaN   \n",
       "3        Avatar Creation     3M 30S  ...        NaN        NaN   \n",
       "4        Avatar Creation     4M 12S  ...        NaN        NaN   \n",
       "...                  ...        ...  ...        ...        ...   \n",
       "2106592         Epilogue  1H 36M 1S  ...        NaN        NaN   \n",
       "2106593         Epilogue  1H 36M 5S  ...        NaN        NaN   \n",
       "2106594          General  1H 36M 7S  ...        NaN        NaN   \n",
       "2106595         Epilogue  1H 36M 7S  ...        NaN        NaN   \n",
       "2106596         Epilogue  1H 36M 7S  ...        NaN        NaN   \n",
       "\n",
       "        opponent_point_loss player_points opponent_points  old_rating  \\\n",
       "0                       NaN           NaN             NaN         NaN   \n",
       "1                       NaN           NaN             NaN         NaN   \n",
       "2                       NaN           NaN             NaN         NaN   \n",
       "3                       NaN           NaN             NaN         NaN   \n",
       "4                       NaN           NaN             NaN         NaN   \n",
       "...                     ...           ...             ...         ...   \n",
       "2106592                 NaN           NaN             NaN         NaN   \n",
       "2106593                 NaN           NaN             NaN         NaN   \n",
       "2106594                 NaN           NaN             NaN         NaN   \n",
       "2106595                 NaN           NaN             NaN         NaN   \n",
       "2106596                 NaN           NaN             NaN         NaN   \n",
       "\n",
       "         new_rating  priority_type_that_went_to_zero  epilogue_item_id  \\\n",
       "0               NaN                              NaN               NaN   \n",
       "1               NaN                              NaN               NaN   \n",
       "2               NaN                              NaN               NaN   \n",
       "3               NaN                              NaN               NaN   \n",
       "4               NaN                              NaN               NaN   \n",
       "...             ...                              ...               ...   \n",
       "2106592         NaN                              NaN               NaN   \n",
       "2106593         NaN                              NaN              24.0   \n",
       "2106594         NaN                              NaN               NaN   \n",
       "2106595         NaN                              NaN               NaN   \n",
       "2106596         NaN                              NaN               NaN   \n",
       "\n",
       "         item_locked_unlocked_state  \n",
       "0                               NaN  \n",
       "1                               NaN  \n",
       "2                               NaN  \n",
       "3                               NaN  \n",
       "4                               NaN  \n",
       "...                             ...  \n",
       "2106592                         NaN  \n",
       "2106593                        True  \n",
       "2106594                         NaN  \n",
       "2106595                         NaN  \n",
       "2106596                         NaN  \n",
       "\n",
       "[2106597 rows x 132 columns]"
      ]
     },
     "execution_count": 5,
     "metadata": {},
     "output_type": "execute_result"
    }
   ],
   "source": [
    "log"
   ]
  },
  {
   "cell_type": "code",
   "execution_count": 4,
   "metadata": {},
   "outputs": [
    {
     "name": "stderr",
     "output_type": "stream",
     "text": [
      "/var/folders/nb/20h7pxd97n9dly3_d0vghc280000gn/T/ipykernel_89234/1295355672.py:1: DtypeWarning: Columns (38,39,40,47,88,89,90,91,92,129,131) have mixed types. Specify dtype option on import or set low_memory=False.\n",
      "  player1_log = pd.read_csv(\"./data_files/player-6427031 copy.csv\")\n"
     ]
    },
    {
     "data": {
      "text/html": [
       "<div>\n",
       "<style scoped>\n",
       "    .dataframe tbody tr th:only-of-type {\n",
       "        vertical-align: middle;\n",
       "    }\n",
       "\n",
       "    .dataframe tbody tr th {\n",
       "        vertical-align: top;\n",
       "    }\n",
       "\n",
       "    .dataframe thead th {\n",
       "        text-align: right;\n",
       "    }\n",
       "</style>\n",
       "<table border=\"1\" class=\"dataframe\">\n",
       "  <thead>\n",
       "    <tr style=\"text-align: right;\">\n",
       "      <th></th>\n",
       "      <th>row_id</th>\n",
       "      <th>player_id</th>\n",
       "      <th>school</th>\n",
       "      <th>wave</th>\n",
       "      <th>session</th>\n",
       "      <th>date</th>\n",
       "      <th>event_id</th>\n",
       "      <th>event_description</th>\n",
       "      <th>event_category</th>\n",
       "      <th>event_time</th>\n",
       "      <th>...</th>\n",
       "      <th>piece2_id</th>\n",
       "      <th>piece3_id</th>\n",
       "      <th>opponent_point_loss</th>\n",
       "      <th>player_points</th>\n",
       "      <th>opponent_points</th>\n",
       "      <th>old_rating</th>\n",
       "      <th>new_rating</th>\n",
       "      <th>priority_type_that_went_to_zero</th>\n",
       "      <th>epilogue_item_id</th>\n",
       "      <th>item_locked_unlocked_state</th>\n",
       "    </tr>\n",
       "  </thead>\n",
       "  <tbody>\n",
       "    <tr>\n",
       "      <th>0</th>\n",
       "      <td>308289</td>\n",
       "      <td>6427031</td>\n",
       "      <td>3561</td>\n",
       "      <td>3561 YES! Program Fall 2013</td>\n",
       "      <td>Session 1</td>\n",
       "      <td>2013-10-23</td>\n",
       "      <td>600</td>\n",
       "      <td>Player selects age</td>\n",
       "      <td>Avatar Creation</td>\n",
       "      <td>12S</td>\n",
       "      <td>...</td>\n",
       "      <td>NaN</td>\n",
       "      <td>NaN</td>\n",
       "      <td>NaN</td>\n",
       "      <td>NaN</td>\n",
       "      <td>NaN</td>\n",
       "      <td>NaN</td>\n",
       "      <td>NaN</td>\n",
       "      <td>NaN</td>\n",
       "      <td>NaN</td>\n",
       "      <td>NaN</td>\n",
       "    </tr>\n",
       "    <tr>\n",
       "      <th>1</th>\n",
       "      <td>308290</td>\n",
       "      <td>6427031</td>\n",
       "      <td>3561</td>\n",
       "      <td>3561 YES! Program Fall 2013</td>\n",
       "      <td>Session 1</td>\n",
       "      <td>2013-10-23</td>\n",
       "      <td>601</td>\n",
       "      <td>Player selects gender</td>\n",
       "      <td>Avatar Creation</td>\n",
       "      <td>14S</td>\n",
       "      <td>...</td>\n",
       "      <td>NaN</td>\n",
       "      <td>NaN</td>\n",
       "      <td>NaN</td>\n",
       "      <td>NaN</td>\n",
       "      <td>NaN</td>\n",
       "      <td>NaN</td>\n",
       "      <td>NaN</td>\n",
       "      <td>NaN</td>\n",
       "      <td>NaN</td>\n",
       "      <td>NaN</td>\n",
       "    </tr>\n",
       "    <tr>\n",
       "      <th>2</th>\n",
       "      <td>308291</td>\n",
       "      <td>6427031</td>\n",
       "      <td>3561</td>\n",
       "      <td>3561 YES! Program Fall 2013</td>\n",
       "      <td>Session 1</td>\n",
       "      <td>2013-10-23</td>\n",
       "      <td>602</td>\n",
       "      <td>Player commits to age and gender</td>\n",
       "      <td>Avatar Creation</td>\n",
       "      <td>15S</td>\n",
       "      <td>...</td>\n",
       "      <td>NaN</td>\n",
       "      <td>NaN</td>\n",
       "      <td>NaN</td>\n",
       "      <td>NaN</td>\n",
       "      <td>NaN</td>\n",
       "      <td>NaN</td>\n",
       "      <td>NaN</td>\n",
       "      <td>NaN</td>\n",
       "      <td>NaN</td>\n",
       "      <td>NaN</td>\n",
       "    </tr>\n",
       "    <tr>\n",
       "      <th>3</th>\n",
       "      <td>308292</td>\n",
       "      <td>6427031</td>\n",
       "      <td>3561</td>\n",
       "      <td>3561 YES! Program Fall 2013</td>\n",
       "      <td>Session 1</td>\n",
       "      <td>2013-10-23</td>\n",
       "      <td>603</td>\n",
       "      <td>Player selects avatar</td>\n",
       "      <td>Avatar Creation</td>\n",
       "      <td>18S</td>\n",
       "      <td>...</td>\n",
       "      <td>NaN</td>\n",
       "      <td>NaN</td>\n",
       "      <td>NaN</td>\n",
       "      <td>NaN</td>\n",
       "      <td>NaN</td>\n",
       "      <td>NaN</td>\n",
       "      <td>NaN</td>\n",
       "      <td>NaN</td>\n",
       "      <td>NaN</td>\n",
       "      <td>NaN</td>\n",
       "    </tr>\n",
       "    <tr>\n",
       "      <th>4</th>\n",
       "      <td>308293</td>\n",
       "      <td>6427031</td>\n",
       "      <td>3561</td>\n",
       "      <td>3561 YES! Program Fall 2013</td>\n",
       "      <td>Session 1</td>\n",
       "      <td>2013-10-23</td>\n",
       "      <td>604</td>\n",
       "      <td>Player commits to avatar and name</td>\n",
       "      <td>Avatar Creation</td>\n",
       "      <td>36S</td>\n",
       "      <td>...</td>\n",
       "      <td>NaN</td>\n",
       "      <td>NaN</td>\n",
       "      <td>NaN</td>\n",
       "      <td>NaN</td>\n",
       "      <td>NaN</td>\n",
       "      <td>NaN</td>\n",
       "      <td>NaN</td>\n",
       "      <td>NaN</td>\n",
       "      <td>NaN</td>\n",
       "      <td>NaN</td>\n",
       "    </tr>\n",
       "    <tr>\n",
       "      <th>...</th>\n",
       "      <td>...</td>\n",
       "      <td>...</td>\n",
       "      <td>...</td>\n",
       "      <td>...</td>\n",
       "      <td>...</td>\n",
       "      <td>...</td>\n",
       "      <td>...</td>\n",
       "      <td>...</td>\n",
       "      <td>...</td>\n",
       "      <td>...</td>\n",
       "      <td>...</td>\n",
       "      <td>...</td>\n",
       "      <td>...</td>\n",
       "      <td>...</td>\n",
       "      <td>...</td>\n",
       "      <td>...</td>\n",
       "      <td>...</td>\n",
       "      <td>...</td>\n",
       "      <td>...</td>\n",
       "      <td>...</td>\n",
       "      <td>...</td>\n",
       "    </tr>\n",
       "    <tr>\n",
       "      <th>7326</th>\n",
       "      <td>315615</td>\n",
       "      <td>6427031</td>\n",
       "      <td>3561</td>\n",
       "      <td>3561 YES! Program Fall 2013</td>\n",
       "      <td>Session 8</td>\n",
       "      <td>2013-12-11</td>\n",
       "      <td>815</td>\n",
       "      <td>Player cycles through Opportunity Cards using ...</td>\n",
       "      <td>Priority Sense</td>\n",
       "      <td>54H 4M 54S</td>\n",
       "      <td>...</td>\n",
       "      <td>NaN</td>\n",
       "      <td>NaN</td>\n",
       "      <td>NaN</td>\n",
       "      <td>NaN</td>\n",
       "      <td>NaN</td>\n",
       "      <td>NaN</td>\n",
       "      <td>NaN</td>\n",
       "      <td>NaN</td>\n",
       "      <td>NaN</td>\n",
       "      <td>NaN</td>\n",
       "    </tr>\n",
       "    <tr>\n",
       "      <th>7327</th>\n",
       "      <td>315616</td>\n",
       "      <td>6427031</td>\n",
       "      <td>3561</td>\n",
       "      <td>3561 YES! Program Fall 2013</td>\n",
       "      <td>Session 8</td>\n",
       "      <td>2013-12-11</td>\n",
       "      <td>815</td>\n",
       "      <td>Player cycles through Opportunity Cards using ...</td>\n",
       "      <td>Priority Sense</td>\n",
       "      <td>54H 4M 55S</td>\n",
       "      <td>...</td>\n",
       "      <td>NaN</td>\n",
       "      <td>NaN</td>\n",
       "      <td>NaN</td>\n",
       "      <td>NaN</td>\n",
       "      <td>NaN</td>\n",
       "      <td>NaN</td>\n",
       "      <td>NaN</td>\n",
       "      <td>NaN</td>\n",
       "      <td>NaN</td>\n",
       "      <td>NaN</td>\n",
       "    </tr>\n",
       "    <tr>\n",
       "      <th>7328</th>\n",
       "      <td>315617</td>\n",
       "      <td>6427031</td>\n",
       "      <td>3561</td>\n",
       "      <td>3561 YES! Program Fall 2013</td>\n",
       "      <td>Session 8</td>\n",
       "      <td>2013-12-11</td>\n",
       "      <td>815</td>\n",
       "      <td>Player cycles through Opportunity Cards using ...</td>\n",
       "      <td>Priority Sense</td>\n",
       "      <td>54H 4M 56S</td>\n",
       "      <td>...</td>\n",
       "      <td>NaN</td>\n",
       "      <td>NaN</td>\n",
       "      <td>NaN</td>\n",
       "      <td>NaN</td>\n",
       "      <td>NaN</td>\n",
       "      <td>NaN</td>\n",
       "      <td>NaN</td>\n",
       "      <td>NaN</td>\n",
       "      <td>NaN</td>\n",
       "      <td>NaN</td>\n",
       "    </tr>\n",
       "    <tr>\n",
       "      <th>7329</th>\n",
       "      <td>315618</td>\n",
       "      <td>6427031</td>\n",
       "      <td>3561</td>\n",
       "      <td>3561 YES! Program Fall 2013</td>\n",
       "      <td>Session 8</td>\n",
       "      <td>2013-12-11</td>\n",
       "      <td>815</td>\n",
       "      <td>Player cycles through Opportunity Cards using ...</td>\n",
       "      <td>Priority Sense</td>\n",
       "      <td>54H 4M 57S</td>\n",
       "      <td>...</td>\n",
       "      <td>NaN</td>\n",
       "      <td>NaN</td>\n",
       "      <td>NaN</td>\n",
       "      <td>NaN</td>\n",
       "      <td>NaN</td>\n",
       "      <td>NaN</td>\n",
       "      <td>NaN</td>\n",
       "      <td>NaN</td>\n",
       "      <td>NaN</td>\n",
       "      <td>NaN</td>\n",
       "    </tr>\n",
       "    <tr>\n",
       "      <th>7330</th>\n",
       "      <td>315619</td>\n",
       "      <td>6427031</td>\n",
       "      <td>3561</td>\n",
       "      <td>3561 YES! Program Fall 2013</td>\n",
       "      <td>Session 8</td>\n",
       "      <td>2013-12-11</td>\n",
       "      <td>816</td>\n",
       "      <td>Player picks card</td>\n",
       "      <td>Priority Sense</td>\n",
       "      <td>54H 5M 53S</td>\n",
       "      <td>...</td>\n",
       "      <td>NaN</td>\n",
       "      <td>NaN</td>\n",
       "      <td>NaN</td>\n",
       "      <td>NaN</td>\n",
       "      <td>NaN</td>\n",
       "      <td>NaN</td>\n",
       "      <td>NaN</td>\n",
       "      <td>NaN</td>\n",
       "      <td>NaN</td>\n",
       "      <td>NaN</td>\n",
       "    </tr>\n",
       "  </tbody>\n",
       "</table>\n",
       "<p>7331 rows × 132 columns</p>\n",
       "</div>"
      ],
      "text/plain": [
       "      row_id  player_id  school                         wave    session  \\\n",
       "0     308289    6427031    3561  3561 YES! Program Fall 2013  Session 1   \n",
       "1     308290    6427031    3561  3561 YES! Program Fall 2013  Session 1   \n",
       "2     308291    6427031    3561  3561 YES! Program Fall 2013  Session 1   \n",
       "3     308292    6427031    3561  3561 YES! Program Fall 2013  Session 1   \n",
       "4     308293    6427031    3561  3561 YES! Program Fall 2013  Session 1   \n",
       "...      ...        ...     ...                          ...        ...   \n",
       "7326  315615    6427031    3561  3561 YES! Program Fall 2013  Session 8   \n",
       "7327  315616    6427031    3561  3561 YES! Program Fall 2013  Session 8   \n",
       "7328  315617    6427031    3561  3561 YES! Program Fall 2013  Session 8   \n",
       "7329  315618    6427031    3561  3561 YES! Program Fall 2013  Session 8   \n",
       "7330  315619    6427031    3561  3561 YES! Program Fall 2013  Session 8   \n",
       "\n",
       "            date  event_id                                  event_description  \\\n",
       "0     2013-10-23       600                                 Player selects age   \n",
       "1     2013-10-23       601                              Player selects gender   \n",
       "2     2013-10-23       602                   Player commits to age and gender   \n",
       "3     2013-10-23       603                              Player selects avatar   \n",
       "4     2013-10-23       604                  Player commits to avatar and name   \n",
       "...          ...       ...                                                ...   \n",
       "7326  2013-12-11       815  Player cycles through Opportunity Cards using ...   \n",
       "7327  2013-12-11       815  Player cycles through Opportunity Cards using ...   \n",
       "7328  2013-12-11       815  Player cycles through Opportunity Cards using ...   \n",
       "7329  2013-12-11       815  Player cycles through Opportunity Cards using ...   \n",
       "7330  2013-12-11       816                                  Player picks card   \n",
       "\n",
       "       event_category  event_time  ...  piece2_id  piece3_id  \\\n",
       "0     Avatar Creation         12S  ...        NaN        NaN   \n",
       "1     Avatar Creation         14S  ...        NaN        NaN   \n",
       "2     Avatar Creation         15S  ...        NaN        NaN   \n",
       "3     Avatar Creation         18S  ...        NaN        NaN   \n",
       "4     Avatar Creation         36S  ...        NaN        NaN   \n",
       "...               ...         ...  ...        ...        ...   \n",
       "7326   Priority Sense  54H 4M 54S  ...        NaN        NaN   \n",
       "7327   Priority Sense  54H 4M 55S  ...        NaN        NaN   \n",
       "7328   Priority Sense  54H 4M 56S  ...        NaN        NaN   \n",
       "7329   Priority Sense  54H 4M 57S  ...        NaN        NaN   \n",
       "7330   Priority Sense  54H 5M 53S  ...        NaN        NaN   \n",
       "\n",
       "     opponent_point_loss player_points opponent_points  old_rating  \\\n",
       "0                    NaN           NaN             NaN         NaN   \n",
       "1                    NaN           NaN             NaN         NaN   \n",
       "2                    NaN           NaN             NaN         NaN   \n",
       "3                    NaN           NaN             NaN         NaN   \n",
       "4                    NaN           NaN             NaN         NaN   \n",
       "...                  ...           ...             ...         ...   \n",
       "7326                 NaN           NaN             NaN         NaN   \n",
       "7327                 NaN           NaN             NaN         NaN   \n",
       "7328                 NaN           NaN             NaN         NaN   \n",
       "7329                 NaN           NaN             NaN         NaN   \n",
       "7330                 NaN           NaN             NaN         NaN   \n",
       "\n",
       "      new_rating  priority_type_that_went_to_zero  epilogue_item_id  \\\n",
       "0            NaN                              NaN               NaN   \n",
       "1            NaN                              NaN               NaN   \n",
       "2            NaN                              NaN               NaN   \n",
       "3            NaN                              NaN               NaN   \n",
       "4            NaN                              NaN               NaN   \n",
       "...          ...                              ...               ...   \n",
       "7326         NaN                              NaN               NaN   \n",
       "7327         NaN                              NaN               NaN   \n",
       "7328         NaN                              NaN               NaN   \n",
       "7329         NaN                              NaN               NaN   \n",
       "7330         NaN                              NaN               NaN   \n",
       "\n",
       "      item_locked_unlocked_state  \n",
       "0                            NaN  \n",
       "1                            NaN  \n",
       "2                            NaN  \n",
       "3                            NaN  \n",
       "4                            NaN  \n",
       "...                          ...  \n",
       "7326                         NaN  \n",
       "7327                         NaN  \n",
       "7328                         NaN  \n",
       "7329                         NaN  \n",
       "7330                         NaN  \n",
       "\n",
       "[7331 rows x 132 columns]"
      ]
     },
     "execution_count": 4,
     "metadata": {},
     "output_type": "execute_result"
    }
   ],
   "source": [
    "player1_log = pd.read_csv(\"./data_files/player-6427031 copy.csv\")\n",
    "player1_log"
   ]
  },
  {
   "cell_type": "code",
   "execution_count": 5,
   "metadata": {},
   "outputs": [
    {
     "data": {
      "text/html": [
       "<div>\n",
       "<style scoped>\n",
       "    .dataframe tbody tr th:only-of-type {\n",
       "        vertical-align: middle;\n",
       "    }\n",
       "\n",
       "    .dataframe tbody tr th {\n",
       "        vertical-align: top;\n",
       "    }\n",
       "\n",
       "    .dataframe thead th {\n",
       "        text-align: right;\n",
       "    }\n",
       "</style>\n",
       "<table border=\"1\" class=\"dataframe\">\n",
       "  <thead>\n",
       "    <tr style=\"text-align: right;\">\n",
       "      <th></th>\n",
       "      <th>skill_id</th>\n",
       "      <th>object_id</th>\n",
       "      <th>object_locked</th>\n",
       "      <th>object_first_time_unlocked</th>\n",
       "      <th>scan_start_point</th>\n",
       "      <th>scan_end_point</th>\n",
       "      <th>object_scan_result</th>\n",
       "      <th>animatic_id</th>\n",
       "      <th>avatar_gender</th>\n",
       "      <th>avatar_name</th>\n",
       "      <th>...</th>\n",
       "      <th>clip3_validity</th>\n",
       "      <th>opponent_attack_id</th>\n",
       "      <th>chosen_opponent_attack_type_id</th>\n",
       "      <th>strategy_id</th>\n",
       "      <th>piece_id_2</th>\n",
       "      <th>piece1_id</th>\n",
       "      <th>piece2_id</th>\n",
       "      <th>piece3_id</th>\n",
       "      <th>priority_type_that_went_to_zero</th>\n",
       "      <th>item_locked_unlocked_state</th>\n",
       "    </tr>\n",
       "  </thead>\n",
       "  <tbody>\n",
       "    <tr>\n",
       "      <th>0</th>\n",
       "      <td>NaN</td>\n",
       "      <td>NaN</td>\n",
       "      <td>NaN</td>\n",
       "      <td>NaN</td>\n",
       "      <td>NaN</td>\n",
       "      <td>NaN</td>\n",
       "      <td>NaN</td>\n",
       "      <td>NaN</td>\n",
       "      <td>NaN</td>\n",
       "      <td>NaN</td>\n",
       "      <td>...</td>\n",
       "      <td>NaN</td>\n",
       "      <td>NaN</td>\n",
       "      <td>NaN</td>\n",
       "      <td>NaN</td>\n",
       "      <td>NaN</td>\n",
       "      <td>NaN</td>\n",
       "      <td>NaN</td>\n",
       "      <td>NaN</td>\n",
       "      <td>NaN</td>\n",
       "      <td>NaN</td>\n",
       "    </tr>\n",
       "    <tr>\n",
       "      <th>1</th>\n",
       "      <td>NaN</td>\n",
       "      <td>NaN</td>\n",
       "      <td>NaN</td>\n",
       "      <td>NaN</td>\n",
       "      <td>NaN</td>\n",
       "      <td>NaN</td>\n",
       "      <td>NaN</td>\n",
       "      <td>NaN</td>\n",
       "      <td>NaN</td>\n",
       "      <td>NaN</td>\n",
       "      <td>...</td>\n",
       "      <td>NaN</td>\n",
       "      <td>NaN</td>\n",
       "      <td>NaN</td>\n",
       "      <td>NaN</td>\n",
       "      <td>NaN</td>\n",
       "      <td>NaN</td>\n",
       "      <td>NaN</td>\n",
       "      <td>NaN</td>\n",
       "      <td>NaN</td>\n",
       "      <td>NaN</td>\n",
       "    </tr>\n",
       "    <tr>\n",
       "      <th>2</th>\n",
       "      <td>NaN</td>\n",
       "      <td>NaN</td>\n",
       "      <td>NaN</td>\n",
       "      <td>NaN</td>\n",
       "      <td>NaN</td>\n",
       "      <td>NaN</td>\n",
       "      <td>NaN</td>\n",
       "      <td>NaN</td>\n",
       "      <td>NaN</td>\n",
       "      <td>NaN</td>\n",
       "      <td>...</td>\n",
       "      <td>NaN</td>\n",
       "      <td>NaN</td>\n",
       "      <td>NaN</td>\n",
       "      <td>NaN</td>\n",
       "      <td>NaN</td>\n",
       "      <td>NaN</td>\n",
       "      <td>NaN</td>\n",
       "      <td>NaN</td>\n",
       "      <td>NaN</td>\n",
       "      <td>NaN</td>\n",
       "    </tr>\n",
       "    <tr>\n",
       "      <th>3</th>\n",
       "      <td>NaN</td>\n",
       "      <td>NaN</td>\n",
       "      <td>NaN</td>\n",
       "      <td>NaN</td>\n",
       "      <td>NaN</td>\n",
       "      <td>NaN</td>\n",
       "      <td>NaN</td>\n",
       "      <td>NaN</td>\n",
       "      <td>NaN</td>\n",
       "      <td>NaN</td>\n",
       "      <td>...</td>\n",
       "      <td>NaN</td>\n",
       "      <td>NaN</td>\n",
       "      <td>NaN</td>\n",
       "      <td>NaN</td>\n",
       "      <td>NaN</td>\n",
       "      <td>NaN</td>\n",
       "      <td>NaN</td>\n",
       "      <td>NaN</td>\n",
       "      <td>NaN</td>\n",
       "      <td>NaN</td>\n",
       "    </tr>\n",
       "    <tr>\n",
       "      <th>4</th>\n",
       "      <td>NaN</td>\n",
       "      <td>NaN</td>\n",
       "      <td>NaN</td>\n",
       "      <td>NaN</td>\n",
       "      <td>NaN</td>\n",
       "      <td>NaN</td>\n",
       "      <td>NaN</td>\n",
       "      <td>NaN</td>\n",
       "      <td>NaN</td>\n",
       "      <td>NaN</td>\n",
       "      <td>...</td>\n",
       "      <td>NaN</td>\n",
       "      <td>NaN</td>\n",
       "      <td>NaN</td>\n",
       "      <td>NaN</td>\n",
       "      <td>NaN</td>\n",
       "      <td>NaN</td>\n",
       "      <td>NaN</td>\n",
       "      <td>NaN</td>\n",
       "      <td>NaN</td>\n",
       "      <td>NaN</td>\n",
       "    </tr>\n",
       "    <tr>\n",
       "      <th>...</th>\n",
       "      <td>...</td>\n",
       "      <td>...</td>\n",
       "      <td>...</td>\n",
       "      <td>...</td>\n",
       "      <td>...</td>\n",
       "      <td>...</td>\n",
       "      <td>...</td>\n",
       "      <td>...</td>\n",
       "      <td>...</td>\n",
       "      <td>...</td>\n",
       "      <td>...</td>\n",
       "      <td>...</td>\n",
       "      <td>...</td>\n",
       "      <td>...</td>\n",
       "      <td>...</td>\n",
       "      <td>...</td>\n",
       "      <td>...</td>\n",
       "      <td>...</td>\n",
       "      <td>...</td>\n",
       "      <td>...</td>\n",
       "      <td>...</td>\n",
       "    </tr>\n",
       "    <tr>\n",
       "      <th>7326</th>\n",
       "      <td>NaN</td>\n",
       "      <td>NaN</td>\n",
       "      <td>NaN</td>\n",
       "      <td>NaN</td>\n",
       "      <td>NaN</td>\n",
       "      <td>NaN</td>\n",
       "      <td>NaN</td>\n",
       "      <td>NaN</td>\n",
       "      <td>NaN</td>\n",
       "      <td>NaN</td>\n",
       "      <td>...</td>\n",
       "      <td>NaN</td>\n",
       "      <td>NaN</td>\n",
       "      <td>NaN</td>\n",
       "      <td>NaN</td>\n",
       "      <td>NaN</td>\n",
       "      <td>NaN</td>\n",
       "      <td>NaN</td>\n",
       "      <td>NaN</td>\n",
       "      <td>NaN</td>\n",
       "      <td>NaN</td>\n",
       "    </tr>\n",
       "    <tr>\n",
       "      <th>7327</th>\n",
       "      <td>NaN</td>\n",
       "      <td>NaN</td>\n",
       "      <td>NaN</td>\n",
       "      <td>NaN</td>\n",
       "      <td>NaN</td>\n",
       "      <td>NaN</td>\n",
       "      <td>NaN</td>\n",
       "      <td>NaN</td>\n",
       "      <td>NaN</td>\n",
       "      <td>NaN</td>\n",
       "      <td>...</td>\n",
       "      <td>NaN</td>\n",
       "      <td>NaN</td>\n",
       "      <td>NaN</td>\n",
       "      <td>NaN</td>\n",
       "      <td>NaN</td>\n",
       "      <td>NaN</td>\n",
       "      <td>NaN</td>\n",
       "      <td>NaN</td>\n",
       "      <td>NaN</td>\n",
       "      <td>NaN</td>\n",
       "    </tr>\n",
       "    <tr>\n",
       "      <th>7328</th>\n",
       "      <td>NaN</td>\n",
       "      <td>NaN</td>\n",
       "      <td>NaN</td>\n",
       "      <td>NaN</td>\n",
       "      <td>NaN</td>\n",
       "      <td>NaN</td>\n",
       "      <td>NaN</td>\n",
       "      <td>NaN</td>\n",
       "      <td>NaN</td>\n",
       "      <td>NaN</td>\n",
       "      <td>...</td>\n",
       "      <td>NaN</td>\n",
       "      <td>NaN</td>\n",
       "      <td>NaN</td>\n",
       "      <td>NaN</td>\n",
       "      <td>NaN</td>\n",
       "      <td>NaN</td>\n",
       "      <td>NaN</td>\n",
       "      <td>NaN</td>\n",
       "      <td>NaN</td>\n",
       "      <td>NaN</td>\n",
       "    </tr>\n",
       "    <tr>\n",
       "      <th>7329</th>\n",
       "      <td>NaN</td>\n",
       "      <td>NaN</td>\n",
       "      <td>NaN</td>\n",
       "      <td>NaN</td>\n",
       "      <td>NaN</td>\n",
       "      <td>NaN</td>\n",
       "      <td>NaN</td>\n",
       "      <td>NaN</td>\n",
       "      <td>NaN</td>\n",
       "      <td>NaN</td>\n",
       "      <td>...</td>\n",
       "      <td>NaN</td>\n",
       "      <td>NaN</td>\n",
       "      <td>NaN</td>\n",
       "      <td>NaN</td>\n",
       "      <td>NaN</td>\n",
       "      <td>NaN</td>\n",
       "      <td>NaN</td>\n",
       "      <td>NaN</td>\n",
       "      <td>NaN</td>\n",
       "      <td>NaN</td>\n",
       "    </tr>\n",
       "    <tr>\n",
       "      <th>7330</th>\n",
       "      <td>NaN</td>\n",
       "      <td>NaN</td>\n",
       "      <td>NaN</td>\n",
       "      <td>NaN</td>\n",
       "      <td>NaN</td>\n",
       "      <td>NaN</td>\n",
       "      <td>NaN</td>\n",
       "      <td>NaN</td>\n",
       "      <td>NaN</td>\n",
       "      <td>NaN</td>\n",
       "      <td>...</td>\n",
       "      <td>NaN</td>\n",
       "      <td>NaN</td>\n",
       "      <td>NaN</td>\n",
       "      <td>NaN</td>\n",
       "      <td>NaN</td>\n",
       "      <td>NaN</td>\n",
       "      <td>NaN</td>\n",
       "      <td>NaN</td>\n",
       "      <td>NaN</td>\n",
       "      <td>NaN</td>\n",
       "    </tr>\n",
       "  </tbody>\n",
       "</table>\n",
       "<p>7331 rows × 67 columns</p>\n",
       "</div>"
      ],
      "text/plain": [
       "     skill_id object_id object_locked object_first_time_unlocked  \\\n",
       "0         NaN       NaN           NaN                        NaN   \n",
       "1         NaN       NaN           NaN                        NaN   \n",
       "2         NaN       NaN           NaN                        NaN   \n",
       "3         NaN       NaN           NaN                        NaN   \n",
       "4         NaN       NaN           NaN                        NaN   \n",
       "...       ...       ...           ...                        ...   \n",
       "7326      NaN       NaN           NaN                        NaN   \n",
       "7327      NaN       NaN           NaN                        NaN   \n",
       "7328      NaN       NaN           NaN                        NaN   \n",
       "7329      NaN       NaN           NaN                        NaN   \n",
       "7330      NaN       NaN           NaN                        NaN   \n",
       "\n",
       "     scan_start_point scan_end_point object_scan_result animatic_id  \\\n",
       "0                 NaN            NaN                NaN         NaN   \n",
       "1                 NaN            NaN                NaN         NaN   \n",
       "2                 NaN            NaN                NaN         NaN   \n",
       "3                 NaN            NaN                NaN         NaN   \n",
       "4                 NaN            NaN                NaN         NaN   \n",
       "...               ...            ...                ...         ...   \n",
       "7326              NaN            NaN                NaN         NaN   \n",
       "7327              NaN            NaN                NaN         NaN   \n",
       "7328              NaN            NaN                NaN         NaN   \n",
       "7329              NaN            NaN                NaN         NaN   \n",
       "7330              NaN            NaN                NaN         NaN   \n",
       "\n",
       "     avatar_gender avatar_name  ... clip3_validity opponent_attack_id  \\\n",
       "0              NaN         NaN  ...            NaN                NaN   \n",
       "1              NaN         NaN  ...            NaN                NaN   \n",
       "2              NaN         NaN  ...            NaN                NaN   \n",
       "3              NaN         NaN  ...            NaN                NaN   \n",
       "4              NaN         NaN  ...            NaN                NaN   \n",
       "...            ...         ...  ...            ...                ...   \n",
       "7326           NaN         NaN  ...            NaN                NaN   \n",
       "7327           NaN         NaN  ...            NaN                NaN   \n",
       "7328           NaN         NaN  ...            NaN                NaN   \n",
       "7329           NaN         NaN  ...            NaN                NaN   \n",
       "7330           NaN         NaN  ...            NaN                NaN   \n",
       "\n",
       "     chosen_opponent_attack_type_id strategy_id piece_id_2 piece1_id  \\\n",
       "0                               NaN         NaN        NaN       NaN   \n",
       "1                               NaN         NaN        NaN       NaN   \n",
       "2                               NaN         NaN        NaN       NaN   \n",
       "3                               NaN         NaN        NaN       NaN   \n",
       "4                               NaN         NaN        NaN       NaN   \n",
       "...                             ...         ...        ...       ...   \n",
       "7326                            NaN         NaN        NaN       NaN   \n",
       "7327                            NaN         NaN        NaN       NaN   \n",
       "7328                            NaN         NaN        NaN       NaN   \n",
       "7329                            NaN         NaN        NaN       NaN   \n",
       "7330                            NaN         NaN        NaN       NaN   \n",
       "\n",
       "     piece2_id piece3_id priority_type_that_went_to_zero  \\\n",
       "0          NaN       NaN                             NaN   \n",
       "1          NaN       NaN                             NaN   \n",
       "2          NaN       NaN                             NaN   \n",
       "3          NaN       NaN                             NaN   \n",
       "4          NaN       NaN                             NaN   \n",
       "...        ...       ...                             ...   \n",
       "7326       NaN       NaN                             NaN   \n",
       "7327       NaN       NaN                             NaN   \n",
       "7328       NaN       NaN                             NaN   \n",
       "7329       NaN       NaN                             NaN   \n",
       "7330       NaN       NaN                             NaN   \n",
       "\n",
       "     item_locked_unlocked_state  \n",
       "0                           NaN  \n",
       "1                           NaN  \n",
       "2                           NaN  \n",
       "3                           NaN  \n",
       "4                           NaN  \n",
       "...                         ...  \n",
       "7326                        NaN  \n",
       "7327                        NaN  \n",
       "7328                        NaN  \n",
       "7329                        NaN  \n",
       "7330                        NaN  \n",
       "\n",
       "[7331 rows x 67 columns]"
      ]
     },
     "execution_count": 5,
     "metadata": {},
     "output_type": "execute_result"
    }
   ],
   "source": [
    "player_1_notNull = player1_log.iloc[:, 15:]\n",
    "player_1_notNull[player_1_notNull.notna() == True & player_1_notNull.columns.str.contains(\"_id\")].select_dtypes(exclude = 'float')\n"
   ]
  },
  {
   "cell_type": "code",
   "execution_count": 6,
   "metadata": {},
   "outputs": [
    {
     "data": {
      "text/plain": [
       "skill_level_know                   float64\n",
       "skill_level_priority               float64\n",
       "skill_level_people                 float64\n",
       "skill_level_refusal                float64\n",
       "skill_level_me                     float64\n",
       "                                    ...   \n",
       "old_rating                         float64\n",
       "new_rating                         float64\n",
       "priority_type_that_went_to_zero     object\n",
       "epilogue_item_id                   float64\n",
       "item_locked_unlocked_state          object\n",
       "Length: 117, dtype: object"
      ]
     },
     "execution_count": 6,
     "metadata": {},
     "output_type": "execute_result"
    }
   ],
   "source": [
    "player_1_notNull.dtypes"
   ]
  },
  {
   "cell_type": "code",
   "execution_count": 7,
   "metadata": {},
   "outputs": [
    {
     "data": {
      "text/plain": [
       "event_type                         7331\n",
       "name_of_file                       7331\n",
       "minigame_level                     3857\n",
       "starter_statement_id                915\n",
       "npc_id                              885\n",
       "scan_start_point                    712\n",
       "scan_end_point                      712\n",
       "priority_type                       611\n",
       "opportunity_card_id                 519\n",
       "object_id                           497\n",
       "card_id                             487\n",
       "npc_fact_data_type                  480\n",
       "pan_scene_start_left                426\n",
       "pan_scene_end_left                  426\n",
       "object_scan_result                  336\n",
       "invitation_id                       297\n",
       "fact_card_id                        289\n",
       "sense_id                            233\n",
       "opponent_its_on_statement_id        225\n",
       "inviting_npc_id                     198\n",
       "inviting_npc_rank_id                198\n",
       "aa_level_id                         184\n",
       "object_first_time_unlocked          161\n",
       "object_locked                       161\n",
       "chunk_id                            157\n",
       "piece_id                            157\n",
       "minigame_id                         110\n",
       "strategy_id                         107\n",
       "validity                            107\n",
       "strike                               99\n",
       "points_lost_gained                   99\n",
       "chosen_response                      99\n",
       "choice_id                            95\n",
       "cred_lost_gained                     93\n",
       "influence_id                         89\n",
       "previous_rank_id                     88\n",
       "new_rank_id                          88\n",
       "amount_lost                          84\n",
       "losing_priority_type                 84\n",
       "resulting_priority_type              84\n",
       "priority_protected_true_false        84\n",
       "gaining_priority_type                84\n",
       "amount_gained                        84\n",
       "starting_screen_pan_position_h       83\n",
       "ending_screen_pan_position_h         83\n",
       "ending_screen_pan_position_w         83\n",
       "starting_screen_pan_position_x       83\n",
       "ending_screen_pan_position_x         83\n",
       "ending_screen_pan_position_y         83\n",
       "starting_screen_pan_position_w       83\n",
       "starting_screen_pan_position_y       83\n",
       "piece_id_2                           71\n",
       "animatic_id                          70\n",
       "old_choice_id                        62\n",
       "priority_type_2                      60\n",
       "new_choice_id                        55\n",
       "players_chosen_response_id           45\n",
       "animatic_time_left                   35\n",
       "animatic_time_elapsed                35\n",
       "player_point_loss                    33\n",
       "skill_level_know                     32\n",
       "skill_level_priority                 32\n",
       "skill_level_refusal                  32\n",
       "skill_level_me                       32\n",
       "skill_level_people                   32\n",
       "answer_validity                      29\n",
       "stop_think_id                        25\n",
       "old_skill_point                      23\n",
       "new_skill_point                      23\n",
       "skill_id                             23\n",
       "stars_for_this_level_old             21\n",
       "opponent_attack_id                   21\n",
       "chosen_opponent_attack_type_id       21\n",
       "stars_for_this_level_new             21\n",
       "chosen_fact_card_id                  20\n",
       "opponent_point_loss                  18\n",
       "strategy_strength                    18\n",
       "piece1_id                            18\n",
       "piece2_id                            18\n",
       "piece3_id                            18\n",
       "player_won                           15\n",
       "epilogue_item_id                     14\n",
       "intention_id                         11\n",
       "clip1_validity                       10\n",
       "clip3_validity                       10\n",
       "influence_id3                        10\n",
       "clip2_validity                       10\n",
       "influence_id2                        10\n",
       "influence_id1                        10\n",
       "total_points                          8\n",
       "total_strikes                         8\n",
       "missed_safe_invitations               8\n",
       "accepted_unsafe_invitations           8\n",
       "player_points                         7\n",
       "opponent_points                       7\n",
       "real_date_time                        7\n",
       "json_gamestate_dump                   7\n",
       "goal2_achieved_amount                 7\n",
       "goal_1_priority_type                  7\n",
       "goal1_amount                          7\n",
       "goal1_achieved_amount                 7\n",
       "goal_2_priority_type                  7\n",
       "goal2_amount                          7\n",
       "proportion_complete                   7\n",
       "item_locked_unlocked_states           7\n",
       "item_locked_unlocked_state            6\n",
       "players_cred_total                    6\n",
       "new_label                             5\n",
       "draws_remaining                       5\n",
       "old_rating                            4\n",
       "new_rating                            4\n",
       "avatar_age                            2\n",
       "avatar_id                             2\n",
       "priority_type_that_went_to_zero       2\n",
       "avatar_gender                         2\n",
       "old_label                             1\n",
       "avatar_name                           1\n",
       "dtype: int64"
      ]
     },
     "execution_count": 7,
     "metadata": {},
     "output_type": "execute_result"
    }
   ],
   "source": [
    "pd.options.display.max_rows = 4000\n",
    "p = player1_log.iloc[:, 15:].notna().sum()\n",
    "p.sort_values(ascending = False)"
   ]
  },
  {
   "cell_type": "code",
   "execution_count": 8,
   "metadata": {},
   "outputs": [
    {
     "data": {
      "text/plain": [
       "array([ 600,  601,  602,  603,  604,  605,  210,  211,  213,  212,  207,\n",
       "        205,  221,  220,  300,  305,  302,  303,  304,  306,  203,  100,\n",
       "        102,  200,  219,  216,  217,  218,  204, 1003, 1004,  900,  901,\n",
       "        904, 1002,  902,  903,  905,  906,  907,  908,  909,  910,  911,\n",
       "       1005, 1001,  800,  801,  814,  815,  816,  803,  804,  805,  806,\n",
       "        807,  808,  809,  810,  818,  811,  400,  401,  402,  405,  406,\n",
       "        411,  403,  404,  412,  413,  414,  415,  416,  417,  418,  419,\n",
       "        407,  408,  420, 1000,  409,  410,  103,  104,  105,  703,  706,\n",
       "        707,    1,  708,  500,  501,  502,  503,  504,  505,  506,  507,\n",
       "        508,  509,  510,  511,  512,  513,  514,  515,  516,  517,  301,\n",
       "        704,  705,  101,  817,  912,  812,  813])"
      ]
     },
     "execution_count": 8,
     "metadata": {},
     "output_type": "execute_result"
    }
   ],
   "source": [
    "player1_log[\"event_id\"].unique()"
   ]
  },
  {
   "cell_type": "markdown",
   "metadata": {},
   "source": [
    "## Analysing correct choices\n",
    "| event_category      | event_id           | event_description  | validity |\n",
    "| ------------- |:-------------:| :-----:| -----:|\n",
    "| Knowledge Minigame      | 402 | Player selects \"True\" | true or false |\n",
    "| Knowledge Minigame      | 403      |  Player selects \"False\" |  |"
   ]
  },
  {
   "cell_type": "code",
   "execution_count": 9,
   "metadata": {},
   "outputs": [
    {
     "data": {
      "text/html": [
       "<div>\n",
       "<style scoped>\n",
       "    .dataframe tbody tr th:only-of-type {\n",
       "        vertical-align: middle;\n",
       "    }\n",
       "\n",
       "    .dataframe tbody tr th {\n",
       "        vertical-align: top;\n",
       "    }\n",
       "\n",
       "    .dataframe thead th {\n",
       "        text-align: right;\n",
       "    }\n",
       "</style>\n",
       "<table border=\"1\" class=\"dataframe\">\n",
       "  <thead>\n",
       "    <tr style=\"text-align: right;\">\n",
       "      <th></th>\n",
       "      <th>player_id</th>\n",
       "      <th>date</th>\n",
       "      <th>event_id</th>\n",
       "      <th>event_category</th>\n",
       "      <th>event_description</th>\n",
       "      <th>validity</th>\n",
       "    </tr>\n",
       "  </thead>\n",
       "  <tbody>\n",
       "    <tr>\n",
       "      <th>1288</th>\n",
       "      <td>6427001</td>\n",
       "      <td>2013-03-07</td>\n",
       "      <td>403</td>\n",
       "      <td>Knowledge Minigame</td>\n",
       "      <td>Player selects \"False\"</td>\n",
       "      <td>true</td>\n",
       "    </tr>\n",
       "    <tr>\n",
       "      <th>1299</th>\n",
       "      <td>6427001</td>\n",
       "      <td>2013-03-07</td>\n",
       "      <td>408</td>\n",
       "      <td>Knowledge Minigame</td>\n",
       "      <td>Player selects \"Use Fact\" to use chosen fact card</td>\n",
       "      <td>false</td>\n",
       "    </tr>\n",
       "    <tr>\n",
       "      <th>1303</th>\n",
       "      <td>6427001</td>\n",
       "      <td>2013-03-07</td>\n",
       "      <td>402</td>\n",
       "      <td>Knowledge Minigame</td>\n",
       "      <td>Player selects \"True\"</td>\n",
       "      <td>true</td>\n",
       "    </tr>\n",
       "    <tr>\n",
       "      <th>1308</th>\n",
       "      <td>6427001</td>\n",
       "      <td>2013-03-07</td>\n",
       "      <td>404</td>\n",
       "      <td>Knowledge Minigame</td>\n",
       "      <td>Player selects \"Opinion\"</td>\n",
       "      <td>true</td>\n",
       "    </tr>\n",
       "    <tr>\n",
       "      <th>1330</th>\n",
       "      <td>6427001</td>\n",
       "      <td>2013-03-07</td>\n",
       "      <td>404</td>\n",
       "      <td>Knowledge Minigame</td>\n",
       "      <td>Player selects \"Opinion\"</td>\n",
       "      <td>false</td>\n",
       "    </tr>\n",
       "    <tr>\n",
       "      <th>...</th>\n",
       "      <td>...</td>\n",
       "      <td>...</td>\n",
       "      <td>...</td>\n",
       "      <td>...</td>\n",
       "      <td>...</td>\n",
       "      <td>...</td>\n",
       "    </tr>\n",
       "    <tr>\n",
       "      <th>2106125</th>\n",
       "      <td>65670032</td>\n",
       "      <td>2013-12-13</td>\n",
       "      <td>408</td>\n",
       "      <td>Knowledge Minigame</td>\n",
       "      <td>Player selects \"Use Fact\" to use chosen fact card</td>\n",
       "      <td>true</td>\n",
       "    </tr>\n",
       "    <tr>\n",
       "      <th>2106148</th>\n",
       "      <td>65670032</td>\n",
       "      <td>2013-12-13</td>\n",
       "      <td>404</td>\n",
       "      <td>Knowledge Minigame</td>\n",
       "      <td>Player selects \"Opinion\"</td>\n",
       "      <td>true</td>\n",
       "    </tr>\n",
       "    <tr>\n",
       "      <th>2106170</th>\n",
       "      <td>65670032</td>\n",
       "      <td>2013-12-13</td>\n",
       "      <td>402</td>\n",
       "      <td>Knowledge Minigame</td>\n",
       "      <td>Player selects \"True\"</td>\n",
       "      <td>true</td>\n",
       "    </tr>\n",
       "    <tr>\n",
       "      <th>2106175</th>\n",
       "      <td>65670032</td>\n",
       "      <td>2013-12-13</td>\n",
       "      <td>403</td>\n",
       "      <td>Knowledge Minigame</td>\n",
       "      <td>Player selects \"False\"</td>\n",
       "      <td>true</td>\n",
       "    </tr>\n",
       "    <tr>\n",
       "      <th>2106195</th>\n",
       "      <td>65670032</td>\n",
       "      <td>2013-12-13</td>\n",
       "      <td>408</td>\n",
       "      <td>Knowledge Minigame</td>\n",
       "      <td>Player selects \"Use Fact\" to use chosen fact card</td>\n",
       "      <td>true</td>\n",
       "    </tr>\n",
       "  </tbody>\n",
       "</table>\n",
       "<p>48128 rows × 6 columns</p>\n",
       "</div>"
      ],
      "text/plain": [
       "         player_id        date  event_id      event_category  \\\n",
       "1288       6427001  2013-03-07       403  Knowledge Minigame   \n",
       "1299       6427001  2013-03-07       408  Knowledge Minigame   \n",
       "1303       6427001  2013-03-07       402  Knowledge Minigame   \n",
       "1308       6427001  2013-03-07       404  Knowledge Minigame   \n",
       "1330       6427001  2013-03-07       404  Knowledge Minigame   \n",
       "...            ...         ...       ...                 ...   \n",
       "2106125   65670032  2013-12-13       408  Knowledge Minigame   \n",
       "2106148   65670032  2013-12-13       404  Knowledge Minigame   \n",
       "2106170   65670032  2013-12-13       402  Knowledge Minigame   \n",
       "2106175   65670032  2013-12-13       403  Knowledge Minigame   \n",
       "2106195   65670032  2013-12-13       408  Knowledge Minigame   \n",
       "\n",
       "                                         event_description validity  \n",
       "1288                                Player selects \"False\"     true  \n",
       "1299     Player selects \"Use Fact\" to use chosen fact card    false  \n",
       "1303                                 Player selects \"True\"     true  \n",
       "1308                              Player selects \"Opinion\"     true  \n",
       "1330                              Player selects \"Opinion\"    false  \n",
       "...                                                    ...      ...  \n",
       "2106125  Player selects \"Use Fact\" to use chosen fact card     true  \n",
       "2106148                           Player selects \"Opinion\"     true  \n",
       "2106170                              Player selects \"True\"     true  \n",
       "2106175                             Player selects \"False\"     true  \n",
       "2106195  Player selects \"Use Fact\" to use chosen fact card     true  \n",
       "\n",
       "[48128 rows x 6 columns]"
      ]
     },
     "execution_count": 9,
     "metadata": {},
     "output_type": "execute_result"
    }
   ],
   "source": [
    "# dataframe for validity check on each action\n",
    "\n",
    "validity_check = log[['player_id', 'date', 'event_id', 'event_category', 'event_description', 'validity']]\n",
    "validity_check = validity_check[validity_check.validity.notnull()]\n",
    "# remove ']' string from end of each boolean\n",
    "validity_check['validity'] = validity_check['validity'].str.strip(']')\n",
    "\n",
    "validity_check.to_csv('validity_check.csv')\n",
    "validity_check"
   ]
  },
  {
   "cell_type": "code",
   "execution_count": 10,
   "metadata": {},
   "outputs": [],
   "source": [
    "survey = pd.read_csv(\"./data_files/S5_scores_cleaned.csv\")"
   ]
  },
  {
   "cell_type": "code",
   "execution_count": 11,
   "metadata": {},
   "outputs": [
    {
     "data": {
      "text/html": [
       "<div>\n",
       "<style scoped>\n",
       "    .dataframe tbody tr th:only-of-type {\n",
       "        vertical-align: middle;\n",
       "    }\n",
       "\n",
       "    .dataframe tbody tr th {\n",
       "        vertical-align: top;\n",
       "    }\n",
       "\n",
       "    .dataframe thead th {\n",
       "        text-align: right;\n",
       "    }\n",
       "</style>\n",
       "<table border=\"1\" class=\"dataframe\">\n",
       "  <thead>\n",
       "    <tr style=\"text-align: right;\">\n",
       "      <th></th>\n",
       "      <th>0</th>\n",
       "      <th>3</th>\n",
       "      <th>6</th>\n",
       "      <th>12</th>\n",
       "      <th>24</th>\n",
       "    </tr>\n",
       "    <tr>\n",
       "      <th>player_id</th>\n",
       "      <th></th>\n",
       "      <th></th>\n",
       "      <th></th>\n",
       "      <th></th>\n",
       "      <th></th>\n",
       "    </tr>\n",
       "  </thead>\n",
       "  <tbody>\n",
       "    <tr>\n",
       "      <th>6427001.0</th>\n",
       "      <td>3.9</td>\n",
       "      <td>3.9</td>\n",
       "      <td>3.875</td>\n",
       "      <td>NaN</td>\n",
       "      <td>NaN</td>\n",
       "    </tr>\n",
       "    <tr>\n",
       "      <th>6427027.0</th>\n",
       "      <td>3.8</td>\n",
       "      <td>4.0</td>\n",
       "      <td>4.000</td>\n",
       "      <td>3.8</td>\n",
       "      <td>3.6</td>\n",
       "    </tr>\n",
       "    <tr>\n",
       "      <th>6427030.0</th>\n",
       "      <td>2.9</td>\n",
       "      <td>3.0</td>\n",
       "      <td>3.200</td>\n",
       "      <td>3.3</td>\n",
       "      <td>3.5</td>\n",
       "    </tr>\n",
       "    <tr>\n",
       "      <th>6427032.0</th>\n",
       "      <td>4.0</td>\n",
       "      <td>3.9</td>\n",
       "      <td>4.000</td>\n",
       "      <td>3.9</td>\n",
       "      <td>3.8</td>\n",
       "    </tr>\n",
       "    <tr>\n",
       "      <th>6427034.0</th>\n",
       "      <td>4.0</td>\n",
       "      <td>3.8</td>\n",
       "      <td>4.000</td>\n",
       "      <td>3.9</td>\n",
       "      <td>4.0</td>\n",
       "    </tr>\n",
       "    <tr>\n",
       "      <th>6427036.0</th>\n",
       "      <td>3.8</td>\n",
       "      <td>3.8</td>\n",
       "      <td>3.700</td>\n",
       "      <td>4.0</td>\n",
       "      <td>NaN</td>\n",
       "    </tr>\n",
       "    <tr>\n",
       "      <th>6427037.0</th>\n",
       "      <td>4.0</td>\n",
       "      <td>NaN</td>\n",
       "      <td>4.000</td>\n",
       "      <td>4.0</td>\n",
       "      <td>NaN</td>\n",
       "    </tr>\n",
       "    <tr>\n",
       "      <th>6427038.0</th>\n",
       "      <td>NaN</td>\n",
       "      <td>NaN</td>\n",
       "      <td>NaN</td>\n",
       "      <td>3.1</td>\n",
       "      <td>NaN</td>\n",
       "    </tr>\n",
       "    <tr>\n",
       "      <th>6427039.0</th>\n",
       "      <td>4.0</td>\n",
       "      <td>4.0</td>\n",
       "      <td>4.000</td>\n",
       "      <td>4.0</td>\n",
       "      <td>4.0</td>\n",
       "    </tr>\n",
       "    <tr>\n",
       "      <th>6427040.0</th>\n",
       "      <td>3.9</td>\n",
       "      <td>3.8</td>\n",
       "      <td>4.000</td>\n",
       "      <td>3.9</td>\n",
       "      <td>NaN</td>\n",
       "    </tr>\n",
       "    <tr>\n",
       "      <th>6427041.0</th>\n",
       "      <td>3.9</td>\n",
       "      <td>3.8</td>\n",
       "      <td>3.000</td>\n",
       "      <td>4.0</td>\n",
       "      <td>3.2</td>\n",
       "    </tr>\n",
       "    <tr>\n",
       "      <th>6429001.0</th>\n",
       "      <td>3.8</td>\n",
       "      <td>NaN</td>\n",
       "      <td>NaN</td>\n",
       "      <td>NaN</td>\n",
       "      <td>NaN</td>\n",
       "    </tr>\n",
       "    <tr>\n",
       "      <th>6430002.0</th>\n",
       "      <td>4.0</td>\n",
       "      <td>4.0</td>\n",
       "      <td>4.000</td>\n",
       "      <td>4.0</td>\n",
       "      <td>4.0</td>\n",
       "    </tr>\n",
       "    <tr>\n",
       "      <th>6430003.0</th>\n",
       "      <td>4.0</td>\n",
       "      <td>4.0</td>\n",
       "      <td>3.700</td>\n",
       "      <td>NaN</td>\n",
       "      <td>NaN</td>\n",
       "    </tr>\n",
       "    <tr>\n",
       "      <th>6430004.0</th>\n",
       "      <td>3.9</td>\n",
       "      <td>3.7</td>\n",
       "      <td>3.900</td>\n",
       "      <td>3.8</td>\n",
       "      <td>NaN</td>\n",
       "    </tr>\n",
       "    <tr>\n",
       "      <th>6430008.0</th>\n",
       "      <td>4.0</td>\n",
       "      <td>3.7</td>\n",
       "      <td>3.700</td>\n",
       "      <td>4.0</td>\n",
       "      <td>3.9</td>\n",
       "    </tr>\n",
       "    <tr>\n",
       "      <th>6486001.0</th>\n",
       "      <td>4.0</td>\n",
       "      <td>NaN</td>\n",
       "      <td>NaN</td>\n",
       "      <td>NaN</td>\n",
       "      <td>3.7</td>\n",
       "    </tr>\n",
       "    <tr>\n",
       "      <th>6486002.0</th>\n",
       "      <td>4.0</td>\n",
       "      <td>4.0</td>\n",
       "      <td>3.800</td>\n",
       "      <td>4.0</td>\n",
       "      <td>3.9</td>\n",
       "    </tr>\n",
       "    <tr>\n",
       "      <th>6486003.0</th>\n",
       "      <td>4.0</td>\n",
       "      <td>4.0</td>\n",
       "      <td>NaN</td>\n",
       "      <td>4.0</td>\n",
       "      <td>4.0</td>\n",
       "    </tr>\n",
       "    <tr>\n",
       "      <th>6486004.0</th>\n",
       "      <td>3.9</td>\n",
       "      <td>3.9</td>\n",
       "      <td>4.000</td>\n",
       "      <td>3.9</td>\n",
       "      <td>NaN</td>\n",
       "    </tr>\n",
       "    <tr>\n",
       "      <th>6486005.0</th>\n",
       "      <td>3.5</td>\n",
       "      <td>3.5</td>\n",
       "      <td>3.600</td>\n",
       "      <td>3.7</td>\n",
       "      <td>4.0</td>\n",
       "    </tr>\n",
       "    <tr>\n",
       "      <th>6486009.0</th>\n",
       "      <td>4.0</td>\n",
       "      <td>3.1</td>\n",
       "      <td>NaN</td>\n",
       "      <td>3.8</td>\n",
       "      <td>NaN</td>\n",
       "    </tr>\n",
       "    <tr>\n",
       "      <th>6486011.0</th>\n",
       "      <td>4.0</td>\n",
       "      <td>4.0</td>\n",
       "      <td>4.000</td>\n",
       "      <td>4.0</td>\n",
       "      <td>NaN</td>\n",
       "    </tr>\n",
       "    <tr>\n",
       "      <th>6486013.0</th>\n",
       "      <td>4.0</td>\n",
       "      <td>NaN</td>\n",
       "      <td>NaN</td>\n",
       "      <td>NaN</td>\n",
       "      <td>NaN</td>\n",
       "    </tr>\n",
       "    <tr>\n",
       "      <th>6486018.0</th>\n",
       "      <td>1.3</td>\n",
       "      <td>3.7</td>\n",
       "      <td>3.100</td>\n",
       "      <td>NaN</td>\n",
       "      <td>NaN</td>\n",
       "    </tr>\n",
       "    <tr>\n",
       "      <th>6486019.0</th>\n",
       "      <td>3.0</td>\n",
       "      <td>4.0</td>\n",
       "      <td>3.900</td>\n",
       "      <td>4.0</td>\n",
       "      <td>NaN</td>\n",
       "    </tr>\n",
       "    <tr>\n",
       "      <th>6486020.0</th>\n",
       "      <td>4.0</td>\n",
       "      <td>NaN</td>\n",
       "      <td>NaN</td>\n",
       "      <td>NaN</td>\n",
       "      <td>NaN</td>\n",
       "    </tr>\n",
       "    <tr>\n",
       "      <th>6486023.0</th>\n",
       "      <td>4.0</td>\n",
       "      <td>3.9</td>\n",
       "      <td>4.000</td>\n",
       "      <td>4.0</td>\n",
       "      <td>NaN</td>\n",
       "    </tr>\n",
       "    <tr>\n",
       "      <th>6486025.0</th>\n",
       "      <td>3.9</td>\n",
       "      <td>NaN</td>\n",
       "      <td>4.000</td>\n",
       "      <td>4.0</td>\n",
       "      <td>NaN</td>\n",
       "    </tr>\n",
       "    <tr>\n",
       "      <th>6486026.0</th>\n",
       "      <td>4.0</td>\n",
       "      <td>4.0</td>\n",
       "      <td>4.000</td>\n",
       "      <td>4.0</td>\n",
       "      <td>NaN</td>\n",
       "    </tr>\n",
       "    <tr>\n",
       "      <th>6486029.0</th>\n",
       "      <td>4.0</td>\n",
       "      <td>4.0</td>\n",
       "      <td>4.000</td>\n",
       "      <td>3.5</td>\n",
       "      <td>NaN</td>\n",
       "    </tr>\n",
       "    <tr>\n",
       "      <th>6486032.0</th>\n",
       "      <td>4.0</td>\n",
       "      <td>4.0</td>\n",
       "      <td>4.000</td>\n",
       "      <td>3.9</td>\n",
       "      <td>NaN</td>\n",
       "    </tr>\n",
       "    <tr>\n",
       "      <th>6486033.0</th>\n",
       "      <td>4.0</td>\n",
       "      <td>4.0</td>\n",
       "      <td>4.000</td>\n",
       "      <td>4.0</td>\n",
       "      <td>NaN</td>\n",
       "    </tr>\n",
       "    <tr>\n",
       "      <th>6486034.0</th>\n",
       "      <td>3.9</td>\n",
       "      <td>NaN</td>\n",
       "      <td>NaN</td>\n",
       "      <td>NaN</td>\n",
       "      <td>NaN</td>\n",
       "    </tr>\n",
       "    <tr>\n",
       "      <th>6486038.0</th>\n",
       "      <td>4.0</td>\n",
       "      <td>4.0</td>\n",
       "      <td>4.000</td>\n",
       "      <td>4.0</td>\n",
       "      <td>NaN</td>\n",
       "    </tr>\n",
       "    <tr>\n",
       "      <th>6486039.0</th>\n",
       "      <td>4.0</td>\n",
       "      <td>4.0</td>\n",
       "      <td>4.000</td>\n",
       "      <td>4.0</td>\n",
       "      <td>NaN</td>\n",
       "    </tr>\n",
       "    <tr>\n",
       "      <th>6486040.0</th>\n",
       "      <td>4.0</td>\n",
       "      <td>NaN</td>\n",
       "      <td>NaN</td>\n",
       "      <td>3.9</td>\n",
       "      <td>NaN</td>\n",
       "    </tr>\n",
       "    <tr>\n",
       "      <th>6506008.0</th>\n",
       "      <td>4.0</td>\n",
       "      <td>NaN</td>\n",
       "      <td>3.900</td>\n",
       "      <td>4.0</td>\n",
       "      <td>3.3</td>\n",
       "    </tr>\n",
       "    <tr>\n",
       "      <th>6506009.0</th>\n",
       "      <td>3.9</td>\n",
       "      <td>NaN</td>\n",
       "      <td>NaN</td>\n",
       "      <td>3.9</td>\n",
       "      <td>4.0</td>\n",
       "    </tr>\n",
       "    <tr>\n",
       "      <th>6546001.0</th>\n",
       "      <td>3.7</td>\n",
       "      <td>3.9</td>\n",
       "      <td>3.875</td>\n",
       "      <td>3.9</td>\n",
       "      <td>3.8</td>\n",
       "    </tr>\n",
       "    <tr>\n",
       "      <th>6546005.0</th>\n",
       "      <td>4.0</td>\n",
       "      <td>3.7</td>\n",
       "      <td>3.700</td>\n",
       "      <td>3.7</td>\n",
       "      <td>3.7</td>\n",
       "    </tr>\n",
       "    <tr>\n",
       "      <th>6546006.0</th>\n",
       "      <td>4.0</td>\n",
       "      <td>4.0</td>\n",
       "      <td>4.000</td>\n",
       "      <td>4.0</td>\n",
       "      <td>4.0</td>\n",
       "    </tr>\n",
       "    <tr>\n",
       "      <th>6546008.0</th>\n",
       "      <td>3.9</td>\n",
       "      <td>4.0</td>\n",
       "      <td>4.000</td>\n",
       "      <td>NaN</td>\n",
       "      <td>NaN</td>\n",
       "    </tr>\n",
       "    <tr>\n",
       "      <th>6546011.0</th>\n",
       "      <td>3.5</td>\n",
       "      <td>3.7</td>\n",
       "      <td>3.800</td>\n",
       "      <td>NaN</td>\n",
       "      <td>NaN</td>\n",
       "    </tr>\n",
       "    <tr>\n",
       "      <th>6546014.0</th>\n",
       "      <td>3.9</td>\n",
       "      <td>3.9</td>\n",
       "      <td>NaN</td>\n",
       "      <td>NaN</td>\n",
       "      <td>NaN</td>\n",
       "    </tr>\n",
       "    <tr>\n",
       "      <th>6566001.0</th>\n",
       "      <td>4.0</td>\n",
       "      <td>4.0</td>\n",
       "      <td>4.000</td>\n",
       "      <td>NaN</td>\n",
       "      <td>NaN</td>\n",
       "    </tr>\n",
       "    <tr>\n",
       "      <th>6566003.0</th>\n",
       "      <td>4.0</td>\n",
       "      <td>4.0</td>\n",
       "      <td>NaN</td>\n",
       "      <td>NaN</td>\n",
       "      <td>NaN</td>\n",
       "    </tr>\n",
       "    <tr>\n",
       "      <th>6567002.0</th>\n",
       "      <td>3.6</td>\n",
       "      <td>4.0</td>\n",
       "      <td>4.000</td>\n",
       "      <td>4.0</td>\n",
       "      <td>4.0</td>\n",
       "    </tr>\n",
       "    <tr>\n",
       "      <th>6567003.0</th>\n",
       "      <td>4.0</td>\n",
       "      <td>4.0</td>\n",
       "      <td>4.000</td>\n",
       "      <td>4.0</td>\n",
       "      <td>4.0</td>\n",
       "    </tr>\n",
       "    <tr>\n",
       "      <th>6567005.0</th>\n",
       "      <td>3.6</td>\n",
       "      <td>NaN</td>\n",
       "      <td>3.100</td>\n",
       "      <td>NaN</td>\n",
       "      <td>NaN</td>\n",
       "    </tr>\n",
       "    <tr>\n",
       "      <th>6606001.0</th>\n",
       "      <td>4.0</td>\n",
       "      <td>3.6</td>\n",
       "      <td>NaN</td>\n",
       "      <td>NaN</td>\n",
       "      <td>NaN</td>\n",
       "    </tr>\n",
       "    <tr>\n",
       "      <th>6606002.0</th>\n",
       "      <td>3.1</td>\n",
       "      <td>NaN</td>\n",
       "      <td>NaN</td>\n",
       "      <td>NaN</td>\n",
       "      <td>NaN</td>\n",
       "    </tr>\n",
       "    <tr>\n",
       "      <th>6606003.0</th>\n",
       "      <td>3.5</td>\n",
       "      <td>3.1</td>\n",
       "      <td>3.800</td>\n",
       "      <td>4.0</td>\n",
       "      <td>4.0</td>\n",
       "    </tr>\n",
       "    <tr>\n",
       "      <th>6606004.0</th>\n",
       "      <td>3.9</td>\n",
       "      <td>4.0</td>\n",
       "      <td>4.000</td>\n",
       "      <td>4.0</td>\n",
       "      <td>4.0</td>\n",
       "    </tr>\n",
       "    <tr>\n",
       "      <th>6606005.0</th>\n",
       "      <td>3.0</td>\n",
       "      <td>4.0</td>\n",
       "      <td>4.000</td>\n",
       "      <td>4.0</td>\n",
       "      <td>NaN</td>\n",
       "    </tr>\n",
       "    <tr>\n",
       "      <th>6606006.0</th>\n",
       "      <td>4.0</td>\n",
       "      <td>4.0</td>\n",
       "      <td>NaN</td>\n",
       "      <td>NaN</td>\n",
       "      <td>NaN</td>\n",
       "    </tr>\n",
       "    <tr>\n",
       "      <th>6606011.0</th>\n",
       "      <td>4.0</td>\n",
       "      <td>3.8</td>\n",
       "      <td>3.800</td>\n",
       "      <td>NaN</td>\n",
       "      <td>NaN</td>\n",
       "    </tr>\n",
       "    <tr>\n",
       "      <th>6607006.0</th>\n",
       "      <td>4.0</td>\n",
       "      <td>NaN</td>\n",
       "      <td>4.000</td>\n",
       "      <td>2.7</td>\n",
       "      <td>4.0</td>\n",
       "    </tr>\n",
       "    <tr>\n",
       "      <th>6607007.0</th>\n",
       "      <td>4.0</td>\n",
       "      <td>4.0</td>\n",
       "      <td>4.000</td>\n",
       "      <td>4.0</td>\n",
       "      <td>4.0</td>\n",
       "    </tr>\n",
       "    <tr>\n",
       "      <th>6607008.0</th>\n",
       "      <td>3.9</td>\n",
       "      <td>NaN</td>\n",
       "      <td>3.900</td>\n",
       "      <td>3.9</td>\n",
       "      <td>3.9</td>\n",
       "    </tr>\n",
       "    <tr>\n",
       "      <th>6607009.0</th>\n",
       "      <td>4.0</td>\n",
       "      <td>4.0</td>\n",
       "      <td>3.900</td>\n",
       "      <td>4.0</td>\n",
       "      <td>4.0</td>\n",
       "    </tr>\n",
       "    <tr>\n",
       "      <th>6607010.0</th>\n",
       "      <td>4.0</td>\n",
       "      <td>4.0</td>\n",
       "      <td>4.000</td>\n",
       "      <td>4.0</td>\n",
       "      <td>4.0</td>\n",
       "    </tr>\n",
       "    <tr>\n",
       "      <th>6608002.0</th>\n",
       "      <td>4.0</td>\n",
       "      <td>4.0</td>\n",
       "      <td>3.900</td>\n",
       "      <td>4.0</td>\n",
       "      <td>4.0</td>\n",
       "    </tr>\n",
       "  </tbody>\n",
       "</table>\n",
       "</div>"
      ],
      "text/plain": [
       "            0    3      6    12   24\n",
       "player_id                           \n",
       "6427001.0  3.9  3.9  3.875  NaN  NaN\n",
       "6427027.0  3.8  4.0  4.000  3.8  3.6\n",
       "6427030.0  2.9  3.0  3.200  3.3  3.5\n",
       "6427032.0  4.0  3.9  4.000  3.9  3.8\n",
       "6427034.0  4.0  3.8  4.000  3.9  4.0\n",
       "6427036.0  3.8  3.8  3.700  4.0  NaN\n",
       "6427037.0  4.0  NaN  4.000  4.0  NaN\n",
       "6427038.0  NaN  NaN    NaN  3.1  NaN\n",
       "6427039.0  4.0  4.0  4.000  4.0  4.0\n",
       "6427040.0  3.9  3.8  4.000  3.9  NaN\n",
       "6427041.0  3.9  3.8  3.000  4.0  3.2\n",
       "6429001.0  3.8  NaN    NaN  NaN  NaN\n",
       "6430002.0  4.0  4.0  4.000  4.0  4.0\n",
       "6430003.0  4.0  4.0  3.700  NaN  NaN\n",
       "6430004.0  3.9  3.7  3.900  3.8  NaN\n",
       "6430008.0  4.0  3.7  3.700  4.0  3.9\n",
       "6486001.0  4.0  NaN    NaN  NaN  3.7\n",
       "6486002.0  4.0  4.0  3.800  4.0  3.9\n",
       "6486003.0  4.0  4.0    NaN  4.0  4.0\n",
       "6486004.0  3.9  3.9  4.000  3.9  NaN\n",
       "6486005.0  3.5  3.5  3.600  3.7  4.0\n",
       "6486009.0  4.0  3.1    NaN  3.8  NaN\n",
       "6486011.0  4.0  4.0  4.000  4.0  NaN\n",
       "6486013.0  4.0  NaN    NaN  NaN  NaN\n",
       "6486018.0  1.3  3.7  3.100  NaN  NaN\n",
       "6486019.0  3.0  4.0  3.900  4.0  NaN\n",
       "6486020.0  4.0  NaN    NaN  NaN  NaN\n",
       "6486023.0  4.0  3.9  4.000  4.0  NaN\n",
       "6486025.0  3.9  NaN  4.000  4.0  NaN\n",
       "6486026.0  4.0  4.0  4.000  4.0  NaN\n",
       "6486029.0  4.0  4.0  4.000  3.5  NaN\n",
       "6486032.0  4.0  4.0  4.000  3.9  NaN\n",
       "6486033.0  4.0  4.0  4.000  4.0  NaN\n",
       "6486034.0  3.9  NaN    NaN  NaN  NaN\n",
       "6486038.0  4.0  4.0  4.000  4.0  NaN\n",
       "6486039.0  4.0  4.0  4.000  4.0  NaN\n",
       "6486040.0  4.0  NaN    NaN  3.9  NaN\n",
       "6506008.0  4.0  NaN  3.900  4.0  3.3\n",
       "6506009.0  3.9  NaN    NaN  3.9  4.0\n",
       "6546001.0  3.7  3.9  3.875  3.9  3.8\n",
       "6546005.0  4.0  3.7  3.700  3.7  3.7\n",
       "6546006.0  4.0  4.0  4.000  4.0  4.0\n",
       "6546008.0  3.9  4.0  4.000  NaN  NaN\n",
       "6546011.0  3.5  3.7  3.800  NaN  NaN\n",
       "6546014.0  3.9  3.9    NaN  NaN  NaN\n",
       "6566001.0  4.0  4.0  4.000  NaN  NaN\n",
       "6566003.0  4.0  4.0    NaN  NaN  NaN\n",
       "6567002.0  3.6  4.0  4.000  4.0  4.0\n",
       "6567003.0  4.0  4.0  4.000  4.0  4.0\n",
       "6567005.0  3.6  NaN  3.100  NaN  NaN\n",
       "6606001.0  4.0  3.6    NaN  NaN  NaN\n",
       "6606002.0  3.1  NaN    NaN  NaN  NaN\n",
       "6606003.0  3.5  3.1  3.800  4.0  4.0\n",
       "6606004.0  3.9  4.0  4.000  4.0  4.0\n",
       "6606005.0  3.0  4.0  4.000  4.0  NaN\n",
       "6606006.0  4.0  4.0    NaN  NaN  NaN\n",
       "6606011.0  4.0  3.8  3.800  NaN  NaN\n",
       "6607006.0  4.0  NaN  4.000  2.7  4.0\n",
       "6607007.0  4.0  4.0  4.000  4.0  4.0\n",
       "6607008.0  3.9  NaN  3.900  3.9  3.9\n",
       "6607009.0  4.0  4.0  3.900  4.0  4.0\n",
       "6607010.0  4.0  4.0  4.000  4.0  4.0\n",
       "6608002.0  4.0  4.0  3.900  4.0  4.0"
      ]
     },
     "execution_count": 11,
     "metadata": {},
     "output_type": "execute_result"
    }
   ],
   "source": [
    "survey_pivot = survey.pivot_table(values='S5_mean', columns='weeks', index = \"player_id\")\n",
    "survey_pivot.columns.name = None\n",
    "survey_pivot\n"
   ]
  },
  {
   "cell_type": "code",
   "execution_count": 12,
   "metadata": {},
   "outputs": [
    {
     "data": {
      "application/vnd.plotly.v1+json": {
       "config": {
        "plotlyServerURL": "https://plot.ly"
       },
       "data": [
        {
         "alignmentgroup": "True",
         "hovertemplate": "weeks=%{x}<br>S5_mean=%{y}<extra></extra>",
         "legendgroup": "0",
         "marker": {
          "color": "#636efa"
         },
         "name": "0",
         "notched": false,
         "offsetgroup": "0",
         "orientation": "v",
         "showlegend": true,
         "type": "box",
         "x": [
          0,
          0,
          0,
          0,
          0,
          0,
          0,
          0,
          0,
          0,
          0,
          0,
          0,
          0,
          0,
          0,
          0,
          0,
          0,
          0,
          0,
          0,
          0,
          0,
          0,
          0,
          0,
          0,
          0,
          0,
          0,
          0,
          0,
          0,
          0,
          0,
          0,
          0,
          0,
          0,
          0,
          0,
          0,
          0,
          0,
          0,
          0,
          0,
          0,
          0,
          0,
          0,
          0,
          0,
          0,
          0,
          0,
          0,
          0,
          0,
          0,
          0,
          0,
          0,
          0
         ],
         "x0": " ",
         "xaxis": "x",
         "y": [
          3.9,
          3.8,
          2.9,
          4,
          4,
          3.8,
          4,
          4,
          3.9,
          3.9,
          3.8,
          4,
          4,
          3.9,
          4,
          4,
          4,
          4,
          3.9,
          3.5,
          4,
          4,
          4,
          1.3,
          3,
          4,
          4,
          3.9,
          4,
          4,
          4,
          4,
          3.9,
          4,
          4,
          4,
          4,
          3.9,
          3.7,
          4,
          4,
          3.9,
          3.5,
          3.9,
          4,
          4,
          3.6,
          4,
          3.6,
          4,
          3.1,
          3.5,
          3.9,
          3,
          4,
          4,
          4,
          4,
          3.9,
          4,
          4,
          4,
          3.8,
          3.9,
          3.9
         ],
         "y0": " ",
         "yaxis": "y"
        },
        {
         "alignmentgroup": "True",
         "hovertemplate": "weeks=%{x}<br>S5_mean=%{y}<extra></extra>",
         "legendgroup": "3",
         "marker": {
          "color": "#EF553B"
         },
         "name": "3",
         "notched": false,
         "offsetgroup": "3",
         "orientation": "v",
         "showlegend": true,
         "type": "box",
         "x": [
          3,
          3,
          3,
          3,
          3,
          3,
          3,
          3,
          3,
          3,
          3,
          3,
          3,
          3,
          3,
          3,
          3,
          3,
          3,
          3,
          3,
          3,
          3,
          3,
          3,
          3,
          3,
          3,
          3,
          3,
          3,
          3,
          3,
          3,
          3,
          3,
          3,
          3,
          3,
          3,
          3,
          3,
          3,
          3,
          3,
          3,
          3,
          3,
          3,
          3,
          3
         ],
         "x0": " ",
         "xaxis": "x",
         "y": [
          3.9,
          4,
          3,
          3.9,
          3.8,
          3.8,
          4,
          3.8,
          3.8,
          4,
          4,
          3.7,
          3.7,
          4,
          4,
          3.9,
          3.5,
          3.1,
          4,
          3.7,
          4,
          3.9,
          4,
          4,
          4,
          4,
          4,
          4,
          3.9,
          3.7,
          4,
          4,
          3.7,
          3.9,
          4,
          4,
          4,
          4,
          3.6,
          3.1,
          4,
          4,
          4,
          3.8,
          4,
          4,
          4,
          4,
          3.8,
          4,
          4
         ],
         "y0": " ",
         "yaxis": "y"
        },
        {
         "alignmentgroup": "True",
         "hovertemplate": "weeks=%{x}<br>S5_mean=%{y}<extra></extra>",
         "legendgroup": "6",
         "marker": {
          "color": "#00cc96"
         },
         "name": "6",
         "notched": false,
         "offsetgroup": "6",
         "orientation": "v",
         "showlegend": true,
         "type": "box",
         "x": [
          6,
          6,
          6,
          6,
          6,
          6,
          6,
          6,
          6,
          6,
          6,
          6,
          6,
          6,
          6,
          6,
          6,
          6,
          6,
          6,
          6,
          6,
          6,
          6,
          6,
          6,
          6,
          6,
          6,
          6,
          6,
          6,
          6,
          6,
          6,
          6,
          6,
          6,
          6,
          6,
          6,
          6,
          6,
          6,
          6,
          6,
          6,
          6,
          6,
          6
         ],
         "x0": " ",
         "xaxis": "x",
         "y": [
          3.875,
          4,
          3.2,
          4,
          4,
          3.7,
          4,
          4,
          4,
          3,
          4,
          3.7,
          3.9,
          3.7,
          3.8,
          4,
          3.6,
          4,
          3.1,
          3.9,
          4,
          4,
          4,
          4,
          4,
          4,
          4,
          4,
          3.9,
          3.875,
          3.7,
          4,
          4,
          3.8,
          4,
          4,
          4,
          3.1,
          3.8,
          4,
          4,
          3.8,
          4,
          4,
          3.9,
          3.9,
          4,
          3.9,
          3.5,
          4
         ],
         "y0": " ",
         "yaxis": "y"
        },
        {
         "alignmentgroup": "True",
         "hovertemplate": "weeks=%{x}<br>S5_mean=%{y}<extra></extra>",
         "legendgroup": "12",
         "marker": {
          "color": "#ab63fa"
         },
         "name": "12",
         "notched": false,
         "offsetgroup": "12",
         "orientation": "v",
         "showlegend": true,
         "type": "box",
         "x": [
          12,
          12,
          12,
          12,
          12,
          12,
          12,
          12,
          12,
          12,
          12,
          12,
          12,
          12,
          12,
          12,
          12,
          12,
          12,
          12,
          12,
          12,
          12,
          12,
          12,
          12,
          12,
          12,
          12,
          12,
          12,
          12,
          12,
          12,
          12,
          12,
          12,
          12,
          12,
          12,
          12,
          12,
          12,
          12,
          12,
          12,
          12
         ],
         "x0": " ",
         "xaxis": "x",
         "y": [
          3.8,
          3.3,
          3.9,
          3.9,
          4,
          4,
          3.1,
          4,
          3.9,
          4,
          4,
          3.8,
          4,
          4,
          4,
          3.9,
          3.7,
          3.8,
          4,
          4,
          4,
          4,
          4,
          3.5,
          3.9,
          4,
          4,
          4,
          3.9,
          4,
          3.9,
          3.9,
          3.7,
          4,
          4,
          4,
          4,
          4,
          4,
          2.7,
          4,
          3.9,
          4,
          4,
          4,
          4,
          4
         ],
         "y0": " ",
         "yaxis": "y"
        },
        {
         "alignmentgroup": "True",
         "hovertemplate": "weeks=%{x}<br>S5_mean=%{y}<extra></extra>",
         "legendgroup": "24",
         "marker": {
          "color": "#FFA15A"
         },
         "name": "24",
         "notched": false,
         "offsetgroup": "24",
         "orientation": "v",
         "showlegend": true,
         "type": "box",
         "x": [
          24,
          24,
          24,
          24,
          24,
          24,
          24,
          24,
          24,
          24,
          24,
          24,
          24,
          24,
          24,
          24,
          24,
          24,
          24,
          24,
          24,
          24,
          24,
          24,
          24,
          24,
          24
         ],
         "x0": " ",
         "xaxis": "x",
         "y": [
          3.6,
          3.5,
          3.8,
          4,
          4,
          3.2,
          4,
          3.9,
          3.7,
          3.9,
          4,
          4,
          3.3,
          4,
          3.8,
          3.7,
          4,
          4,
          4,
          4,
          4,
          4,
          4,
          3.9,
          4,
          4,
          4
         ],
         "y0": " ",
         "yaxis": "y"
        }
       ],
       "layout": {
        "boxmode": "overlay",
        "legend": {
         "title": {
          "text": "weeks"
         },
         "tracegroupgap": 0
        },
        "template": {
         "data": {
          "bar": [
           {
            "error_x": {
             "color": "#2a3f5f"
            },
            "error_y": {
             "color": "#2a3f5f"
            },
            "marker": {
             "line": {
              "color": "#E5ECF6",
              "width": 0.5
             },
             "pattern": {
              "fillmode": "overlay",
              "size": 10,
              "solidity": 0.2
             }
            },
            "type": "bar"
           }
          ],
          "barpolar": [
           {
            "marker": {
             "line": {
              "color": "#E5ECF6",
              "width": 0.5
             },
             "pattern": {
              "fillmode": "overlay",
              "size": 10,
              "solidity": 0.2
             }
            },
            "type": "barpolar"
           }
          ],
          "carpet": [
           {
            "aaxis": {
             "endlinecolor": "#2a3f5f",
             "gridcolor": "white",
             "linecolor": "white",
             "minorgridcolor": "white",
             "startlinecolor": "#2a3f5f"
            },
            "baxis": {
             "endlinecolor": "#2a3f5f",
             "gridcolor": "white",
             "linecolor": "white",
             "minorgridcolor": "white",
             "startlinecolor": "#2a3f5f"
            },
            "type": "carpet"
           }
          ],
          "choropleth": [
           {
            "colorbar": {
             "outlinewidth": 0,
             "ticks": ""
            },
            "type": "choropleth"
           }
          ],
          "contour": [
           {
            "colorbar": {
             "outlinewidth": 0,
             "ticks": ""
            },
            "colorscale": [
             [
              0,
              "#0d0887"
             ],
             [
              0.1111111111111111,
              "#46039f"
             ],
             [
              0.2222222222222222,
              "#7201a8"
             ],
             [
              0.3333333333333333,
              "#9c179e"
             ],
             [
              0.4444444444444444,
              "#bd3786"
             ],
             [
              0.5555555555555556,
              "#d8576b"
             ],
             [
              0.6666666666666666,
              "#ed7953"
             ],
             [
              0.7777777777777778,
              "#fb9f3a"
             ],
             [
              0.8888888888888888,
              "#fdca26"
             ],
             [
              1,
              "#f0f921"
             ]
            ],
            "type": "contour"
           }
          ],
          "contourcarpet": [
           {
            "colorbar": {
             "outlinewidth": 0,
             "ticks": ""
            },
            "type": "contourcarpet"
           }
          ],
          "heatmap": [
           {
            "colorbar": {
             "outlinewidth": 0,
             "ticks": ""
            },
            "colorscale": [
             [
              0,
              "#0d0887"
             ],
             [
              0.1111111111111111,
              "#46039f"
             ],
             [
              0.2222222222222222,
              "#7201a8"
             ],
             [
              0.3333333333333333,
              "#9c179e"
             ],
             [
              0.4444444444444444,
              "#bd3786"
             ],
             [
              0.5555555555555556,
              "#d8576b"
             ],
             [
              0.6666666666666666,
              "#ed7953"
             ],
             [
              0.7777777777777778,
              "#fb9f3a"
             ],
             [
              0.8888888888888888,
              "#fdca26"
             ],
             [
              1,
              "#f0f921"
             ]
            ],
            "type": "heatmap"
           }
          ],
          "heatmapgl": [
           {
            "colorbar": {
             "outlinewidth": 0,
             "ticks": ""
            },
            "colorscale": [
             [
              0,
              "#0d0887"
             ],
             [
              0.1111111111111111,
              "#46039f"
             ],
             [
              0.2222222222222222,
              "#7201a8"
             ],
             [
              0.3333333333333333,
              "#9c179e"
             ],
             [
              0.4444444444444444,
              "#bd3786"
             ],
             [
              0.5555555555555556,
              "#d8576b"
             ],
             [
              0.6666666666666666,
              "#ed7953"
             ],
             [
              0.7777777777777778,
              "#fb9f3a"
             ],
             [
              0.8888888888888888,
              "#fdca26"
             ],
             [
              1,
              "#f0f921"
             ]
            ],
            "type": "heatmapgl"
           }
          ],
          "histogram": [
           {
            "marker": {
             "pattern": {
              "fillmode": "overlay",
              "size": 10,
              "solidity": 0.2
             }
            },
            "type": "histogram"
           }
          ],
          "histogram2d": [
           {
            "colorbar": {
             "outlinewidth": 0,
             "ticks": ""
            },
            "colorscale": [
             [
              0,
              "#0d0887"
             ],
             [
              0.1111111111111111,
              "#46039f"
             ],
             [
              0.2222222222222222,
              "#7201a8"
             ],
             [
              0.3333333333333333,
              "#9c179e"
             ],
             [
              0.4444444444444444,
              "#bd3786"
             ],
             [
              0.5555555555555556,
              "#d8576b"
             ],
             [
              0.6666666666666666,
              "#ed7953"
             ],
             [
              0.7777777777777778,
              "#fb9f3a"
             ],
             [
              0.8888888888888888,
              "#fdca26"
             ],
             [
              1,
              "#f0f921"
             ]
            ],
            "type": "histogram2d"
           }
          ],
          "histogram2dcontour": [
           {
            "colorbar": {
             "outlinewidth": 0,
             "ticks": ""
            },
            "colorscale": [
             [
              0,
              "#0d0887"
             ],
             [
              0.1111111111111111,
              "#46039f"
             ],
             [
              0.2222222222222222,
              "#7201a8"
             ],
             [
              0.3333333333333333,
              "#9c179e"
             ],
             [
              0.4444444444444444,
              "#bd3786"
             ],
             [
              0.5555555555555556,
              "#d8576b"
             ],
             [
              0.6666666666666666,
              "#ed7953"
             ],
             [
              0.7777777777777778,
              "#fb9f3a"
             ],
             [
              0.8888888888888888,
              "#fdca26"
             ],
             [
              1,
              "#f0f921"
             ]
            ],
            "type": "histogram2dcontour"
           }
          ],
          "mesh3d": [
           {
            "colorbar": {
             "outlinewidth": 0,
             "ticks": ""
            },
            "type": "mesh3d"
           }
          ],
          "parcoords": [
           {
            "line": {
             "colorbar": {
              "outlinewidth": 0,
              "ticks": ""
             }
            },
            "type": "parcoords"
           }
          ],
          "pie": [
           {
            "automargin": true,
            "type": "pie"
           }
          ],
          "scatter": [
           {
            "fillpattern": {
             "fillmode": "overlay",
             "size": 10,
             "solidity": 0.2
            },
            "type": "scatter"
           }
          ],
          "scatter3d": [
           {
            "line": {
             "colorbar": {
              "outlinewidth": 0,
              "ticks": ""
             }
            },
            "marker": {
             "colorbar": {
              "outlinewidth": 0,
              "ticks": ""
             }
            },
            "type": "scatter3d"
           }
          ],
          "scattercarpet": [
           {
            "marker": {
             "colorbar": {
              "outlinewidth": 0,
              "ticks": ""
             }
            },
            "type": "scattercarpet"
           }
          ],
          "scattergeo": [
           {
            "marker": {
             "colorbar": {
              "outlinewidth": 0,
              "ticks": ""
             }
            },
            "type": "scattergeo"
           }
          ],
          "scattergl": [
           {
            "marker": {
             "colorbar": {
              "outlinewidth": 0,
              "ticks": ""
             }
            },
            "type": "scattergl"
           }
          ],
          "scattermapbox": [
           {
            "marker": {
             "colorbar": {
              "outlinewidth": 0,
              "ticks": ""
             }
            },
            "type": "scattermapbox"
           }
          ],
          "scatterpolar": [
           {
            "marker": {
             "colorbar": {
              "outlinewidth": 0,
              "ticks": ""
             }
            },
            "type": "scatterpolar"
           }
          ],
          "scatterpolargl": [
           {
            "marker": {
             "colorbar": {
              "outlinewidth": 0,
              "ticks": ""
             }
            },
            "type": "scatterpolargl"
           }
          ],
          "scatterternary": [
           {
            "marker": {
             "colorbar": {
              "outlinewidth": 0,
              "ticks": ""
             }
            },
            "type": "scatterternary"
           }
          ],
          "surface": [
           {
            "colorbar": {
             "outlinewidth": 0,
             "ticks": ""
            },
            "colorscale": [
             [
              0,
              "#0d0887"
             ],
             [
              0.1111111111111111,
              "#46039f"
             ],
             [
              0.2222222222222222,
              "#7201a8"
             ],
             [
              0.3333333333333333,
              "#9c179e"
             ],
             [
              0.4444444444444444,
              "#bd3786"
             ],
             [
              0.5555555555555556,
              "#d8576b"
             ],
             [
              0.6666666666666666,
              "#ed7953"
             ],
             [
              0.7777777777777778,
              "#fb9f3a"
             ],
             [
              0.8888888888888888,
              "#fdca26"
             ],
             [
              1,
              "#f0f921"
             ]
            ],
            "type": "surface"
           }
          ],
          "table": [
           {
            "cells": {
             "fill": {
              "color": "#EBF0F8"
             },
             "line": {
              "color": "white"
             }
            },
            "header": {
             "fill": {
              "color": "#C8D4E3"
             },
             "line": {
              "color": "white"
             }
            },
            "type": "table"
           }
          ]
         },
         "layout": {
          "annotationdefaults": {
           "arrowcolor": "#2a3f5f",
           "arrowhead": 0,
           "arrowwidth": 1
          },
          "autotypenumbers": "strict",
          "coloraxis": {
           "colorbar": {
            "outlinewidth": 0,
            "ticks": ""
           }
          },
          "colorscale": {
           "diverging": [
            [
             0,
             "#8e0152"
            ],
            [
             0.1,
             "#c51b7d"
            ],
            [
             0.2,
             "#de77ae"
            ],
            [
             0.3,
             "#f1b6da"
            ],
            [
             0.4,
             "#fde0ef"
            ],
            [
             0.5,
             "#f7f7f7"
            ],
            [
             0.6,
             "#e6f5d0"
            ],
            [
             0.7,
             "#b8e186"
            ],
            [
             0.8,
             "#7fbc41"
            ],
            [
             0.9,
             "#4d9221"
            ],
            [
             1,
             "#276419"
            ]
           ],
           "sequential": [
            [
             0,
             "#0d0887"
            ],
            [
             0.1111111111111111,
             "#46039f"
            ],
            [
             0.2222222222222222,
             "#7201a8"
            ],
            [
             0.3333333333333333,
             "#9c179e"
            ],
            [
             0.4444444444444444,
             "#bd3786"
            ],
            [
             0.5555555555555556,
             "#d8576b"
            ],
            [
             0.6666666666666666,
             "#ed7953"
            ],
            [
             0.7777777777777778,
             "#fb9f3a"
            ],
            [
             0.8888888888888888,
             "#fdca26"
            ],
            [
             1,
             "#f0f921"
            ]
           ],
           "sequentialminus": [
            [
             0,
             "#0d0887"
            ],
            [
             0.1111111111111111,
             "#46039f"
            ],
            [
             0.2222222222222222,
             "#7201a8"
            ],
            [
             0.3333333333333333,
             "#9c179e"
            ],
            [
             0.4444444444444444,
             "#bd3786"
            ],
            [
             0.5555555555555556,
             "#d8576b"
            ],
            [
             0.6666666666666666,
             "#ed7953"
            ],
            [
             0.7777777777777778,
             "#fb9f3a"
            ],
            [
             0.8888888888888888,
             "#fdca26"
            ],
            [
             1,
             "#f0f921"
            ]
           ]
          },
          "colorway": [
           "#636efa",
           "#EF553B",
           "#00cc96",
           "#ab63fa",
           "#FFA15A",
           "#19d3f3",
           "#FF6692",
           "#B6E880",
           "#FF97FF",
           "#FECB52"
          ],
          "font": {
           "color": "#2a3f5f"
          },
          "geo": {
           "bgcolor": "white",
           "lakecolor": "white",
           "landcolor": "#E5ECF6",
           "showlakes": true,
           "showland": true,
           "subunitcolor": "white"
          },
          "hoverlabel": {
           "align": "left"
          },
          "hovermode": "closest",
          "mapbox": {
           "style": "light"
          },
          "paper_bgcolor": "white",
          "plot_bgcolor": "#E5ECF6",
          "polar": {
           "angularaxis": {
            "gridcolor": "white",
            "linecolor": "white",
            "ticks": ""
           },
           "bgcolor": "#E5ECF6",
           "radialaxis": {
            "gridcolor": "white",
            "linecolor": "white",
            "ticks": ""
           }
          },
          "scene": {
           "xaxis": {
            "backgroundcolor": "#E5ECF6",
            "gridcolor": "white",
            "gridwidth": 2,
            "linecolor": "white",
            "showbackground": true,
            "ticks": "",
            "zerolinecolor": "white"
           },
           "yaxis": {
            "backgroundcolor": "#E5ECF6",
            "gridcolor": "white",
            "gridwidth": 2,
            "linecolor": "white",
            "showbackground": true,
            "ticks": "",
            "zerolinecolor": "white"
           },
           "zaxis": {
            "backgroundcolor": "#E5ECF6",
            "gridcolor": "white",
            "gridwidth": 2,
            "linecolor": "white",
            "showbackground": true,
            "ticks": "",
            "zerolinecolor": "white"
           }
          },
          "shapedefaults": {
           "line": {
            "color": "#2a3f5f"
           }
          },
          "ternary": {
           "aaxis": {
            "gridcolor": "white",
            "linecolor": "white",
            "ticks": ""
           },
           "baxis": {
            "gridcolor": "white",
            "linecolor": "white",
            "ticks": ""
           },
           "bgcolor": "#E5ECF6",
           "caxis": {
            "gridcolor": "white",
            "linecolor": "white",
            "ticks": ""
           }
          },
          "title": {
           "x": 0.05
          },
          "xaxis": {
           "automargin": true,
           "gridcolor": "white",
           "linecolor": "white",
           "ticks": "",
           "title": {
            "standoff": 15
           },
           "zerolinecolor": "white",
           "zerolinewidth": 2
          },
          "yaxis": {
           "automargin": true,
           "gridcolor": "white",
           "linecolor": "white",
           "ticks": "",
           "title": {
            "standoff": 15
           },
           "zerolinecolor": "white",
           "zerolinewidth": 2
          }
         }
        },
        "title": {
         "text": "Boxplot of means scores over the weeks"
        },
        "xaxis": {
         "anchor": "y",
         "categoryarray": [
          0,
          3,
          6,
          12,
          24
         ],
         "categoryorder": "array",
         "domain": [
          0,
          1
         ],
         "title": {
          "text": "weeks"
         },
         "type": "category"
        },
        "yaxis": {
         "anchor": "x",
         "domain": [
          0,
          1
         ],
         "title": {
          "text": "S5_mean"
         }
        }
       }
      }
     },
     "metadata": {},
     "output_type": "display_data"
    }
   ],
   "source": [
    "survey_scores = pd.read_csv(\"./data_files/S5_scores_cleaned.csv\").fillna(0)\n",
    "survey_scores['weeks'] = survey_scores['weeks']\n",
    "fig = px.box(survey_scores, x ='weeks', y=\"S5_mean\", color='weeks', title= 'Boxplot of means scores over the weeks')\n",
    "fig.update_xaxes(type='category') # hide dates with no values\n",
    "fig.show()"
   ]
  },
  {
   "cell_type": "code",
   "execution_count": 13,
   "metadata": {},
   "outputs": [
    {
     "data": {
      "application/vnd.plotly.v1+json": {
       "config": {
        "plotlyServerURL": "https://plot.ly"
       },
       "data": [
        {
         "hovertemplate": "player_id=6427001.0<br>weeks=%{x}<br>S5_mean=%{y}<extra></extra>",
         "legendgroup": "6427001.0",
         "line": {
          "color": "#636efa",
          "dash": "solid"
         },
         "marker": {
          "symbol": "circle"
         },
         "mode": "lines+markers",
         "name": "6427001.0",
         "orientation": "v",
         "showlegend": true,
         "type": "scatter",
         "x": [
          0,
          3,
          6
         ],
         "xaxis": "x",
         "y": [
          3.9,
          3.9,
          3.875
         ],
         "yaxis": "y"
        },
        {
         "hovertemplate": "player_id=6427027.0<br>weeks=%{x}<br>S5_mean=%{y}<extra></extra>",
         "legendgroup": "6427027.0",
         "line": {
          "color": "#EF553B",
          "dash": "solid"
         },
         "marker": {
          "symbol": "circle"
         },
         "mode": "lines+markers",
         "name": "6427027.0",
         "orientation": "v",
         "showlegend": true,
         "type": "scatter",
         "x": [
          0,
          3,
          6,
          12,
          24
         ],
         "xaxis": "x",
         "y": [
          3.8,
          4,
          4,
          3.8,
          3.6
         ],
         "yaxis": "y"
        },
        {
         "hovertemplate": "player_id=6427030.0<br>weeks=%{x}<br>S5_mean=%{y}<extra></extra>",
         "legendgroup": "6427030.0",
         "line": {
          "color": "#00cc96",
          "dash": "solid"
         },
         "marker": {
          "symbol": "circle"
         },
         "mode": "lines+markers",
         "name": "6427030.0",
         "orientation": "v",
         "showlegend": true,
         "type": "scatter",
         "x": [
          0,
          3,
          6,
          12,
          24
         ],
         "xaxis": "x",
         "y": [
          2.9,
          3,
          3.2,
          3.3,
          3.5
         ],
         "yaxis": "y"
        },
        {
         "hovertemplate": "player_id=6427032.0<br>weeks=%{x}<br>S5_mean=%{y}<extra></extra>",
         "legendgroup": "6427032.0",
         "line": {
          "color": "#ab63fa",
          "dash": "solid"
         },
         "marker": {
          "symbol": "circle"
         },
         "mode": "lines+markers",
         "name": "6427032.0",
         "orientation": "v",
         "showlegend": true,
         "type": "scatter",
         "x": [
          0,
          3,
          6,
          12,
          24
         ],
         "xaxis": "x",
         "y": [
          4,
          3.9,
          4,
          3.9,
          3.8
         ],
         "yaxis": "y"
        },
        {
         "hovertemplate": "player_id=6427034.0<br>weeks=%{x}<br>S5_mean=%{y}<extra></extra>",
         "legendgroup": "6427034.0",
         "line": {
          "color": "#FFA15A",
          "dash": "solid"
         },
         "marker": {
          "symbol": "circle"
         },
         "mode": "lines+markers",
         "name": "6427034.0",
         "orientation": "v",
         "showlegend": true,
         "type": "scatter",
         "x": [
          0,
          3,
          6,
          12,
          24
         ],
         "xaxis": "x",
         "y": [
          4,
          3.8,
          4,
          3.9,
          4
         ],
         "yaxis": "y"
        },
        {
         "hovertemplate": "player_id=6427036.0<br>weeks=%{x}<br>S5_mean=%{y}<extra></extra>",
         "legendgroup": "6427036.0",
         "line": {
          "color": "#19d3f3",
          "dash": "solid"
         },
         "marker": {
          "symbol": "circle"
         },
         "mode": "lines+markers",
         "name": "6427036.0",
         "orientation": "v",
         "showlegend": true,
         "type": "scatter",
         "x": [
          0,
          3,
          6,
          12
         ],
         "xaxis": "x",
         "y": [
          3.8,
          3.8,
          3.7,
          4
         ],
         "yaxis": "y"
        },
        {
         "hovertemplate": "player_id=6427037.0<br>weeks=%{x}<br>S5_mean=%{y}<extra></extra>",
         "legendgroup": "6427037.0",
         "line": {
          "color": "#FF6692",
          "dash": "solid"
         },
         "marker": {
          "symbol": "circle"
         },
         "mode": "lines+markers",
         "name": "6427037.0",
         "orientation": "v",
         "showlegend": true,
         "type": "scatter",
         "x": [
          0,
          6,
          12
         ],
         "xaxis": "x",
         "y": [
          4,
          4,
          4
         ],
         "yaxis": "y"
        },
        {
         "hovertemplate": "player_id=6427038.0<br>weeks=%{x}<br>S5_mean=%{y}<extra></extra>",
         "legendgroup": "6427038.0",
         "line": {
          "color": "#B6E880",
          "dash": "solid"
         },
         "marker": {
          "symbol": "circle"
         },
         "mode": "lines+markers",
         "name": "6427038.0",
         "orientation": "v",
         "showlegend": true,
         "type": "scatter",
         "x": [
          12
         ],
         "xaxis": "x",
         "y": [
          3.1
         ],
         "yaxis": "y"
        },
        {
         "hovertemplate": "player_id=6427039.0<br>weeks=%{x}<br>S5_mean=%{y}<extra></extra>",
         "legendgroup": "6427039.0",
         "line": {
          "color": "#FF97FF",
          "dash": "solid"
         },
         "marker": {
          "symbol": "circle"
         },
         "mode": "lines+markers",
         "name": "6427039.0",
         "orientation": "v",
         "showlegend": true,
         "type": "scatter",
         "x": [
          0,
          3,
          6,
          12,
          24
         ],
         "xaxis": "x",
         "y": [
          4,
          4,
          4,
          4,
          4
         ],
         "yaxis": "y"
        },
        {
         "hovertemplate": "player_id=6427040.0<br>weeks=%{x}<br>S5_mean=%{y}<extra></extra>",
         "legendgroup": "6427040.0",
         "line": {
          "color": "#FECB52",
          "dash": "solid"
         },
         "marker": {
          "symbol": "circle"
         },
         "mode": "lines+markers",
         "name": "6427040.0",
         "orientation": "v",
         "showlegend": true,
         "type": "scatter",
         "x": [
          0,
          3,
          6,
          12
         ],
         "xaxis": "x",
         "y": [
          3.9,
          3.8,
          4,
          3.9
         ],
         "yaxis": "y"
        },
        {
         "hovertemplate": "player_id=6427041.0<br>weeks=%{x}<br>S5_mean=%{y}<extra></extra>",
         "legendgroup": "6427041.0",
         "line": {
          "color": "#636efa",
          "dash": "solid"
         },
         "marker": {
          "symbol": "circle"
         },
         "mode": "lines+markers",
         "name": "6427041.0",
         "orientation": "v",
         "showlegend": true,
         "type": "scatter",
         "x": [
          0,
          3,
          6,
          12,
          24
         ],
         "xaxis": "x",
         "y": [
          3.9,
          3.8,
          3,
          4,
          3.2
         ],
         "yaxis": "y"
        },
        {
         "hovertemplate": "player_id=6429001.0<br>weeks=%{x}<br>S5_mean=%{y}<extra></extra>",
         "legendgroup": "6429001.0",
         "line": {
          "color": "#EF553B",
          "dash": "solid"
         },
         "marker": {
          "symbol": "circle"
         },
         "mode": "lines+markers",
         "name": "6429001.0",
         "orientation": "v",
         "showlegend": true,
         "type": "scatter",
         "x": [
          0
         ],
         "xaxis": "x",
         "y": [
          3.8
         ],
         "yaxis": "y"
        },
        {
         "hovertemplate": "player_id=6430002.0<br>weeks=%{x}<br>S5_mean=%{y}<extra></extra>",
         "legendgroup": "6430002.0",
         "line": {
          "color": "#00cc96",
          "dash": "solid"
         },
         "marker": {
          "symbol": "circle"
         },
         "mode": "lines+markers",
         "name": "6430002.0",
         "orientation": "v",
         "showlegend": true,
         "type": "scatter",
         "x": [
          0,
          3,
          6,
          12,
          24
         ],
         "xaxis": "x",
         "y": [
          4,
          4,
          4,
          4,
          4
         ],
         "yaxis": "y"
        },
        {
         "hovertemplate": "player_id=6430003.0<br>weeks=%{x}<br>S5_mean=%{y}<extra></extra>",
         "legendgroup": "6430003.0",
         "line": {
          "color": "#ab63fa",
          "dash": "solid"
         },
         "marker": {
          "symbol": "circle"
         },
         "mode": "lines+markers",
         "name": "6430003.0",
         "orientation": "v",
         "showlegend": true,
         "type": "scatter",
         "x": [
          0,
          3,
          6
         ],
         "xaxis": "x",
         "y": [
          4,
          4,
          3.7
         ],
         "yaxis": "y"
        },
        {
         "hovertemplate": "player_id=6430004.0<br>weeks=%{x}<br>S5_mean=%{y}<extra></extra>",
         "legendgroup": "6430004.0",
         "line": {
          "color": "#FFA15A",
          "dash": "solid"
         },
         "marker": {
          "symbol": "circle"
         },
         "mode": "lines+markers",
         "name": "6430004.0",
         "orientation": "v",
         "showlegend": true,
         "type": "scatter",
         "x": [
          0,
          3,
          6,
          12
         ],
         "xaxis": "x",
         "y": [
          3.9,
          3.7,
          3.9,
          3.8
         ],
         "yaxis": "y"
        },
        {
         "hovertemplate": "player_id=6430008.0<br>weeks=%{x}<br>S5_mean=%{y}<extra></extra>",
         "legendgroup": "6430008.0",
         "line": {
          "color": "#19d3f3",
          "dash": "solid"
         },
         "marker": {
          "symbol": "circle"
         },
         "mode": "lines+markers",
         "name": "6430008.0",
         "orientation": "v",
         "showlegend": true,
         "type": "scatter",
         "x": [
          0,
          3,
          6,
          12,
          24
         ],
         "xaxis": "x",
         "y": [
          4,
          3.7,
          3.7,
          4,
          3.9
         ],
         "yaxis": "y"
        },
        {
         "hovertemplate": "player_id=6486001.0<br>weeks=%{x}<br>S5_mean=%{y}<extra></extra>",
         "legendgroup": "6486001.0",
         "line": {
          "color": "#FF6692",
          "dash": "solid"
         },
         "marker": {
          "symbol": "circle"
         },
         "mode": "lines+markers",
         "name": "6486001.0",
         "orientation": "v",
         "showlegend": true,
         "type": "scatter",
         "x": [
          0,
          24
         ],
         "xaxis": "x",
         "y": [
          4,
          3.7
         ],
         "yaxis": "y"
        },
        {
         "hovertemplate": "player_id=6486002.0<br>weeks=%{x}<br>S5_mean=%{y}<extra></extra>",
         "legendgroup": "6486002.0",
         "line": {
          "color": "#B6E880",
          "dash": "solid"
         },
         "marker": {
          "symbol": "circle"
         },
         "mode": "lines+markers",
         "name": "6486002.0",
         "orientation": "v",
         "showlegend": true,
         "type": "scatter",
         "x": [
          0,
          3,
          6,
          12,
          24
         ],
         "xaxis": "x",
         "y": [
          4,
          4,
          3.8,
          4,
          3.9
         ],
         "yaxis": "y"
        },
        {
         "hovertemplate": "player_id=6486003.0<br>weeks=%{x}<br>S5_mean=%{y}<extra></extra>",
         "legendgroup": "6486003.0",
         "line": {
          "color": "#FF97FF",
          "dash": "solid"
         },
         "marker": {
          "symbol": "circle"
         },
         "mode": "lines+markers",
         "name": "6486003.0",
         "orientation": "v",
         "showlegend": true,
         "type": "scatter",
         "x": [
          0,
          3,
          12,
          24
         ],
         "xaxis": "x",
         "y": [
          4,
          4,
          4,
          4
         ],
         "yaxis": "y"
        },
        {
         "hovertemplate": "player_id=6486004.0<br>weeks=%{x}<br>S5_mean=%{y}<extra></extra>",
         "legendgroup": "6486004.0",
         "line": {
          "color": "#FECB52",
          "dash": "solid"
         },
         "marker": {
          "symbol": "circle"
         },
         "mode": "lines+markers",
         "name": "6486004.0",
         "orientation": "v",
         "showlegend": true,
         "type": "scatter",
         "x": [
          0,
          3,
          6,
          12
         ],
         "xaxis": "x",
         "y": [
          3.9,
          3.9,
          4,
          3.9
         ],
         "yaxis": "y"
        },
        {
         "hovertemplate": "player_id=6486005.0<br>weeks=%{x}<br>S5_mean=%{y}<extra></extra>",
         "legendgroup": "6486005.0",
         "line": {
          "color": "#636efa",
          "dash": "solid"
         },
         "marker": {
          "symbol": "circle"
         },
         "mode": "lines+markers",
         "name": "6486005.0",
         "orientation": "v",
         "showlegend": true,
         "type": "scatter",
         "x": [
          0,
          3,
          6,
          12,
          24
         ],
         "xaxis": "x",
         "y": [
          3.5,
          3.5,
          3.6,
          3.7,
          4
         ],
         "yaxis": "y"
        },
        {
         "hovertemplate": "player_id=6486009.0<br>weeks=%{x}<br>S5_mean=%{y}<extra></extra>",
         "legendgroup": "6486009.0",
         "line": {
          "color": "#EF553B",
          "dash": "solid"
         },
         "marker": {
          "symbol": "circle"
         },
         "mode": "lines+markers",
         "name": "6486009.0",
         "orientation": "v",
         "showlegend": true,
         "type": "scatter",
         "x": [
          0,
          3,
          12
         ],
         "xaxis": "x",
         "y": [
          4,
          3.1,
          3.8
         ],
         "yaxis": "y"
        },
        {
         "hovertemplate": "player_id=6486011.0<br>weeks=%{x}<br>S5_mean=%{y}<extra></extra>",
         "legendgroup": "6486011.0",
         "line": {
          "color": "#00cc96",
          "dash": "solid"
         },
         "marker": {
          "symbol": "circle"
         },
         "mode": "lines+markers",
         "name": "6486011.0",
         "orientation": "v",
         "showlegend": true,
         "type": "scatter",
         "x": [
          0,
          3,
          6,
          12
         ],
         "xaxis": "x",
         "y": [
          4,
          4,
          4,
          4
         ],
         "yaxis": "y"
        },
        {
         "hovertemplate": "player_id=6486013.0<br>weeks=%{x}<br>S5_mean=%{y}<extra></extra>",
         "legendgroup": "6486013.0",
         "line": {
          "color": "#ab63fa",
          "dash": "solid"
         },
         "marker": {
          "symbol": "circle"
         },
         "mode": "lines+markers",
         "name": "6486013.0",
         "orientation": "v",
         "showlegend": true,
         "type": "scatter",
         "x": [
          0
         ],
         "xaxis": "x",
         "y": [
          4
         ],
         "yaxis": "y"
        },
        {
         "hovertemplate": "player_id=6486018.0<br>weeks=%{x}<br>S5_mean=%{y}<extra></extra>",
         "legendgroup": "6486018.0",
         "line": {
          "color": "#FFA15A",
          "dash": "solid"
         },
         "marker": {
          "symbol": "circle"
         },
         "mode": "lines+markers",
         "name": "6486018.0",
         "orientation": "v",
         "showlegend": true,
         "type": "scatter",
         "x": [
          0,
          3,
          6
         ],
         "xaxis": "x",
         "y": [
          1.3,
          3.7,
          3.1
         ],
         "yaxis": "y"
        },
        {
         "hovertemplate": "player_id=6486019.0<br>weeks=%{x}<br>S5_mean=%{y}<extra></extra>",
         "legendgroup": "6486019.0",
         "line": {
          "color": "#19d3f3",
          "dash": "solid"
         },
         "marker": {
          "symbol": "circle"
         },
         "mode": "lines+markers",
         "name": "6486019.0",
         "orientation": "v",
         "showlegend": true,
         "type": "scatter",
         "x": [
          0,
          3,
          6,
          12
         ],
         "xaxis": "x",
         "y": [
          3,
          4,
          3.9,
          4
         ],
         "yaxis": "y"
        },
        {
         "hovertemplate": "player_id=6486020.0<br>weeks=%{x}<br>S5_mean=%{y}<extra></extra>",
         "legendgroup": "6486020.0",
         "line": {
          "color": "#FF6692",
          "dash": "solid"
         },
         "marker": {
          "symbol": "circle"
         },
         "mode": "lines+markers",
         "name": "6486020.0",
         "orientation": "v",
         "showlegend": true,
         "type": "scatter",
         "x": [
          0
         ],
         "xaxis": "x",
         "y": [
          4
         ],
         "yaxis": "y"
        },
        {
         "hovertemplate": "player_id=6486023.0<br>weeks=%{x}<br>S5_mean=%{y}<extra></extra>",
         "legendgroup": "6486023.0",
         "line": {
          "color": "#B6E880",
          "dash": "solid"
         },
         "marker": {
          "symbol": "circle"
         },
         "mode": "lines+markers",
         "name": "6486023.0",
         "orientation": "v",
         "showlegend": true,
         "type": "scatter",
         "x": [
          0,
          3,
          6,
          12
         ],
         "xaxis": "x",
         "y": [
          4,
          3.9,
          4,
          4
         ],
         "yaxis": "y"
        },
        {
         "hovertemplate": "player_id=6486025.0<br>weeks=%{x}<br>S5_mean=%{y}<extra></extra>",
         "legendgroup": "6486025.0",
         "line": {
          "color": "#FF97FF",
          "dash": "solid"
         },
         "marker": {
          "symbol": "circle"
         },
         "mode": "lines+markers",
         "name": "6486025.0",
         "orientation": "v",
         "showlegend": true,
         "type": "scatter",
         "x": [
          0,
          6,
          12
         ],
         "xaxis": "x",
         "y": [
          3.9,
          4,
          4
         ],
         "yaxis": "y"
        },
        {
         "hovertemplate": "player_id=6486026.0<br>weeks=%{x}<br>S5_mean=%{y}<extra></extra>",
         "legendgroup": "6486026.0",
         "line": {
          "color": "#FECB52",
          "dash": "solid"
         },
         "marker": {
          "symbol": "circle"
         },
         "mode": "lines+markers",
         "name": "6486026.0",
         "orientation": "v",
         "showlegend": true,
         "type": "scatter",
         "x": [
          0,
          3,
          6,
          12
         ],
         "xaxis": "x",
         "y": [
          4,
          4,
          4,
          4
         ],
         "yaxis": "y"
        },
        {
         "hovertemplate": "player_id=6486029.0<br>weeks=%{x}<br>S5_mean=%{y}<extra></extra>",
         "legendgroup": "6486029.0",
         "line": {
          "color": "#636efa",
          "dash": "solid"
         },
         "marker": {
          "symbol": "circle"
         },
         "mode": "lines+markers",
         "name": "6486029.0",
         "orientation": "v",
         "showlegend": true,
         "type": "scatter",
         "x": [
          0,
          3,
          6,
          12
         ],
         "xaxis": "x",
         "y": [
          4,
          4,
          4,
          3.5
         ],
         "yaxis": "y"
        },
        {
         "hovertemplate": "player_id=6486032.0<br>weeks=%{x}<br>S5_mean=%{y}<extra></extra>",
         "legendgroup": "6486032.0",
         "line": {
          "color": "#EF553B",
          "dash": "solid"
         },
         "marker": {
          "symbol": "circle"
         },
         "mode": "lines+markers",
         "name": "6486032.0",
         "orientation": "v",
         "showlegend": true,
         "type": "scatter",
         "x": [
          0,
          3,
          6,
          12
         ],
         "xaxis": "x",
         "y": [
          4,
          4,
          4,
          3.9
         ],
         "yaxis": "y"
        },
        {
         "hovertemplate": "player_id=6486033.0<br>weeks=%{x}<br>S5_mean=%{y}<extra></extra>",
         "legendgroup": "6486033.0",
         "line": {
          "color": "#00cc96",
          "dash": "solid"
         },
         "marker": {
          "symbol": "circle"
         },
         "mode": "lines+markers",
         "name": "6486033.0",
         "orientation": "v",
         "showlegend": true,
         "type": "scatter",
         "x": [
          0,
          3,
          6,
          12
         ],
         "xaxis": "x",
         "y": [
          4,
          4,
          4,
          4
         ],
         "yaxis": "y"
        },
        {
         "hovertemplate": "player_id=6486034.0<br>weeks=%{x}<br>S5_mean=%{y}<extra></extra>",
         "legendgroup": "6486034.0",
         "line": {
          "color": "#ab63fa",
          "dash": "solid"
         },
         "marker": {
          "symbol": "circle"
         },
         "mode": "lines+markers",
         "name": "6486034.0",
         "orientation": "v",
         "showlegend": true,
         "type": "scatter",
         "x": [
          0
         ],
         "xaxis": "x",
         "y": [
          3.9
         ],
         "yaxis": "y"
        },
        {
         "hovertemplate": "player_id=6486038.0<br>weeks=%{x}<br>S5_mean=%{y}<extra></extra>",
         "legendgroup": "6486038.0",
         "line": {
          "color": "#FFA15A",
          "dash": "solid"
         },
         "marker": {
          "symbol": "circle"
         },
         "mode": "lines+markers",
         "name": "6486038.0",
         "orientation": "v",
         "showlegend": true,
         "type": "scatter",
         "x": [
          0,
          3,
          6,
          12
         ],
         "xaxis": "x",
         "y": [
          4,
          4,
          4,
          4
         ],
         "yaxis": "y"
        },
        {
         "hovertemplate": "player_id=6486039.0<br>weeks=%{x}<br>S5_mean=%{y}<extra></extra>",
         "legendgroup": "6486039.0",
         "line": {
          "color": "#19d3f3",
          "dash": "solid"
         },
         "marker": {
          "symbol": "circle"
         },
         "mode": "lines+markers",
         "name": "6486039.0",
         "orientation": "v",
         "showlegend": true,
         "type": "scatter",
         "x": [
          0,
          3,
          6,
          12
         ],
         "xaxis": "x",
         "y": [
          4,
          4,
          4,
          4
         ],
         "yaxis": "y"
        },
        {
         "hovertemplate": "player_id=6486040.0<br>weeks=%{x}<br>S5_mean=%{y}<extra></extra>",
         "legendgroup": "6486040.0",
         "line": {
          "color": "#FF6692",
          "dash": "solid"
         },
         "marker": {
          "symbol": "circle"
         },
         "mode": "lines+markers",
         "name": "6486040.0",
         "orientation": "v",
         "showlegend": true,
         "type": "scatter",
         "x": [
          0,
          12
         ],
         "xaxis": "x",
         "y": [
          4,
          3.9
         ],
         "yaxis": "y"
        },
        {
         "hovertemplate": "player_id=6506008.0<br>weeks=%{x}<br>S5_mean=%{y}<extra></extra>",
         "legendgroup": "6506008.0",
         "line": {
          "color": "#B6E880",
          "dash": "solid"
         },
         "marker": {
          "symbol": "circle"
         },
         "mode": "lines+markers",
         "name": "6506008.0",
         "orientation": "v",
         "showlegend": true,
         "type": "scatter",
         "x": [
          0,
          6,
          12,
          24
         ],
         "xaxis": "x",
         "y": [
          4,
          3.9,
          4,
          3.3
         ],
         "yaxis": "y"
        },
        {
         "hovertemplate": "player_id=6506009.0<br>weeks=%{x}<br>S5_mean=%{y}<extra></extra>",
         "legendgroup": "6506009.0",
         "line": {
          "color": "#FF97FF",
          "dash": "solid"
         },
         "marker": {
          "symbol": "circle"
         },
         "mode": "lines+markers",
         "name": "6506009.0",
         "orientation": "v",
         "showlegend": true,
         "type": "scatter",
         "x": [
          0,
          12,
          24
         ],
         "xaxis": "x",
         "y": [
          3.9,
          3.9,
          4
         ],
         "yaxis": "y"
        },
        {
         "hovertemplate": "player_id=6546001.0<br>weeks=%{x}<br>S5_mean=%{y}<extra></extra>",
         "legendgroup": "6546001.0",
         "line": {
          "color": "#FECB52",
          "dash": "solid"
         },
         "marker": {
          "symbol": "circle"
         },
         "mode": "lines+markers",
         "name": "6546001.0",
         "orientation": "v",
         "showlegend": true,
         "type": "scatter",
         "x": [
          0,
          3,
          6,
          12,
          24
         ],
         "xaxis": "x",
         "y": [
          3.7,
          3.9,
          3.875,
          3.9,
          3.8
         ],
         "yaxis": "y"
        },
        {
         "hovertemplate": "player_id=6546005.0<br>weeks=%{x}<br>S5_mean=%{y}<extra></extra>",
         "legendgroup": "6546005.0",
         "line": {
          "color": "#636efa",
          "dash": "solid"
         },
         "marker": {
          "symbol": "circle"
         },
         "mode": "lines+markers",
         "name": "6546005.0",
         "orientation": "v",
         "showlegend": true,
         "type": "scatter",
         "x": [
          0,
          3,
          6,
          12,
          24
         ],
         "xaxis": "x",
         "y": [
          4,
          3.7,
          3.7,
          3.7,
          3.7
         ],
         "yaxis": "y"
        },
        {
         "hovertemplate": "player_id=6546006.0<br>weeks=%{x}<br>S5_mean=%{y}<extra></extra>",
         "legendgroup": "6546006.0",
         "line": {
          "color": "#EF553B",
          "dash": "solid"
         },
         "marker": {
          "symbol": "circle"
         },
         "mode": "lines+markers",
         "name": "6546006.0",
         "orientation": "v",
         "showlegend": true,
         "type": "scatter",
         "x": [
          0,
          3,
          6,
          12,
          24
         ],
         "xaxis": "x",
         "y": [
          4,
          4,
          4,
          4,
          4
         ],
         "yaxis": "y"
        },
        {
         "hovertemplate": "player_id=6546008.0<br>weeks=%{x}<br>S5_mean=%{y}<extra></extra>",
         "legendgroup": "6546008.0",
         "line": {
          "color": "#00cc96",
          "dash": "solid"
         },
         "marker": {
          "symbol": "circle"
         },
         "mode": "lines+markers",
         "name": "6546008.0",
         "orientation": "v",
         "showlegend": true,
         "type": "scatter",
         "x": [
          0,
          3,
          6
         ],
         "xaxis": "x",
         "y": [
          3.9,
          4,
          4
         ],
         "yaxis": "y"
        },
        {
         "hovertemplate": "player_id=6546011.0<br>weeks=%{x}<br>S5_mean=%{y}<extra></extra>",
         "legendgroup": "6546011.0",
         "line": {
          "color": "#ab63fa",
          "dash": "solid"
         },
         "marker": {
          "symbol": "circle"
         },
         "mode": "lines+markers",
         "name": "6546011.0",
         "orientation": "v",
         "showlegend": true,
         "type": "scatter",
         "x": [
          0,
          3,
          6
         ],
         "xaxis": "x",
         "y": [
          3.5,
          3.7,
          3.8
         ],
         "yaxis": "y"
        },
        {
         "hovertemplate": "player_id=6546014.0<br>weeks=%{x}<br>S5_mean=%{y}<extra></extra>",
         "legendgroup": "6546014.0",
         "line": {
          "color": "#FFA15A",
          "dash": "solid"
         },
         "marker": {
          "symbol": "circle"
         },
         "mode": "lines+markers",
         "name": "6546014.0",
         "orientation": "v",
         "showlegend": true,
         "type": "scatter",
         "x": [
          0,
          3
         ],
         "xaxis": "x",
         "y": [
          3.9,
          3.9
         ],
         "yaxis": "y"
        },
        {
         "hovertemplate": "player_id=6566001.0<br>weeks=%{x}<br>S5_mean=%{y}<extra></extra>",
         "legendgroup": "6566001.0",
         "line": {
          "color": "#19d3f3",
          "dash": "solid"
         },
         "marker": {
          "symbol": "circle"
         },
         "mode": "lines+markers",
         "name": "6566001.0",
         "orientation": "v",
         "showlegend": true,
         "type": "scatter",
         "x": [
          0,
          3,
          6
         ],
         "xaxis": "x",
         "y": [
          4,
          4,
          4
         ],
         "yaxis": "y"
        },
        {
         "hovertemplate": "player_id=6566003.0<br>weeks=%{x}<br>S5_mean=%{y}<extra></extra>",
         "legendgroup": "6566003.0",
         "line": {
          "color": "#FF6692",
          "dash": "solid"
         },
         "marker": {
          "symbol": "circle"
         },
         "mode": "lines+markers",
         "name": "6566003.0",
         "orientation": "v",
         "showlegend": true,
         "type": "scatter",
         "x": [
          0,
          3
         ],
         "xaxis": "x",
         "y": [
          4,
          4
         ],
         "yaxis": "y"
        },
        {
         "hovertemplate": "player_id=6567002.0<br>weeks=%{x}<br>S5_mean=%{y}<extra></extra>",
         "legendgroup": "6567002.0",
         "line": {
          "color": "#B6E880",
          "dash": "solid"
         },
         "marker": {
          "symbol": "circle"
         },
         "mode": "lines+markers",
         "name": "6567002.0",
         "orientation": "v",
         "showlegend": true,
         "type": "scatter",
         "x": [
          0,
          3,
          6,
          12,
          24
         ],
         "xaxis": "x",
         "y": [
          3.6,
          4,
          4,
          4,
          4
         ],
         "yaxis": "y"
        },
        {
         "hovertemplate": "player_id=6567003.0<br>weeks=%{x}<br>S5_mean=%{y}<extra></extra>",
         "legendgroup": "6567003.0",
         "line": {
          "color": "#FF97FF",
          "dash": "solid"
         },
         "marker": {
          "symbol": "circle"
         },
         "mode": "lines+markers",
         "name": "6567003.0",
         "orientation": "v",
         "showlegend": true,
         "type": "scatter",
         "x": [
          0,
          3,
          6,
          12,
          24
         ],
         "xaxis": "x",
         "y": [
          4,
          4,
          4,
          4,
          4
         ],
         "yaxis": "y"
        },
        {
         "hovertemplate": "player_id=6567005.0<br>weeks=%{x}<br>S5_mean=%{y}<extra></extra>",
         "legendgroup": "6567005.0",
         "line": {
          "color": "#FECB52",
          "dash": "solid"
         },
         "marker": {
          "symbol": "circle"
         },
         "mode": "lines+markers",
         "name": "6567005.0",
         "orientation": "v",
         "showlegend": true,
         "type": "scatter",
         "x": [
          0,
          6
         ],
         "xaxis": "x",
         "y": [
          3.6,
          3.1
         ],
         "yaxis": "y"
        },
        {
         "hovertemplate": "player_id=6606001.0<br>weeks=%{x}<br>S5_mean=%{y}<extra></extra>",
         "legendgroup": "6606001.0",
         "line": {
          "color": "#636efa",
          "dash": "solid"
         },
         "marker": {
          "symbol": "circle"
         },
         "mode": "lines+markers",
         "name": "6606001.0",
         "orientation": "v",
         "showlegend": true,
         "type": "scatter",
         "x": [
          0,
          3
         ],
         "xaxis": "x",
         "y": [
          4,
          3.6
         ],
         "yaxis": "y"
        },
        {
         "hovertemplate": "player_id=6606002.0<br>weeks=%{x}<br>S5_mean=%{y}<extra></extra>",
         "legendgroup": "6606002.0",
         "line": {
          "color": "#EF553B",
          "dash": "solid"
         },
         "marker": {
          "symbol": "circle"
         },
         "mode": "lines+markers",
         "name": "6606002.0",
         "orientation": "v",
         "showlegend": true,
         "type": "scatter",
         "x": [
          0
         ],
         "xaxis": "x",
         "y": [
          3.1
         ],
         "yaxis": "y"
        },
        {
         "hovertemplate": "player_id=6606003.0<br>weeks=%{x}<br>S5_mean=%{y}<extra></extra>",
         "legendgroup": "6606003.0",
         "line": {
          "color": "#00cc96",
          "dash": "solid"
         },
         "marker": {
          "symbol": "circle"
         },
         "mode": "lines+markers",
         "name": "6606003.0",
         "orientation": "v",
         "showlegend": true,
         "type": "scatter",
         "x": [
          0,
          3,
          6,
          12,
          24
         ],
         "xaxis": "x",
         "y": [
          3.5,
          3.1,
          3.8,
          4,
          4
         ],
         "yaxis": "y"
        },
        {
         "hovertemplate": "player_id=6606004.0<br>weeks=%{x}<br>S5_mean=%{y}<extra></extra>",
         "legendgroup": "6606004.0",
         "line": {
          "color": "#ab63fa",
          "dash": "solid"
         },
         "marker": {
          "symbol": "circle"
         },
         "mode": "lines+markers",
         "name": "6606004.0",
         "orientation": "v",
         "showlegend": true,
         "type": "scatter",
         "x": [
          0,
          3,
          6,
          12,
          24
         ],
         "xaxis": "x",
         "y": [
          3.9,
          4,
          4,
          4,
          4
         ],
         "yaxis": "y"
        },
        {
         "hovertemplate": "player_id=6606005.0<br>weeks=%{x}<br>S5_mean=%{y}<extra></extra>",
         "legendgroup": "6606005.0",
         "line": {
          "color": "#FFA15A",
          "dash": "solid"
         },
         "marker": {
          "symbol": "circle"
         },
         "mode": "lines+markers",
         "name": "6606005.0",
         "orientation": "v",
         "showlegend": true,
         "type": "scatter",
         "x": [
          0,
          3,
          6,
          12
         ],
         "xaxis": "x",
         "y": [
          3,
          4,
          4,
          4
         ],
         "yaxis": "y"
        },
        {
         "hovertemplate": "player_id=6606006.0<br>weeks=%{x}<br>S5_mean=%{y}<extra></extra>",
         "legendgroup": "6606006.0",
         "line": {
          "color": "#19d3f3",
          "dash": "solid"
         },
         "marker": {
          "symbol": "circle"
         },
         "mode": "lines+markers",
         "name": "6606006.0",
         "orientation": "v",
         "showlegend": true,
         "type": "scatter",
         "x": [
          0,
          3
         ],
         "xaxis": "x",
         "y": [
          4,
          4
         ],
         "yaxis": "y"
        },
        {
         "hovertemplate": "player_id=6606011.0<br>weeks=%{x}<br>S5_mean=%{y}<extra></extra>",
         "legendgroup": "6606011.0",
         "line": {
          "color": "#FF6692",
          "dash": "solid"
         },
         "marker": {
          "symbol": "circle"
         },
         "mode": "lines+markers",
         "name": "6606011.0",
         "orientation": "v",
         "showlegend": true,
         "type": "scatter",
         "x": [
          0,
          3,
          6
         ],
         "xaxis": "x",
         "y": [
          4,
          3.8,
          3.8
         ],
         "yaxis": "y"
        },
        {
         "hovertemplate": "player_id=6607006.0<br>weeks=%{x}<br>S5_mean=%{y}<extra></extra>",
         "legendgroup": "6607006.0",
         "line": {
          "color": "#B6E880",
          "dash": "solid"
         },
         "marker": {
          "symbol": "circle"
         },
         "mode": "lines+markers",
         "name": "6607006.0",
         "orientation": "v",
         "showlegend": true,
         "type": "scatter",
         "x": [
          0,
          6,
          12,
          24
         ],
         "xaxis": "x",
         "y": [
          4,
          4,
          2.7,
          4
         ],
         "yaxis": "y"
        },
        {
         "hovertemplate": "player_id=6607007.0<br>weeks=%{x}<br>S5_mean=%{y}<extra></extra>",
         "legendgroup": "6607007.0",
         "line": {
          "color": "#FF97FF",
          "dash": "solid"
         },
         "marker": {
          "symbol": "circle"
         },
         "mode": "lines+markers",
         "name": "6607007.0",
         "orientation": "v",
         "showlegend": true,
         "type": "scatter",
         "x": [
          0,
          3,
          6,
          12,
          24
         ],
         "xaxis": "x",
         "y": [
          4,
          4,
          4,
          4,
          4
         ],
         "yaxis": "y"
        },
        {
         "hovertemplate": "player_id=6607008.0<br>weeks=%{x}<br>S5_mean=%{y}<extra></extra>",
         "legendgroup": "6607008.0",
         "line": {
          "color": "#FECB52",
          "dash": "solid"
         },
         "marker": {
          "symbol": "circle"
         },
         "mode": "lines+markers",
         "name": "6607008.0",
         "orientation": "v",
         "showlegend": true,
         "type": "scatter",
         "x": [
          0,
          6,
          12,
          24
         ],
         "xaxis": "x",
         "y": [
          3.9,
          3.9,
          3.9,
          3.9
         ],
         "yaxis": "y"
        },
        {
         "hovertemplate": "player_id=6607009.0<br>weeks=%{x}<br>S5_mean=%{y}<extra></extra>",
         "legendgroup": "6607009.0",
         "line": {
          "color": "#636efa",
          "dash": "solid"
         },
         "marker": {
          "symbol": "circle"
         },
         "mode": "lines+markers",
         "name": "6607009.0",
         "orientation": "v",
         "showlegend": true,
         "type": "scatter",
         "x": [
          0,
          3,
          6,
          12,
          24
         ],
         "xaxis": "x",
         "y": [
          4,
          4,
          3.9,
          4,
          4
         ],
         "yaxis": "y"
        },
        {
         "hovertemplate": "player_id=6607010.0<br>weeks=%{x}<br>S5_mean=%{y}<extra></extra>",
         "legendgroup": "6607010.0",
         "line": {
          "color": "#EF553B",
          "dash": "solid"
         },
         "marker": {
          "symbol": "circle"
         },
         "mode": "lines+markers",
         "name": "6607010.0",
         "orientation": "v",
         "showlegend": true,
         "type": "scatter",
         "x": [
          0,
          3,
          6,
          12,
          24
         ],
         "xaxis": "x",
         "y": [
          4,
          4,
          4,
          4,
          4
         ],
         "yaxis": "y"
        },
        {
         "hovertemplate": "player_id=6608002.0<br>weeks=%{x}<br>S5_mean=%{y}<extra></extra>",
         "legendgroup": "6608002.0",
         "line": {
          "color": "#00cc96",
          "dash": "solid"
         },
         "marker": {
          "symbol": "circle"
         },
         "mode": "lines+markers",
         "name": "6608002.0",
         "orientation": "v",
         "showlegend": true,
         "type": "scatter",
         "x": [
          0,
          3,
          6,
          12,
          24
         ],
         "xaxis": "x",
         "y": [
          4,
          4,
          3.9,
          4,
          4
         ],
         "yaxis": "y"
        },
        {
         "hovertemplate": "player_id=0.0<br>weeks=%{x}<br>S5_mean=%{y}<extra></extra>",
         "legendgroup": "0.0",
         "line": {
          "color": "#ab63fa",
          "dash": "solid"
         },
         "marker": {
          "symbol": "circle"
         },
         "mode": "lines+markers",
         "name": "0.0",
         "orientation": "v",
         "showlegend": true,
         "type": "scatter",
         "x": [
          0,
          0,
          0,
          3,
          3,
          3,
          6,
          6,
          12,
          12
         ],
         "xaxis": "x",
         "y": [
          3.8,
          3.9,
          3.9,
          3.8,
          4,
          4,
          3.5,
          4,
          4,
          4
         ],
         "yaxis": "y"
        }
       ],
       "layout": {
        "legend": {
         "title": {
          "text": "player_id"
         },
         "tracegroupgap": 0
        },
        "template": {
         "data": {
          "bar": [
           {
            "error_x": {
             "color": "#2a3f5f"
            },
            "error_y": {
             "color": "#2a3f5f"
            },
            "marker": {
             "line": {
              "color": "#E5ECF6",
              "width": 0.5
             },
             "pattern": {
              "fillmode": "overlay",
              "size": 10,
              "solidity": 0.2
             }
            },
            "type": "bar"
           }
          ],
          "barpolar": [
           {
            "marker": {
             "line": {
              "color": "#E5ECF6",
              "width": 0.5
             },
             "pattern": {
              "fillmode": "overlay",
              "size": 10,
              "solidity": 0.2
             }
            },
            "type": "barpolar"
           }
          ],
          "carpet": [
           {
            "aaxis": {
             "endlinecolor": "#2a3f5f",
             "gridcolor": "white",
             "linecolor": "white",
             "minorgridcolor": "white",
             "startlinecolor": "#2a3f5f"
            },
            "baxis": {
             "endlinecolor": "#2a3f5f",
             "gridcolor": "white",
             "linecolor": "white",
             "minorgridcolor": "white",
             "startlinecolor": "#2a3f5f"
            },
            "type": "carpet"
           }
          ],
          "choropleth": [
           {
            "colorbar": {
             "outlinewidth": 0,
             "ticks": ""
            },
            "type": "choropleth"
           }
          ],
          "contour": [
           {
            "colorbar": {
             "outlinewidth": 0,
             "ticks": ""
            },
            "colorscale": [
             [
              0,
              "#0d0887"
             ],
             [
              0.1111111111111111,
              "#46039f"
             ],
             [
              0.2222222222222222,
              "#7201a8"
             ],
             [
              0.3333333333333333,
              "#9c179e"
             ],
             [
              0.4444444444444444,
              "#bd3786"
             ],
             [
              0.5555555555555556,
              "#d8576b"
             ],
             [
              0.6666666666666666,
              "#ed7953"
             ],
             [
              0.7777777777777778,
              "#fb9f3a"
             ],
             [
              0.8888888888888888,
              "#fdca26"
             ],
             [
              1,
              "#f0f921"
             ]
            ],
            "type": "contour"
           }
          ],
          "contourcarpet": [
           {
            "colorbar": {
             "outlinewidth": 0,
             "ticks": ""
            },
            "type": "contourcarpet"
           }
          ],
          "heatmap": [
           {
            "colorbar": {
             "outlinewidth": 0,
             "ticks": ""
            },
            "colorscale": [
             [
              0,
              "#0d0887"
             ],
             [
              0.1111111111111111,
              "#46039f"
             ],
             [
              0.2222222222222222,
              "#7201a8"
             ],
             [
              0.3333333333333333,
              "#9c179e"
             ],
             [
              0.4444444444444444,
              "#bd3786"
             ],
             [
              0.5555555555555556,
              "#d8576b"
             ],
             [
              0.6666666666666666,
              "#ed7953"
             ],
             [
              0.7777777777777778,
              "#fb9f3a"
             ],
             [
              0.8888888888888888,
              "#fdca26"
             ],
             [
              1,
              "#f0f921"
             ]
            ],
            "type": "heatmap"
           }
          ],
          "heatmapgl": [
           {
            "colorbar": {
             "outlinewidth": 0,
             "ticks": ""
            },
            "colorscale": [
             [
              0,
              "#0d0887"
             ],
             [
              0.1111111111111111,
              "#46039f"
             ],
             [
              0.2222222222222222,
              "#7201a8"
             ],
             [
              0.3333333333333333,
              "#9c179e"
             ],
             [
              0.4444444444444444,
              "#bd3786"
             ],
             [
              0.5555555555555556,
              "#d8576b"
             ],
             [
              0.6666666666666666,
              "#ed7953"
             ],
             [
              0.7777777777777778,
              "#fb9f3a"
             ],
             [
              0.8888888888888888,
              "#fdca26"
             ],
             [
              1,
              "#f0f921"
             ]
            ],
            "type": "heatmapgl"
           }
          ],
          "histogram": [
           {
            "marker": {
             "pattern": {
              "fillmode": "overlay",
              "size": 10,
              "solidity": 0.2
             }
            },
            "type": "histogram"
           }
          ],
          "histogram2d": [
           {
            "colorbar": {
             "outlinewidth": 0,
             "ticks": ""
            },
            "colorscale": [
             [
              0,
              "#0d0887"
             ],
             [
              0.1111111111111111,
              "#46039f"
             ],
             [
              0.2222222222222222,
              "#7201a8"
             ],
             [
              0.3333333333333333,
              "#9c179e"
             ],
             [
              0.4444444444444444,
              "#bd3786"
             ],
             [
              0.5555555555555556,
              "#d8576b"
             ],
             [
              0.6666666666666666,
              "#ed7953"
             ],
             [
              0.7777777777777778,
              "#fb9f3a"
             ],
             [
              0.8888888888888888,
              "#fdca26"
             ],
             [
              1,
              "#f0f921"
             ]
            ],
            "type": "histogram2d"
           }
          ],
          "histogram2dcontour": [
           {
            "colorbar": {
             "outlinewidth": 0,
             "ticks": ""
            },
            "colorscale": [
             [
              0,
              "#0d0887"
             ],
             [
              0.1111111111111111,
              "#46039f"
             ],
             [
              0.2222222222222222,
              "#7201a8"
             ],
             [
              0.3333333333333333,
              "#9c179e"
             ],
             [
              0.4444444444444444,
              "#bd3786"
             ],
             [
              0.5555555555555556,
              "#d8576b"
             ],
             [
              0.6666666666666666,
              "#ed7953"
             ],
             [
              0.7777777777777778,
              "#fb9f3a"
             ],
             [
              0.8888888888888888,
              "#fdca26"
             ],
             [
              1,
              "#f0f921"
             ]
            ],
            "type": "histogram2dcontour"
           }
          ],
          "mesh3d": [
           {
            "colorbar": {
             "outlinewidth": 0,
             "ticks": ""
            },
            "type": "mesh3d"
           }
          ],
          "parcoords": [
           {
            "line": {
             "colorbar": {
              "outlinewidth": 0,
              "ticks": ""
             }
            },
            "type": "parcoords"
           }
          ],
          "pie": [
           {
            "automargin": true,
            "type": "pie"
           }
          ],
          "scatter": [
           {
            "fillpattern": {
             "fillmode": "overlay",
             "size": 10,
             "solidity": 0.2
            },
            "type": "scatter"
           }
          ],
          "scatter3d": [
           {
            "line": {
             "colorbar": {
              "outlinewidth": 0,
              "ticks": ""
             }
            },
            "marker": {
             "colorbar": {
              "outlinewidth": 0,
              "ticks": ""
             }
            },
            "type": "scatter3d"
           }
          ],
          "scattercarpet": [
           {
            "marker": {
             "colorbar": {
              "outlinewidth": 0,
              "ticks": ""
             }
            },
            "type": "scattercarpet"
           }
          ],
          "scattergeo": [
           {
            "marker": {
             "colorbar": {
              "outlinewidth": 0,
              "ticks": ""
             }
            },
            "type": "scattergeo"
           }
          ],
          "scattergl": [
           {
            "marker": {
             "colorbar": {
              "outlinewidth": 0,
              "ticks": ""
             }
            },
            "type": "scattergl"
           }
          ],
          "scattermapbox": [
           {
            "marker": {
             "colorbar": {
              "outlinewidth": 0,
              "ticks": ""
             }
            },
            "type": "scattermapbox"
           }
          ],
          "scatterpolar": [
           {
            "marker": {
             "colorbar": {
              "outlinewidth": 0,
              "ticks": ""
             }
            },
            "type": "scatterpolar"
           }
          ],
          "scatterpolargl": [
           {
            "marker": {
             "colorbar": {
              "outlinewidth": 0,
              "ticks": ""
             }
            },
            "type": "scatterpolargl"
           }
          ],
          "scatterternary": [
           {
            "marker": {
             "colorbar": {
              "outlinewidth": 0,
              "ticks": ""
             }
            },
            "type": "scatterternary"
           }
          ],
          "surface": [
           {
            "colorbar": {
             "outlinewidth": 0,
             "ticks": ""
            },
            "colorscale": [
             [
              0,
              "#0d0887"
             ],
             [
              0.1111111111111111,
              "#46039f"
             ],
             [
              0.2222222222222222,
              "#7201a8"
             ],
             [
              0.3333333333333333,
              "#9c179e"
             ],
             [
              0.4444444444444444,
              "#bd3786"
             ],
             [
              0.5555555555555556,
              "#d8576b"
             ],
             [
              0.6666666666666666,
              "#ed7953"
             ],
             [
              0.7777777777777778,
              "#fb9f3a"
             ],
             [
              0.8888888888888888,
              "#fdca26"
             ],
             [
              1,
              "#f0f921"
             ]
            ],
            "type": "surface"
           }
          ],
          "table": [
           {
            "cells": {
             "fill": {
              "color": "#EBF0F8"
             },
             "line": {
              "color": "white"
             }
            },
            "header": {
             "fill": {
              "color": "#C8D4E3"
             },
             "line": {
              "color": "white"
             }
            },
            "type": "table"
           }
          ]
         },
         "layout": {
          "annotationdefaults": {
           "arrowcolor": "#2a3f5f",
           "arrowhead": 0,
           "arrowwidth": 1
          },
          "autotypenumbers": "strict",
          "coloraxis": {
           "colorbar": {
            "outlinewidth": 0,
            "ticks": ""
           }
          },
          "colorscale": {
           "diverging": [
            [
             0,
             "#8e0152"
            ],
            [
             0.1,
             "#c51b7d"
            ],
            [
             0.2,
             "#de77ae"
            ],
            [
             0.3,
             "#f1b6da"
            ],
            [
             0.4,
             "#fde0ef"
            ],
            [
             0.5,
             "#f7f7f7"
            ],
            [
             0.6,
             "#e6f5d0"
            ],
            [
             0.7,
             "#b8e186"
            ],
            [
             0.8,
             "#7fbc41"
            ],
            [
             0.9,
             "#4d9221"
            ],
            [
             1,
             "#276419"
            ]
           ],
           "sequential": [
            [
             0,
             "#0d0887"
            ],
            [
             0.1111111111111111,
             "#46039f"
            ],
            [
             0.2222222222222222,
             "#7201a8"
            ],
            [
             0.3333333333333333,
             "#9c179e"
            ],
            [
             0.4444444444444444,
             "#bd3786"
            ],
            [
             0.5555555555555556,
             "#d8576b"
            ],
            [
             0.6666666666666666,
             "#ed7953"
            ],
            [
             0.7777777777777778,
             "#fb9f3a"
            ],
            [
             0.8888888888888888,
             "#fdca26"
            ],
            [
             1,
             "#f0f921"
            ]
           ],
           "sequentialminus": [
            [
             0,
             "#0d0887"
            ],
            [
             0.1111111111111111,
             "#46039f"
            ],
            [
             0.2222222222222222,
             "#7201a8"
            ],
            [
             0.3333333333333333,
             "#9c179e"
            ],
            [
             0.4444444444444444,
             "#bd3786"
            ],
            [
             0.5555555555555556,
             "#d8576b"
            ],
            [
             0.6666666666666666,
             "#ed7953"
            ],
            [
             0.7777777777777778,
             "#fb9f3a"
            ],
            [
             0.8888888888888888,
             "#fdca26"
            ],
            [
             1,
             "#f0f921"
            ]
           ]
          },
          "colorway": [
           "#636efa",
           "#EF553B",
           "#00cc96",
           "#ab63fa",
           "#FFA15A",
           "#19d3f3",
           "#FF6692",
           "#B6E880",
           "#FF97FF",
           "#FECB52"
          ],
          "font": {
           "color": "#2a3f5f"
          },
          "geo": {
           "bgcolor": "white",
           "lakecolor": "white",
           "landcolor": "#E5ECF6",
           "showlakes": true,
           "showland": true,
           "subunitcolor": "white"
          },
          "hoverlabel": {
           "align": "left"
          },
          "hovermode": "closest",
          "mapbox": {
           "style": "light"
          },
          "paper_bgcolor": "white",
          "plot_bgcolor": "#E5ECF6",
          "polar": {
           "angularaxis": {
            "gridcolor": "white",
            "linecolor": "white",
            "ticks": ""
           },
           "bgcolor": "#E5ECF6",
           "radialaxis": {
            "gridcolor": "white",
            "linecolor": "white",
            "ticks": ""
           }
          },
          "scene": {
           "xaxis": {
            "backgroundcolor": "#E5ECF6",
            "gridcolor": "white",
            "gridwidth": 2,
            "linecolor": "white",
            "showbackground": true,
            "ticks": "",
            "zerolinecolor": "white"
           },
           "yaxis": {
            "backgroundcolor": "#E5ECF6",
            "gridcolor": "white",
            "gridwidth": 2,
            "linecolor": "white",
            "showbackground": true,
            "ticks": "",
            "zerolinecolor": "white"
           },
           "zaxis": {
            "backgroundcolor": "#E5ECF6",
            "gridcolor": "white",
            "gridwidth": 2,
            "linecolor": "white",
            "showbackground": true,
            "ticks": "",
            "zerolinecolor": "white"
           }
          },
          "shapedefaults": {
           "line": {
            "color": "#2a3f5f"
           }
          },
          "ternary": {
           "aaxis": {
            "gridcolor": "white",
            "linecolor": "white",
            "ticks": ""
           },
           "baxis": {
            "gridcolor": "white",
            "linecolor": "white",
            "ticks": ""
           },
           "bgcolor": "#E5ECF6",
           "caxis": {
            "gridcolor": "white",
            "linecolor": "white",
            "ticks": ""
           }
          },
          "title": {
           "x": 0.05
          },
          "xaxis": {
           "automargin": true,
           "gridcolor": "white",
           "linecolor": "white",
           "ticks": "",
           "title": {
            "standoff": 15
           },
           "zerolinecolor": "white",
           "zerolinewidth": 2
          },
          "yaxis": {
           "automargin": true,
           "gridcolor": "white",
           "linecolor": "white",
           "ticks": "",
           "title": {
            "standoff": 15
           },
           "zerolinecolor": "white",
           "zerolinewidth": 2
          }
         }
        },
        "title": {
         "text": "Trends of mean scores over the weeks"
        },
        "xaxis": {
         "anchor": "y",
         "domain": [
          0,
          1
         ],
         "title": {
          "text": "weeks"
         }
        },
        "yaxis": {
         "anchor": "x",
         "domain": [
          0,
          1
         ],
         "title": {
          "text": "S5_mean"
         }
        }
       }
      }
     },
     "metadata": {},
     "output_type": "display_data"
    }
   ],
   "source": [
    "fig = px.line(survey_scores, x=\"weeks\", y='S5_mean', markers=True, color=str('player_id'), title='Trends of mean scores over the weeks')\n",
    "fig.show()"
   ]
  },
  {
   "cell_type": "markdown",
   "metadata": {},
   "source": [
    "### Plot Survey Score to Event time for each participant"
   ]
  },
  {
   "cell_type": "code",
   "execution_count": 14,
   "metadata": {},
   "outputs": [],
   "source": [
    "# event time is given to us in seconds\n",
    "\n",
    "#sample last row for each id, from each df\n",
    "\n",
    "# get ingame timelogs for each participant\n",
    "timelogs = log.groupby(\"player_id\").event_time_dbl.apply(list).reset_index()\n",
    "\n",
    "# get final survey response\n",
    "final_survey = survey.groupby(\"player_id\").last()\n",
    "final_survey = final_survey[['S5_mean']]"
   ]
  },
  {
   "cell_type": "code",
   "execution_count": 15,
   "metadata": {},
   "outputs": [],
   "source": [
    "ingametimeSurvey = pd.merge(timelogs, final_survey, on='player_id')\n",
    "ingametimeSurvey[\"time_played\"] = 0"
   ]
  },
  {
   "cell_type": "code",
   "execution_count": 16,
   "metadata": {},
   "outputs": [],
   "source": [
    "#Function to calculate the actual time played\n",
    "def timeCal(df):\n",
    "  play_start = int(df[0])\n",
    "  play_end = 0\n",
    "  total = 0\n",
    "  #print(\"Real time: \" + str(int(timelogs.iloc[len(timelogs) - 1]) / 3600))\n",
    "\n",
    "  for i in range(1, len(df)):\n",
    "    row = int(df[i])\n",
    "    play_end = row\n",
    "\n",
    "    if i == (len(df) - 1): \n",
    "      total = total + (play_end - play_start)\n",
    "      #print(\"Ending calculate: \" + str(play_end - play_start))\n",
    "      break \n",
    "\n",
    "    row1 = int(df[i + 1])\n",
    "\n",
    "    if ((row1 - play_end) / 3600) > 12:\n",
    "      total = total + (play_end - play_start)\n",
    "      #print(\"Calculate: \" + str(play_end - play_start))\n",
    "      play_start = row1\n",
    "  \n",
    "  return total"
   ]
  },
  {
   "cell_type": "code",
   "execution_count": 17,
   "metadata": {},
   "outputs": [
    {
     "data": {
      "text/html": [
       "<div>\n",
       "<style scoped>\n",
       "    .dataframe tbody tr th:only-of-type {\n",
       "        vertical-align: middle;\n",
       "    }\n",
       "\n",
       "    .dataframe tbody tr th {\n",
       "        vertical-align: top;\n",
       "    }\n",
       "\n",
       "    .dataframe thead th {\n",
       "        text-align: right;\n",
       "    }\n",
       "</style>\n",
       "<table border=\"1\" class=\"dataframe\">\n",
       "  <thead>\n",
       "    <tr style=\"text-align: right;\">\n",
       "      <th></th>\n",
       "      <th>player_id</th>\n",
       "      <th>S5_mean</th>\n",
       "      <th>time_played</th>\n",
       "    </tr>\n",
       "  </thead>\n",
       "  <tbody>\n",
       "    <tr>\n",
       "      <th>0</th>\n",
       "      <td>6427001</td>\n",
       "      <td>3.875</td>\n",
       "      <td>10.422222</td>\n",
       "    </tr>\n",
       "    <tr>\n",
       "      <th>1</th>\n",
       "      <td>6427027</td>\n",
       "      <td>3.600</td>\n",
       "      <td>10.133611</td>\n",
       "    </tr>\n",
       "    <tr>\n",
       "      <th>2</th>\n",
       "      <td>6427030</td>\n",
       "      <td>3.500</td>\n",
       "      <td>10.087500</td>\n",
       "    </tr>\n",
       "    <tr>\n",
       "      <th>3</th>\n",
       "      <td>6427032</td>\n",
       "      <td>3.800</td>\n",
       "      <td>1.083889</td>\n",
       "    </tr>\n",
       "    <tr>\n",
       "      <th>4</th>\n",
       "      <td>6427034</td>\n",
       "      <td>4.000</td>\n",
       "      <td>7.768889</td>\n",
       "    </tr>\n",
       "    <tr>\n",
       "      <th>5</th>\n",
       "      <td>6427036</td>\n",
       "      <td>4.000</td>\n",
       "      <td>9.311111</td>\n",
       "    </tr>\n",
       "    <tr>\n",
       "      <th>6</th>\n",
       "      <td>6427037</td>\n",
       "      <td>4.000</td>\n",
       "      <td>8.395000</td>\n",
       "    </tr>\n",
       "    <tr>\n",
       "      <th>7</th>\n",
       "      <td>6427038</td>\n",
       "      <td>3.100</td>\n",
       "      <td>8.992222</td>\n",
       "    </tr>\n",
       "    <tr>\n",
       "      <th>8</th>\n",
       "      <td>6427039</td>\n",
       "      <td>4.000</td>\n",
       "      <td>3.568333</td>\n",
       "    </tr>\n",
       "    <tr>\n",
       "      <th>9</th>\n",
       "      <td>6427040</td>\n",
       "      <td>3.900</td>\n",
       "      <td>11.069722</td>\n",
       "    </tr>\n",
       "    <tr>\n",
       "      <th>10</th>\n",
       "      <td>6427041</td>\n",
       "      <td>3.200</td>\n",
       "      <td>9.126111</td>\n",
       "    </tr>\n",
       "    <tr>\n",
       "      <th>11</th>\n",
       "      <td>6429001</td>\n",
       "      <td>3.800</td>\n",
       "      <td>3.846389</td>\n",
       "    </tr>\n",
       "    <tr>\n",
       "      <th>12</th>\n",
       "      <td>6430002</td>\n",
       "      <td>4.000</td>\n",
       "      <td>8.496944</td>\n",
       "    </tr>\n",
       "    <tr>\n",
       "      <th>13</th>\n",
       "      <td>6430003</td>\n",
       "      <td>3.700</td>\n",
       "      <td>6.918056</td>\n",
       "    </tr>\n",
       "    <tr>\n",
       "      <th>14</th>\n",
       "      <td>6430004</td>\n",
       "      <td>3.800</td>\n",
       "      <td>8.499167</td>\n",
       "    </tr>\n",
       "    <tr>\n",
       "      <th>15</th>\n",
       "      <td>6430008</td>\n",
       "      <td>3.900</td>\n",
       "      <td>1.179167</td>\n",
       "    </tr>\n",
       "    <tr>\n",
       "      <th>16</th>\n",
       "      <td>6486001</td>\n",
       "      <td>3.700</td>\n",
       "      <td>7.516944</td>\n",
       "    </tr>\n",
       "    <tr>\n",
       "      <th>17</th>\n",
       "      <td>6486002</td>\n",
       "      <td>3.900</td>\n",
       "      <td>7.407778</td>\n",
       "    </tr>\n",
       "    <tr>\n",
       "      <th>18</th>\n",
       "      <td>6486003</td>\n",
       "      <td>4.000</td>\n",
       "      <td>10.362500</td>\n",
       "    </tr>\n",
       "    <tr>\n",
       "      <th>19</th>\n",
       "      <td>6486004</td>\n",
       "      <td>3.900</td>\n",
       "      <td>9.541389</td>\n",
       "    </tr>\n",
       "    <tr>\n",
       "      <th>20</th>\n",
       "      <td>6486005</td>\n",
       "      <td>4.000</td>\n",
       "      <td>7.331667</td>\n",
       "    </tr>\n",
       "    <tr>\n",
       "      <th>21</th>\n",
       "      <td>6486009</td>\n",
       "      <td>3.800</td>\n",
       "      <td>8.452778</td>\n",
       "    </tr>\n",
       "    <tr>\n",
       "      <th>22</th>\n",
       "      <td>6486011</td>\n",
       "      <td>4.000</td>\n",
       "      <td>2.803333</td>\n",
       "    </tr>\n",
       "    <tr>\n",
       "      <th>23</th>\n",
       "      <td>6486013</td>\n",
       "      <td>4.000</td>\n",
       "      <td>8.251667</td>\n",
       "    </tr>\n",
       "    <tr>\n",
       "      <th>24</th>\n",
       "      <td>6486018</td>\n",
       "      <td>3.100</td>\n",
       "      <td>10.777778</td>\n",
       "    </tr>\n",
       "    <tr>\n",
       "      <th>25</th>\n",
       "      <td>6486019</td>\n",
       "      <td>4.000</td>\n",
       "      <td>9.834722</td>\n",
       "    </tr>\n",
       "    <tr>\n",
       "      <th>26</th>\n",
       "      <td>6486020</td>\n",
       "      <td>4.000</td>\n",
       "      <td>8.875833</td>\n",
       "    </tr>\n",
       "    <tr>\n",
       "      <th>27</th>\n",
       "      <td>6486023</td>\n",
       "      <td>4.000</td>\n",
       "      <td>6.894167</td>\n",
       "    </tr>\n",
       "    <tr>\n",
       "      <th>28</th>\n",
       "      <td>6486025</td>\n",
       "      <td>4.000</td>\n",
       "      <td>10.562778</td>\n",
       "    </tr>\n",
       "    <tr>\n",
       "      <th>29</th>\n",
       "      <td>6486026</td>\n",
       "      <td>4.000</td>\n",
       "      <td>10.018056</td>\n",
       "    </tr>\n",
       "    <tr>\n",
       "      <th>30</th>\n",
       "      <td>6486029</td>\n",
       "      <td>3.500</td>\n",
       "      <td>7.351944</td>\n",
       "    </tr>\n",
       "    <tr>\n",
       "      <th>31</th>\n",
       "      <td>6486032</td>\n",
       "      <td>3.900</td>\n",
       "      <td>8.393056</td>\n",
       "    </tr>\n",
       "    <tr>\n",
       "      <th>32</th>\n",
       "      <td>6486033</td>\n",
       "      <td>4.000</td>\n",
       "      <td>6.246389</td>\n",
       "    </tr>\n",
       "    <tr>\n",
       "      <th>33</th>\n",
       "      <td>6486034</td>\n",
       "      <td>3.900</td>\n",
       "      <td>8.706944</td>\n",
       "    </tr>\n",
       "    <tr>\n",
       "      <th>34</th>\n",
       "      <td>6486038</td>\n",
       "      <td>4.000</td>\n",
       "      <td>8.943333</td>\n",
       "    </tr>\n",
       "    <tr>\n",
       "      <th>35</th>\n",
       "      <td>6486039</td>\n",
       "      <td>4.000</td>\n",
       "      <td>10.157500</td>\n",
       "    </tr>\n",
       "    <tr>\n",
       "      <th>36</th>\n",
       "      <td>6486040</td>\n",
       "      <td>3.900</td>\n",
       "      <td>8.194722</td>\n",
       "    </tr>\n",
       "    <tr>\n",
       "      <th>37</th>\n",
       "      <td>6506008</td>\n",
       "      <td>3.300</td>\n",
       "      <td>9.742778</td>\n",
       "    </tr>\n",
       "    <tr>\n",
       "      <th>38</th>\n",
       "      <td>6506009</td>\n",
       "      <td>4.000</td>\n",
       "      <td>5.821111</td>\n",
       "    </tr>\n",
       "    <tr>\n",
       "      <th>39</th>\n",
       "      <td>6546001</td>\n",
       "      <td>3.800</td>\n",
       "      <td>10.218889</td>\n",
       "    </tr>\n",
       "    <tr>\n",
       "      <th>40</th>\n",
       "      <td>6546005</td>\n",
       "      <td>3.700</td>\n",
       "      <td>9.904722</td>\n",
       "    </tr>\n",
       "    <tr>\n",
       "      <th>41</th>\n",
       "      <td>6546006</td>\n",
       "      <td>4.000</td>\n",
       "      <td>11.316111</td>\n",
       "    </tr>\n",
       "    <tr>\n",
       "      <th>42</th>\n",
       "      <td>6546008</td>\n",
       "      <td>4.000</td>\n",
       "      <td>10.540556</td>\n",
       "    </tr>\n",
       "    <tr>\n",
       "      <th>43</th>\n",
       "      <td>6546011</td>\n",
       "      <td>3.800</td>\n",
       "      <td>6.133611</td>\n",
       "    </tr>\n",
       "    <tr>\n",
       "      <th>44</th>\n",
       "      <td>6566001</td>\n",
       "      <td>4.000</td>\n",
       "      <td>10.496111</td>\n",
       "    </tr>\n",
       "    <tr>\n",
       "      <th>45</th>\n",
       "      <td>6566003</td>\n",
       "      <td>4.000</td>\n",
       "      <td>8.237500</td>\n",
       "    </tr>\n",
       "    <tr>\n",
       "      <th>46</th>\n",
       "      <td>6567002</td>\n",
       "      <td>4.000</td>\n",
       "      <td>6.102778</td>\n",
       "    </tr>\n",
       "    <tr>\n",
       "      <th>47</th>\n",
       "      <td>6567003</td>\n",
       "      <td>4.000</td>\n",
       "      <td>6.392778</td>\n",
       "    </tr>\n",
       "    <tr>\n",
       "      <th>48</th>\n",
       "      <td>6606001</td>\n",
       "      <td>3.600</td>\n",
       "      <td>2.481111</td>\n",
       "    </tr>\n",
       "    <tr>\n",
       "      <th>49</th>\n",
       "      <td>6606002</td>\n",
       "      <td>3.100</td>\n",
       "      <td>3.464722</td>\n",
       "    </tr>\n",
       "    <tr>\n",
       "      <th>50</th>\n",
       "      <td>6606003</td>\n",
       "      <td>4.000</td>\n",
       "      <td>11.863611</td>\n",
       "    </tr>\n",
       "    <tr>\n",
       "      <th>51</th>\n",
       "      <td>6606004</td>\n",
       "      <td>4.000</td>\n",
       "      <td>11.256111</td>\n",
       "    </tr>\n",
       "    <tr>\n",
       "      <th>52</th>\n",
       "      <td>6606005</td>\n",
       "      <td>4.000</td>\n",
       "      <td>8.919444</td>\n",
       "    </tr>\n",
       "    <tr>\n",
       "      <th>53</th>\n",
       "      <td>6606006</td>\n",
       "      <td>4.000</td>\n",
       "      <td>7.580278</td>\n",
       "    </tr>\n",
       "    <tr>\n",
       "      <th>54</th>\n",
       "      <td>6606011</td>\n",
       "      <td>3.800</td>\n",
       "      <td>2.524722</td>\n",
       "    </tr>\n",
       "    <tr>\n",
       "      <th>55</th>\n",
       "      <td>6607006</td>\n",
       "      <td>4.000</td>\n",
       "      <td>10.608889</td>\n",
       "    </tr>\n",
       "    <tr>\n",
       "      <th>56</th>\n",
       "      <td>6607007</td>\n",
       "      <td>4.000</td>\n",
       "      <td>2.618889</td>\n",
       "    </tr>\n",
       "    <tr>\n",
       "      <th>57</th>\n",
       "      <td>6607008</td>\n",
       "      <td>3.900</td>\n",
       "      <td>7.705000</td>\n",
       "    </tr>\n",
       "    <tr>\n",
       "      <th>58</th>\n",
       "      <td>6607009</td>\n",
       "      <td>4.000</td>\n",
       "      <td>0.731944</td>\n",
       "    </tr>\n",
       "    <tr>\n",
       "      <th>59</th>\n",
       "      <td>6607010</td>\n",
       "      <td>4.000</td>\n",
       "      <td>8.306111</td>\n",
       "    </tr>\n",
       "    <tr>\n",
       "      <th>60</th>\n",
       "      <td>6608002</td>\n",
       "      <td>4.000</td>\n",
       "      <td>8.882778</td>\n",
       "    </tr>\n",
       "  </tbody>\n",
       "</table>\n",
       "</div>"
      ],
      "text/plain": [
       "    player_id  S5_mean  time_played\n",
       "0     6427001    3.875    10.422222\n",
       "1     6427027    3.600    10.133611\n",
       "2     6427030    3.500    10.087500\n",
       "3     6427032    3.800     1.083889\n",
       "4     6427034    4.000     7.768889\n",
       "5     6427036    4.000     9.311111\n",
       "6     6427037    4.000     8.395000\n",
       "7     6427038    3.100     8.992222\n",
       "8     6427039    4.000     3.568333\n",
       "9     6427040    3.900    11.069722\n",
       "10    6427041    3.200     9.126111\n",
       "11    6429001    3.800     3.846389\n",
       "12    6430002    4.000     8.496944\n",
       "13    6430003    3.700     6.918056\n",
       "14    6430004    3.800     8.499167\n",
       "15    6430008    3.900     1.179167\n",
       "16    6486001    3.700     7.516944\n",
       "17    6486002    3.900     7.407778\n",
       "18    6486003    4.000    10.362500\n",
       "19    6486004    3.900     9.541389\n",
       "20    6486005    4.000     7.331667\n",
       "21    6486009    3.800     8.452778\n",
       "22    6486011    4.000     2.803333\n",
       "23    6486013    4.000     8.251667\n",
       "24    6486018    3.100    10.777778\n",
       "25    6486019    4.000     9.834722\n",
       "26    6486020    4.000     8.875833\n",
       "27    6486023    4.000     6.894167\n",
       "28    6486025    4.000    10.562778\n",
       "29    6486026    4.000    10.018056\n",
       "30    6486029    3.500     7.351944\n",
       "31    6486032    3.900     8.393056\n",
       "32    6486033    4.000     6.246389\n",
       "33    6486034    3.900     8.706944\n",
       "34    6486038    4.000     8.943333\n",
       "35    6486039    4.000    10.157500\n",
       "36    6486040    3.900     8.194722\n",
       "37    6506008    3.300     9.742778\n",
       "38    6506009    4.000     5.821111\n",
       "39    6546001    3.800    10.218889\n",
       "40    6546005    3.700     9.904722\n",
       "41    6546006    4.000    11.316111\n",
       "42    6546008    4.000    10.540556\n",
       "43    6546011    3.800     6.133611\n",
       "44    6566001    4.000    10.496111\n",
       "45    6566003    4.000     8.237500\n",
       "46    6567002    4.000     6.102778\n",
       "47    6567003    4.000     6.392778\n",
       "48    6606001    3.600     2.481111\n",
       "49    6606002    3.100     3.464722\n",
       "50    6606003    4.000    11.863611\n",
       "51    6606004    4.000    11.256111\n",
       "52    6606005    4.000     8.919444\n",
       "53    6606006    4.000     7.580278\n",
       "54    6606011    3.800     2.524722\n",
       "55    6607006    4.000    10.608889\n",
       "56    6607007    4.000     2.618889\n",
       "57    6607008    3.900     7.705000\n",
       "58    6607009    4.000     0.731944\n",
       "59    6607010    4.000     8.306111\n",
       "60    6608002    4.000     8.882778"
      ]
     },
     "execution_count": 17,
     "metadata": {},
     "output_type": "execute_result"
    }
   ],
   "source": [
    "# And drop rows with > 25 hours\n",
    "for i in range(len(ingametimeSurvey)): \n",
    "  actualTime = timeCal(ingametimeSurvey.iloc[i][1])\n",
    "  #print(actualTime/3600)\n",
    "  ingametimeSurvey.at[i, \"time_played\"] = actualTime/3600 \n",
    "\n",
    "ingametimeSurvey.drop(\"event_time_dbl\", inplace=True, axis=1)\n",
    "ingametimeSurvey "
   ]
  },
  {
   "cell_type": "code",
   "execution_count": 22,
   "metadata": {},
   "outputs": [
    {
     "data": {
      "application/vnd.plotly.v1+json": {
       "config": {
        "plotlyServerURL": "https://plot.ly"
       },
       "data": [
        {
         "hovertemplate": "x=%{x}<br>y=%{y}<extra></extra>",
         "legendgroup": "",
         "marker": {
          "color": "#636efa",
          "symbol": "circle"
         },
         "mode": "markers",
         "name": "",
         "orientation": "v",
         "showlegend": false,
         "type": "scatter",
         "x": [
          10.422222222222222,
          10.133611111111112,
          10.0875,
          1.083888888888889,
          7.768888888888889,
          9.311111111111112,
          8.395,
          8.992222222222223,
          3.5683333333333334,
          11.069722222222222,
          9.126111111111111,
          3.846388888888889,
          8.496944444444445,
          6.918055555555555,
          8.499166666666667,
          1.1791666666666667,
          7.516944444444444,
          7.407777777777778,
          10.3625,
          9.54138888888889,
          7.331666666666667,
          8.452777777777778,
          2.8033333333333332,
          8.251666666666667,
          10.777777777777779,
          9.834722222222222,
          8.875833333333333,
          6.894166666666667,
          10.562777777777777,
          10.018055555555556,
          7.351944444444444,
          8.393055555555556,
          6.246388888888889,
          8.706944444444444,
          8.943333333333333,
          10.1575,
          8.194722222222222,
          9.742777777777778,
          5.821111111111111,
          10.21888888888889,
          9.904722222222222,
          11.31611111111111,
          10.540555555555555,
          6.133611111111111,
          10.49611111111111,
          8.2375,
          6.102777777777778,
          6.392777777777778,
          2.4811111111111113,
          3.464722222222222,
          11.863611111111112,
          11.25611111111111,
          8.919444444444444,
          7.580277777777778,
          2.524722222222222,
          10.608888888888888,
          2.618888888888889,
          7.705,
          0.7319444444444444,
          8.306111111111111,
          8.882777777777777
         ],
         "xaxis": "x",
         "y": [
          3.875,
          3.6,
          3.5,
          3.8,
          4,
          4,
          4,
          3.1,
          4,
          3.9,
          3.2,
          3.8,
          4,
          3.7,
          3.8,
          3.9,
          3.7,
          3.9,
          4,
          3.9,
          4,
          3.8,
          4,
          4,
          3.1,
          4,
          4,
          4,
          4,
          4,
          3.5,
          3.9,
          4,
          3.9,
          4,
          4,
          3.9,
          3.3,
          4,
          3.8,
          3.7,
          4,
          4,
          3.8,
          4,
          4,
          4,
          4,
          3.6,
          3.1,
          4,
          4,
          4,
          4,
          3.8,
          4,
          4,
          3.9,
          4,
          4,
          4
         ],
         "yaxis": "y"
        },
        {
         "hovertemplate": "<b>OLS trendline</b><br>y = 0.000880269 * x + 3.84188<br>R<sup>2</sup>=0.000102<br><br>x=%{x}<br>y=%{y} <b>(trend)</b><extra></extra>",
         "legendgroup": "Overall Trendline",
         "line": {
          "color": "#EF553B"
         },
         "mode": "lines",
         "name": "Overall Trendline",
         "showlegend": true,
         "type": "scatter",
         "x": [
          0.7319444444444444,
          1.083888888888889,
          1.1791666666666667,
          2.4811111111111113,
          2.524722222222222,
          2.618888888888889,
          2.8033333333333332,
          3.464722222222222,
          3.5683333333333334,
          3.846388888888889,
          5.821111111111111,
          6.102777777777778,
          6.133611111111111,
          6.246388888888889,
          6.392777777777778,
          6.894166666666667,
          6.918055555555555,
          7.331666666666667,
          7.351944444444444,
          7.407777777777778,
          7.516944444444444,
          7.580277777777778,
          7.705,
          7.768888888888889,
          8.194722222222222,
          8.2375,
          8.251666666666667,
          8.306111111111111,
          8.393055555555556,
          8.395,
          8.452777777777778,
          8.496944444444445,
          8.499166666666667,
          8.706944444444444,
          8.875833333333333,
          8.882777777777777,
          8.919444444444444,
          8.943333333333333,
          8.992222222222223,
          9.126111111111111,
          9.311111111111112,
          9.54138888888889,
          9.742777777777778,
          9.834722222222222,
          9.904722222222222,
          10.018055555555556,
          10.0875,
          10.133611111111112,
          10.1575,
          10.21888888888889,
          10.3625,
          10.422222222222222,
          10.49611111111111,
          10.540555555555555,
          10.562777777777777,
          10.608888888888888,
          10.777777777777779,
          11.069722222222222,
          11.25611111111111,
          11.31611111111111,
          11.863611111111112
         ],
         "xaxis": "x",
         "y": [
          3.8425259850657834,
          3.8428357908653408,
          3.842919660943674,
          3.844065722334777,
          3.844104111845851,
          3.8441870038474693,
          3.844349364582202,
          3.844931564746959,
          3.8450227704006563,
          3.8452675340986495,
          3.847005820940841,
          3.8472537633881587,
          3.847280905017007,
          3.8473801798036056,
          3.8475090414108406,
          3.8479503985286008,
          3.8479714271779786,
          3.8483355162352333,
          3.848353366135287,
          3.8484025144902283,
          3.8484986105275025,
          3.8485543609002724,
          3.84866415001156,
          3.848720389422687,
          3.8490952373238096,
          3.8491328932773468,
          3.8491453637554662,
          3.8491932895145142,
          3.8492698240174827,
          3.849271535651735,
          3.849322395640928,
          3.8493612741903593,
          3.84936323034379,
          3.8495461306895433,
          3.8496947983502623,
          3.8497009113297325,
          3.8497331878613363,
          3.849754216510714,
          3.8497972518861854,
          3.849915110130374,
          3.8500779599034645,
          3.8502806663027016,
          3.850457942707342,
          3.8505388785555295,
          3.850600497388591,
          3.850700261213547,
          3.8507613910082505,
          3.8508019811919336,
          3.850823009841312,
          3.8508770485798296,
          3.851003464995277,
          3.8510560366187216,
          3.8511210787202863,
          3.851160201788897,
          3.8511797633232017,
          3.851220353506885,
          3.851369021167604,
          3.851626010824538,
          3.8517900831935226,
          3.8518428993361464,
          3.8523248466375892
         ],
         "yaxis": "y"
        }
       ],
       "layout": {
        "legend": {
         "tracegroupgap": 0
        },
        "margin": {
         "t": 60
        },
        "template": {
         "data": {
          "bar": [
           {
            "error_x": {
             "color": "#2a3f5f"
            },
            "error_y": {
             "color": "#2a3f5f"
            },
            "marker": {
             "line": {
              "color": "#E5ECF6",
              "width": 0.5
             },
             "pattern": {
              "fillmode": "overlay",
              "size": 10,
              "solidity": 0.2
             }
            },
            "type": "bar"
           }
          ],
          "barpolar": [
           {
            "marker": {
             "line": {
              "color": "#E5ECF6",
              "width": 0.5
             },
             "pattern": {
              "fillmode": "overlay",
              "size": 10,
              "solidity": 0.2
             }
            },
            "type": "barpolar"
           }
          ],
          "carpet": [
           {
            "aaxis": {
             "endlinecolor": "#2a3f5f",
             "gridcolor": "white",
             "linecolor": "white",
             "minorgridcolor": "white",
             "startlinecolor": "#2a3f5f"
            },
            "baxis": {
             "endlinecolor": "#2a3f5f",
             "gridcolor": "white",
             "linecolor": "white",
             "minorgridcolor": "white",
             "startlinecolor": "#2a3f5f"
            },
            "type": "carpet"
           }
          ],
          "choropleth": [
           {
            "colorbar": {
             "outlinewidth": 0,
             "ticks": ""
            },
            "type": "choropleth"
           }
          ],
          "contour": [
           {
            "colorbar": {
             "outlinewidth": 0,
             "ticks": ""
            },
            "colorscale": [
             [
              0,
              "#0d0887"
             ],
             [
              0.1111111111111111,
              "#46039f"
             ],
             [
              0.2222222222222222,
              "#7201a8"
             ],
             [
              0.3333333333333333,
              "#9c179e"
             ],
             [
              0.4444444444444444,
              "#bd3786"
             ],
             [
              0.5555555555555556,
              "#d8576b"
             ],
             [
              0.6666666666666666,
              "#ed7953"
             ],
             [
              0.7777777777777778,
              "#fb9f3a"
             ],
             [
              0.8888888888888888,
              "#fdca26"
             ],
             [
              1,
              "#f0f921"
             ]
            ],
            "type": "contour"
           }
          ],
          "contourcarpet": [
           {
            "colorbar": {
             "outlinewidth": 0,
             "ticks": ""
            },
            "type": "contourcarpet"
           }
          ],
          "heatmap": [
           {
            "colorbar": {
             "outlinewidth": 0,
             "ticks": ""
            },
            "colorscale": [
             [
              0,
              "#0d0887"
             ],
             [
              0.1111111111111111,
              "#46039f"
             ],
             [
              0.2222222222222222,
              "#7201a8"
             ],
             [
              0.3333333333333333,
              "#9c179e"
             ],
             [
              0.4444444444444444,
              "#bd3786"
             ],
             [
              0.5555555555555556,
              "#d8576b"
             ],
             [
              0.6666666666666666,
              "#ed7953"
             ],
             [
              0.7777777777777778,
              "#fb9f3a"
             ],
             [
              0.8888888888888888,
              "#fdca26"
             ],
             [
              1,
              "#f0f921"
             ]
            ],
            "type": "heatmap"
           }
          ],
          "heatmapgl": [
           {
            "colorbar": {
             "outlinewidth": 0,
             "ticks": ""
            },
            "colorscale": [
             [
              0,
              "#0d0887"
             ],
             [
              0.1111111111111111,
              "#46039f"
             ],
             [
              0.2222222222222222,
              "#7201a8"
             ],
             [
              0.3333333333333333,
              "#9c179e"
             ],
             [
              0.4444444444444444,
              "#bd3786"
             ],
             [
              0.5555555555555556,
              "#d8576b"
             ],
             [
              0.6666666666666666,
              "#ed7953"
             ],
             [
              0.7777777777777778,
              "#fb9f3a"
             ],
             [
              0.8888888888888888,
              "#fdca26"
             ],
             [
              1,
              "#f0f921"
             ]
            ],
            "type": "heatmapgl"
           }
          ],
          "histogram": [
           {
            "marker": {
             "pattern": {
              "fillmode": "overlay",
              "size": 10,
              "solidity": 0.2
             }
            },
            "type": "histogram"
           }
          ],
          "histogram2d": [
           {
            "colorbar": {
             "outlinewidth": 0,
             "ticks": ""
            },
            "colorscale": [
             [
              0,
              "#0d0887"
             ],
             [
              0.1111111111111111,
              "#46039f"
             ],
             [
              0.2222222222222222,
              "#7201a8"
             ],
             [
              0.3333333333333333,
              "#9c179e"
             ],
             [
              0.4444444444444444,
              "#bd3786"
             ],
             [
              0.5555555555555556,
              "#d8576b"
             ],
             [
              0.6666666666666666,
              "#ed7953"
             ],
             [
              0.7777777777777778,
              "#fb9f3a"
             ],
             [
              0.8888888888888888,
              "#fdca26"
             ],
             [
              1,
              "#f0f921"
             ]
            ],
            "type": "histogram2d"
           }
          ],
          "histogram2dcontour": [
           {
            "colorbar": {
             "outlinewidth": 0,
             "ticks": ""
            },
            "colorscale": [
             [
              0,
              "#0d0887"
             ],
             [
              0.1111111111111111,
              "#46039f"
             ],
             [
              0.2222222222222222,
              "#7201a8"
             ],
             [
              0.3333333333333333,
              "#9c179e"
             ],
             [
              0.4444444444444444,
              "#bd3786"
             ],
             [
              0.5555555555555556,
              "#d8576b"
             ],
             [
              0.6666666666666666,
              "#ed7953"
             ],
             [
              0.7777777777777778,
              "#fb9f3a"
             ],
             [
              0.8888888888888888,
              "#fdca26"
             ],
             [
              1,
              "#f0f921"
             ]
            ],
            "type": "histogram2dcontour"
           }
          ],
          "mesh3d": [
           {
            "colorbar": {
             "outlinewidth": 0,
             "ticks": ""
            },
            "type": "mesh3d"
           }
          ],
          "parcoords": [
           {
            "line": {
             "colorbar": {
              "outlinewidth": 0,
              "ticks": ""
             }
            },
            "type": "parcoords"
           }
          ],
          "pie": [
           {
            "automargin": true,
            "type": "pie"
           }
          ],
          "scatter": [
           {
            "fillpattern": {
             "fillmode": "overlay",
             "size": 10,
             "solidity": 0.2
            },
            "type": "scatter"
           }
          ],
          "scatter3d": [
           {
            "line": {
             "colorbar": {
              "outlinewidth": 0,
              "ticks": ""
             }
            },
            "marker": {
             "colorbar": {
              "outlinewidth": 0,
              "ticks": ""
             }
            },
            "type": "scatter3d"
           }
          ],
          "scattercarpet": [
           {
            "marker": {
             "colorbar": {
              "outlinewidth": 0,
              "ticks": ""
             }
            },
            "type": "scattercarpet"
           }
          ],
          "scattergeo": [
           {
            "marker": {
             "colorbar": {
              "outlinewidth": 0,
              "ticks": ""
             }
            },
            "type": "scattergeo"
           }
          ],
          "scattergl": [
           {
            "marker": {
             "colorbar": {
              "outlinewidth": 0,
              "ticks": ""
             }
            },
            "type": "scattergl"
           }
          ],
          "scattermapbox": [
           {
            "marker": {
             "colorbar": {
              "outlinewidth": 0,
              "ticks": ""
             }
            },
            "type": "scattermapbox"
           }
          ],
          "scatterpolar": [
           {
            "marker": {
             "colorbar": {
              "outlinewidth": 0,
              "ticks": ""
             }
            },
            "type": "scatterpolar"
           }
          ],
          "scatterpolargl": [
           {
            "marker": {
             "colorbar": {
              "outlinewidth": 0,
              "ticks": ""
             }
            },
            "type": "scatterpolargl"
           }
          ],
          "scatterternary": [
           {
            "marker": {
             "colorbar": {
              "outlinewidth": 0,
              "ticks": ""
             }
            },
            "type": "scatterternary"
           }
          ],
          "surface": [
           {
            "colorbar": {
             "outlinewidth": 0,
             "ticks": ""
            },
            "colorscale": [
             [
              0,
              "#0d0887"
             ],
             [
              0.1111111111111111,
              "#46039f"
             ],
             [
              0.2222222222222222,
              "#7201a8"
             ],
             [
              0.3333333333333333,
              "#9c179e"
             ],
             [
              0.4444444444444444,
              "#bd3786"
             ],
             [
              0.5555555555555556,
              "#d8576b"
             ],
             [
              0.6666666666666666,
              "#ed7953"
             ],
             [
              0.7777777777777778,
              "#fb9f3a"
             ],
             [
              0.8888888888888888,
              "#fdca26"
             ],
             [
              1,
              "#f0f921"
             ]
            ],
            "type": "surface"
           }
          ],
          "table": [
           {
            "cells": {
             "fill": {
              "color": "#EBF0F8"
             },
             "line": {
              "color": "white"
             }
            },
            "header": {
             "fill": {
              "color": "#C8D4E3"
             },
             "line": {
              "color": "white"
             }
            },
            "type": "table"
           }
          ]
         },
         "layout": {
          "annotationdefaults": {
           "arrowcolor": "#2a3f5f",
           "arrowhead": 0,
           "arrowwidth": 1
          },
          "autotypenumbers": "strict",
          "coloraxis": {
           "colorbar": {
            "outlinewidth": 0,
            "ticks": ""
           }
          },
          "colorscale": {
           "diverging": [
            [
             0,
             "#8e0152"
            ],
            [
             0.1,
             "#c51b7d"
            ],
            [
             0.2,
             "#de77ae"
            ],
            [
             0.3,
             "#f1b6da"
            ],
            [
             0.4,
             "#fde0ef"
            ],
            [
             0.5,
             "#f7f7f7"
            ],
            [
             0.6,
             "#e6f5d0"
            ],
            [
             0.7,
             "#b8e186"
            ],
            [
             0.8,
             "#7fbc41"
            ],
            [
             0.9,
             "#4d9221"
            ],
            [
             1,
             "#276419"
            ]
           ],
           "sequential": [
            [
             0,
             "#0d0887"
            ],
            [
             0.1111111111111111,
             "#46039f"
            ],
            [
             0.2222222222222222,
             "#7201a8"
            ],
            [
             0.3333333333333333,
             "#9c179e"
            ],
            [
             0.4444444444444444,
             "#bd3786"
            ],
            [
             0.5555555555555556,
             "#d8576b"
            ],
            [
             0.6666666666666666,
             "#ed7953"
            ],
            [
             0.7777777777777778,
             "#fb9f3a"
            ],
            [
             0.8888888888888888,
             "#fdca26"
            ],
            [
             1,
             "#f0f921"
            ]
           ],
           "sequentialminus": [
            [
             0,
             "#0d0887"
            ],
            [
             0.1111111111111111,
             "#46039f"
            ],
            [
             0.2222222222222222,
             "#7201a8"
            ],
            [
             0.3333333333333333,
             "#9c179e"
            ],
            [
             0.4444444444444444,
             "#bd3786"
            ],
            [
             0.5555555555555556,
             "#d8576b"
            ],
            [
             0.6666666666666666,
             "#ed7953"
            ],
            [
             0.7777777777777778,
             "#fb9f3a"
            ],
            [
             0.8888888888888888,
             "#fdca26"
            ],
            [
             1,
             "#f0f921"
            ]
           ]
          },
          "colorway": [
           "#636efa",
           "#EF553B",
           "#00cc96",
           "#ab63fa",
           "#FFA15A",
           "#19d3f3",
           "#FF6692",
           "#B6E880",
           "#FF97FF",
           "#FECB52"
          ],
          "font": {
           "color": "#2a3f5f"
          },
          "geo": {
           "bgcolor": "white",
           "lakecolor": "white",
           "landcolor": "#E5ECF6",
           "showlakes": true,
           "showland": true,
           "subunitcolor": "white"
          },
          "hoverlabel": {
           "align": "left"
          },
          "hovermode": "closest",
          "mapbox": {
           "style": "light"
          },
          "paper_bgcolor": "white",
          "plot_bgcolor": "#E5ECF6",
          "polar": {
           "angularaxis": {
            "gridcolor": "white",
            "linecolor": "white",
            "ticks": ""
           },
           "bgcolor": "#E5ECF6",
           "radialaxis": {
            "gridcolor": "white",
            "linecolor": "white",
            "ticks": ""
           }
          },
          "scene": {
           "xaxis": {
            "backgroundcolor": "#E5ECF6",
            "gridcolor": "white",
            "gridwidth": 2,
            "linecolor": "white",
            "showbackground": true,
            "ticks": "",
            "zerolinecolor": "white"
           },
           "yaxis": {
            "backgroundcolor": "#E5ECF6",
            "gridcolor": "white",
            "gridwidth": 2,
            "linecolor": "white",
            "showbackground": true,
            "ticks": "",
            "zerolinecolor": "white"
           },
           "zaxis": {
            "backgroundcolor": "#E5ECF6",
            "gridcolor": "white",
            "gridwidth": 2,
            "linecolor": "white",
            "showbackground": true,
            "ticks": "",
            "zerolinecolor": "white"
           }
          },
          "shapedefaults": {
           "line": {
            "color": "#2a3f5f"
           }
          },
          "ternary": {
           "aaxis": {
            "gridcolor": "white",
            "linecolor": "white",
            "ticks": ""
           },
           "baxis": {
            "gridcolor": "white",
            "linecolor": "white",
            "ticks": ""
           },
           "bgcolor": "#E5ECF6",
           "caxis": {
            "gridcolor": "white",
            "linecolor": "white",
            "ticks": ""
           }
          },
          "title": {
           "x": 0.05
          },
          "xaxis": {
           "automargin": true,
           "gridcolor": "white",
           "linecolor": "white",
           "ticks": "",
           "title": {
            "standoff": 15
           },
           "zerolinecolor": "white",
           "zerolinewidth": 2
          },
          "yaxis": {
           "automargin": true,
           "gridcolor": "white",
           "linecolor": "white",
           "ticks": "",
           "title": {
            "standoff": 15
           },
           "zerolinecolor": "white",
           "zerolinewidth": 2
          }
         }
        },
        "xaxis": {
         "anchor": "y",
         "domain": [
          0,
          1
         ],
         "title": {
          "text": "x"
         }
        },
        "yaxis": {
         "anchor": "x",
         "domain": [
          0,
          1
         ],
         "title": {
          "text": "y"
         }
        }
       }
      }
     },
     "metadata": {},
     "output_type": "display_data"
    }
   ],
   "source": [
    "#plot\n",
    "playTime_fig = px.scatter(x=ingametimeSurvey.time_played, y=ingametimeSurvey.S5_mean, trendline=\"ols\", trendline_scope=\"overall\")\n",
    "playTime_fig"
   ]
  },
  {
   "cell_type": "code",
   "execution_count": 31,
   "metadata": {},
   "outputs": [
    {
     "name": "stdout",
     "output_type": "stream",
     "text": [
      "                                      px_fit_results\n",
      "0  <statsmodels.regression.linear_model.Regressio...\n",
      "The R squared of the model is: 0.000102\n"
     ]
    }
   ],
   "source": [
    "results = px.get_trendline_results(playTime_fig)\n",
    "print(results)\n",
    "a = px.get_trendline_results(playTime_fig).px_fit_results.iloc[0].rsquared \n",
    "print(\"The R squared of the model is: \" + str(round(a, 6)))"
   ]
  },
  {
   "cell_type": "markdown",
   "metadata": {},
   "source": [
    "## Looking at priorities "
   ]
  },
  {
   "cell_type": "code",
   "execution_count": 20,
   "metadata": {},
   "outputs": [
    {
     "data": {
      "text/html": [
       "<div>\n",
       "<style scoped>\n",
       "    .dataframe tbody tr th:only-of-type {\n",
       "        vertical-align: middle;\n",
       "    }\n",
       "\n",
       "    .dataframe tbody tr th {\n",
       "        vertical-align: top;\n",
       "    }\n",
       "\n",
       "    .dataframe thead th {\n",
       "        text-align: right;\n",
       "    }\n",
       "</style>\n",
       "<table border=\"1\" class=\"dataframe\">\n",
       "  <thead>\n",
       "    <tr style=\"text-align: right;\">\n",
       "      <th></th>\n",
       "      <th>priority_type_that_went_to_zero</th>\n",
       "      <th>row_id</th>\n",
       "      <th>player_id</th>\n",
       "      <th>school</th>\n",
       "      <th>wave</th>\n",
       "      <th>session</th>\n",
       "      <th>date</th>\n",
       "      <th>event_id</th>\n",
       "      <th>event_description</th>\n",
       "      <th>event_category</th>\n",
       "      <th>...</th>\n",
       "      <th>piece1_id</th>\n",
       "      <th>piece2_id</th>\n",
       "      <th>piece3_id</th>\n",
       "      <th>opponent_point_loss</th>\n",
       "      <th>player_points</th>\n",
       "      <th>opponent_points</th>\n",
       "      <th>old_rating</th>\n",
       "      <th>new_rating</th>\n",
       "      <th>epilogue_item_id</th>\n",
       "      <th>item_locked_unlocked_state</th>\n",
       "    </tr>\n",
       "  </thead>\n",
       "  <tbody>\n",
       "    <tr>\n",
       "      <th>0</th>\n",
       "      <td>Family</td>\n",
       "      <td>5</td>\n",
       "      <td>5</td>\n",
       "      <td>5</td>\n",
       "      <td>5</td>\n",
       "      <td>5</td>\n",
       "      <td>5</td>\n",
       "      <td>5</td>\n",
       "      <td>5</td>\n",
       "      <td>5</td>\n",
       "      <td>...</td>\n",
       "      <td>0</td>\n",
       "      <td>0</td>\n",
       "      <td>0</td>\n",
       "      <td>0</td>\n",
       "      <td>0</td>\n",
       "      <td>0</td>\n",
       "      <td>0</td>\n",
       "      <td>0</td>\n",
       "      <td>0</td>\n",
       "      <td>0</td>\n",
       "    </tr>\n",
       "    <tr>\n",
       "      <th>1</th>\n",
       "      <td>Friends</td>\n",
       "      <td>8</td>\n",
       "      <td>8</td>\n",
       "      <td>8</td>\n",
       "      <td>8</td>\n",
       "      <td>8</td>\n",
       "      <td>8</td>\n",
       "      <td>8</td>\n",
       "      <td>8</td>\n",
       "      <td>8</td>\n",
       "      <td>...</td>\n",
       "      <td>0</td>\n",
       "      <td>0</td>\n",
       "      <td>0</td>\n",
       "      <td>0</td>\n",
       "      <td>0</td>\n",
       "      <td>0</td>\n",
       "      <td>0</td>\n",
       "      <td>0</td>\n",
       "      <td>0</td>\n",
       "      <td>0</td>\n",
       "    </tr>\n",
       "    <tr>\n",
       "      <th>2</th>\n",
       "      <td>Happiness</td>\n",
       "      <td>48</td>\n",
       "      <td>48</td>\n",
       "      <td>48</td>\n",
       "      <td>48</td>\n",
       "      <td>48</td>\n",
       "      <td>48</td>\n",
       "      <td>48</td>\n",
       "      <td>48</td>\n",
       "      <td>48</td>\n",
       "      <td>...</td>\n",
       "      <td>0</td>\n",
       "      <td>0</td>\n",
       "      <td>0</td>\n",
       "      <td>0</td>\n",
       "      <td>0</td>\n",
       "      <td>0</td>\n",
       "      <td>0</td>\n",
       "      <td>0</td>\n",
       "      <td>0</td>\n",
       "      <td>0</td>\n",
       "    </tr>\n",
       "    <tr>\n",
       "      <th>3</th>\n",
       "      <td>Health</td>\n",
       "      <td>108</td>\n",
       "      <td>108</td>\n",
       "      <td>108</td>\n",
       "      <td>108</td>\n",
       "      <td>108</td>\n",
       "      <td>108</td>\n",
       "      <td>108</td>\n",
       "      <td>108</td>\n",
       "      <td>108</td>\n",
       "      <td>...</td>\n",
       "      <td>0</td>\n",
       "      <td>0</td>\n",
       "      <td>0</td>\n",
       "      <td>0</td>\n",
       "      <td>0</td>\n",
       "      <td>0</td>\n",
       "      <td>0</td>\n",
       "      <td>0</td>\n",
       "      <td>0</td>\n",
       "      <td>0</td>\n",
       "    </tr>\n",
       "    <tr>\n",
       "      <th>4</th>\n",
       "      <td>Money</td>\n",
       "      <td>79</td>\n",
       "      <td>79</td>\n",
       "      <td>79</td>\n",
       "      <td>79</td>\n",
       "      <td>79</td>\n",
       "      <td>79</td>\n",
       "      <td>79</td>\n",
       "      <td>79</td>\n",
       "      <td>79</td>\n",
       "      <td>...</td>\n",
       "      <td>0</td>\n",
       "      <td>0</td>\n",
       "      <td>0</td>\n",
       "      <td>0</td>\n",
       "      <td>0</td>\n",
       "      <td>0</td>\n",
       "      <td>0</td>\n",
       "      <td>0</td>\n",
       "      <td>0</td>\n",
       "      <td>0</td>\n",
       "    </tr>\n",
       "    <tr>\n",
       "      <th>5</th>\n",
       "      <td>School</td>\n",
       "      <td>127</td>\n",
       "      <td>127</td>\n",
       "      <td>127</td>\n",
       "      <td>127</td>\n",
       "      <td>127</td>\n",
       "      <td>127</td>\n",
       "      <td>127</td>\n",
       "      <td>127</td>\n",
       "      <td>127</td>\n",
       "      <td>...</td>\n",
       "      <td>0</td>\n",
       "      <td>0</td>\n",
       "      <td>0</td>\n",
       "      <td>0</td>\n",
       "      <td>0</td>\n",
       "      <td>0</td>\n",
       "      <td>0</td>\n",
       "      <td>0</td>\n",
       "      <td>0</td>\n",
       "      <td>0</td>\n",
       "    </tr>\n",
       "  </tbody>\n",
       "</table>\n",
       "<p>6 rows × 132 columns</p>\n",
       "</div>"
      ],
      "text/plain": [
       "  priority_type_that_went_to_zero  row_id  player_id  school  wave  session  \\\n",
       "0                          Family       5          5       5     5        5   \n",
       "1                         Friends       8          8       8     8        8   \n",
       "2                       Happiness      48         48      48    48       48   \n",
       "3                          Health     108        108     108   108      108   \n",
       "4                           Money      79         79      79    79       79   \n",
       "5                          School     127        127     127   127      127   \n",
       "\n",
       "   date  event_id  event_description  event_category  ...  piece1_id  \\\n",
       "0     5         5                  5               5  ...          0   \n",
       "1     8         8                  8               8  ...          0   \n",
       "2    48        48                 48              48  ...          0   \n",
       "3   108       108                108             108  ...          0   \n",
       "4    79        79                 79              79  ...          0   \n",
       "5   127       127                127             127  ...          0   \n",
       "\n",
       "   piece2_id  piece3_id  opponent_point_loss  player_points  opponent_points  \\\n",
       "0          0          0                    0              0                0   \n",
       "1          0          0                    0              0                0   \n",
       "2          0          0                    0              0                0   \n",
       "3          0          0                    0              0                0   \n",
       "4          0          0                    0              0                0   \n",
       "5          0          0                    0              0                0   \n",
       "\n",
       "   old_rating  new_rating  epilogue_item_id  item_locked_unlocked_state  \n",
       "0           0           0                 0                           0  \n",
       "1           0           0                 0                           0  \n",
       "2           0           0                 0                           0  \n",
       "3           0           0                 0                           0  \n",
       "4           0           0                 0                           0  \n",
       "5           0           0                 0                           0  \n",
       "\n",
       "[6 rows x 132 columns]"
      ]
     },
     "execution_count": 20,
     "metadata": {},
     "output_type": "execute_result"
    }
   ],
   "source": [
    "unique = log['priority_type_that_went_to_zero'].dropna().unique()\n",
    "log['priority_type_that_went_to_zero'] = log['priority_type_that_went_to_zero'].replace(unique, ['Health','Money','School','Friends','Happiness','Family'])\n",
    "count_priority = log.groupby('priority_type_that_went_to_zero').count().reset_index()#.value_counts()\n",
    "count_priority"
   ]
  },
  {
   "cell_type": "code",
   "execution_count": 21,
   "metadata": {},
   "outputs": [
    {
     "data": {
      "application/vnd.plotly.v1+json": {
       "config": {
        "plotlyServerURL": "https://plot.ly"
       },
       "data": [
        {
         "alignmentgroup": "True",
         "hovertemplate": "Priority Types=%{x}<br>Number of times reaching zero=%{y}<extra></extra>",
         "legendgroup": "Family",
         "marker": {
          "color": "#636efa",
          "pattern": {
           "shape": ""
          }
         },
         "name": "Family",
         "offsetgroup": "Family",
         "orientation": "v",
         "showlegend": true,
         "textposition": "auto",
         "type": "bar",
         "x": [
          "Family"
         ],
         "xaxis": "x",
         "y": [
          5
         ],
         "yaxis": "y"
        },
        {
         "alignmentgroup": "True",
         "hovertemplate": "Priority Types=%{x}<br>Number of times reaching zero=%{y}<extra></extra>",
         "legendgroup": "Friends",
         "marker": {
          "color": "#EF553B",
          "pattern": {
           "shape": ""
          }
         },
         "name": "Friends",
         "offsetgroup": "Friends",
         "orientation": "v",
         "showlegend": true,
         "textposition": "auto",
         "type": "bar",
         "x": [
          "Friends"
         ],
         "xaxis": "x",
         "y": [
          8
         ],
         "yaxis": "y"
        },
        {
         "alignmentgroup": "True",
         "hovertemplate": "Priority Types=%{x}<br>Number of times reaching zero=%{y}<extra></extra>",
         "legendgroup": "Happiness",
         "marker": {
          "color": "#00cc96",
          "pattern": {
           "shape": ""
          }
         },
         "name": "Happiness",
         "offsetgroup": "Happiness",
         "orientation": "v",
         "showlegend": true,
         "textposition": "auto",
         "type": "bar",
         "x": [
          "Happiness"
         ],
         "xaxis": "x",
         "y": [
          48
         ],
         "yaxis": "y"
        },
        {
         "alignmentgroup": "True",
         "hovertemplate": "Priority Types=%{x}<br>Number of times reaching zero=%{y}<extra></extra>",
         "legendgroup": "Health",
         "marker": {
          "color": "#ab63fa",
          "pattern": {
           "shape": ""
          }
         },
         "name": "Health",
         "offsetgroup": "Health",
         "orientation": "v",
         "showlegend": true,
         "textposition": "auto",
         "type": "bar",
         "x": [
          "Health"
         ],
         "xaxis": "x",
         "y": [
          108
         ],
         "yaxis": "y"
        },
        {
         "alignmentgroup": "True",
         "hovertemplate": "Priority Types=%{x}<br>Number of times reaching zero=%{y}<extra></extra>",
         "legendgroup": "Money",
         "marker": {
          "color": "#FFA15A",
          "pattern": {
           "shape": ""
          }
         },
         "name": "Money",
         "offsetgroup": "Money",
         "orientation": "v",
         "showlegend": true,
         "textposition": "auto",
         "type": "bar",
         "x": [
          "Money"
         ],
         "xaxis": "x",
         "y": [
          79
         ],
         "yaxis": "y"
        },
        {
         "alignmentgroup": "True",
         "hovertemplate": "Priority Types=%{x}<br>Number of times reaching zero=%{y}<extra></extra>",
         "legendgroup": "School",
         "marker": {
          "color": "#19d3f3",
          "pattern": {
           "shape": ""
          }
         },
         "name": "School",
         "offsetgroup": "School",
         "orientation": "v",
         "showlegend": true,
         "textposition": "auto",
         "type": "bar",
         "x": [
          "School"
         ],
         "xaxis": "x",
         "y": [
          127
         ],
         "yaxis": "y"
        }
       ],
       "layout": {
        "barmode": "relative",
        "legend": {
         "title": {
          "text": "Priority Types"
         },
         "tracegroupgap": 0
        },
        "margin": {
         "t": 60
        },
        "template": {
         "data": {
          "bar": [
           {
            "error_x": {
             "color": "#2a3f5f"
            },
            "error_y": {
             "color": "#2a3f5f"
            },
            "marker": {
             "line": {
              "color": "#E5ECF6",
              "width": 0.5
             },
             "pattern": {
              "fillmode": "overlay",
              "size": 10,
              "solidity": 0.2
             }
            },
            "type": "bar"
           }
          ],
          "barpolar": [
           {
            "marker": {
             "line": {
              "color": "#E5ECF6",
              "width": 0.5
             },
             "pattern": {
              "fillmode": "overlay",
              "size": 10,
              "solidity": 0.2
             }
            },
            "type": "barpolar"
           }
          ],
          "carpet": [
           {
            "aaxis": {
             "endlinecolor": "#2a3f5f",
             "gridcolor": "white",
             "linecolor": "white",
             "minorgridcolor": "white",
             "startlinecolor": "#2a3f5f"
            },
            "baxis": {
             "endlinecolor": "#2a3f5f",
             "gridcolor": "white",
             "linecolor": "white",
             "minorgridcolor": "white",
             "startlinecolor": "#2a3f5f"
            },
            "type": "carpet"
           }
          ],
          "choropleth": [
           {
            "colorbar": {
             "outlinewidth": 0,
             "ticks": ""
            },
            "type": "choropleth"
           }
          ],
          "contour": [
           {
            "colorbar": {
             "outlinewidth": 0,
             "ticks": ""
            },
            "colorscale": [
             [
              0,
              "#0d0887"
             ],
             [
              0.1111111111111111,
              "#46039f"
             ],
             [
              0.2222222222222222,
              "#7201a8"
             ],
             [
              0.3333333333333333,
              "#9c179e"
             ],
             [
              0.4444444444444444,
              "#bd3786"
             ],
             [
              0.5555555555555556,
              "#d8576b"
             ],
             [
              0.6666666666666666,
              "#ed7953"
             ],
             [
              0.7777777777777778,
              "#fb9f3a"
             ],
             [
              0.8888888888888888,
              "#fdca26"
             ],
             [
              1,
              "#f0f921"
             ]
            ],
            "type": "contour"
           }
          ],
          "contourcarpet": [
           {
            "colorbar": {
             "outlinewidth": 0,
             "ticks": ""
            },
            "type": "contourcarpet"
           }
          ],
          "heatmap": [
           {
            "colorbar": {
             "outlinewidth": 0,
             "ticks": ""
            },
            "colorscale": [
             [
              0,
              "#0d0887"
             ],
             [
              0.1111111111111111,
              "#46039f"
             ],
             [
              0.2222222222222222,
              "#7201a8"
             ],
             [
              0.3333333333333333,
              "#9c179e"
             ],
             [
              0.4444444444444444,
              "#bd3786"
             ],
             [
              0.5555555555555556,
              "#d8576b"
             ],
             [
              0.6666666666666666,
              "#ed7953"
             ],
             [
              0.7777777777777778,
              "#fb9f3a"
             ],
             [
              0.8888888888888888,
              "#fdca26"
             ],
             [
              1,
              "#f0f921"
             ]
            ],
            "type": "heatmap"
           }
          ],
          "heatmapgl": [
           {
            "colorbar": {
             "outlinewidth": 0,
             "ticks": ""
            },
            "colorscale": [
             [
              0,
              "#0d0887"
             ],
             [
              0.1111111111111111,
              "#46039f"
             ],
             [
              0.2222222222222222,
              "#7201a8"
             ],
             [
              0.3333333333333333,
              "#9c179e"
             ],
             [
              0.4444444444444444,
              "#bd3786"
             ],
             [
              0.5555555555555556,
              "#d8576b"
             ],
             [
              0.6666666666666666,
              "#ed7953"
             ],
             [
              0.7777777777777778,
              "#fb9f3a"
             ],
             [
              0.8888888888888888,
              "#fdca26"
             ],
             [
              1,
              "#f0f921"
             ]
            ],
            "type": "heatmapgl"
           }
          ],
          "histogram": [
           {
            "marker": {
             "pattern": {
              "fillmode": "overlay",
              "size": 10,
              "solidity": 0.2
             }
            },
            "type": "histogram"
           }
          ],
          "histogram2d": [
           {
            "colorbar": {
             "outlinewidth": 0,
             "ticks": ""
            },
            "colorscale": [
             [
              0,
              "#0d0887"
             ],
             [
              0.1111111111111111,
              "#46039f"
             ],
             [
              0.2222222222222222,
              "#7201a8"
             ],
             [
              0.3333333333333333,
              "#9c179e"
             ],
             [
              0.4444444444444444,
              "#bd3786"
             ],
             [
              0.5555555555555556,
              "#d8576b"
             ],
             [
              0.6666666666666666,
              "#ed7953"
             ],
             [
              0.7777777777777778,
              "#fb9f3a"
             ],
             [
              0.8888888888888888,
              "#fdca26"
             ],
             [
              1,
              "#f0f921"
             ]
            ],
            "type": "histogram2d"
           }
          ],
          "histogram2dcontour": [
           {
            "colorbar": {
             "outlinewidth": 0,
             "ticks": ""
            },
            "colorscale": [
             [
              0,
              "#0d0887"
             ],
             [
              0.1111111111111111,
              "#46039f"
             ],
             [
              0.2222222222222222,
              "#7201a8"
             ],
             [
              0.3333333333333333,
              "#9c179e"
             ],
             [
              0.4444444444444444,
              "#bd3786"
             ],
             [
              0.5555555555555556,
              "#d8576b"
             ],
             [
              0.6666666666666666,
              "#ed7953"
             ],
             [
              0.7777777777777778,
              "#fb9f3a"
             ],
             [
              0.8888888888888888,
              "#fdca26"
             ],
             [
              1,
              "#f0f921"
             ]
            ],
            "type": "histogram2dcontour"
           }
          ],
          "mesh3d": [
           {
            "colorbar": {
             "outlinewidth": 0,
             "ticks": ""
            },
            "type": "mesh3d"
           }
          ],
          "parcoords": [
           {
            "line": {
             "colorbar": {
              "outlinewidth": 0,
              "ticks": ""
             }
            },
            "type": "parcoords"
           }
          ],
          "pie": [
           {
            "automargin": true,
            "type": "pie"
           }
          ],
          "scatter": [
           {
            "fillpattern": {
             "fillmode": "overlay",
             "size": 10,
             "solidity": 0.2
            },
            "type": "scatter"
           }
          ],
          "scatter3d": [
           {
            "line": {
             "colorbar": {
              "outlinewidth": 0,
              "ticks": ""
             }
            },
            "marker": {
             "colorbar": {
              "outlinewidth": 0,
              "ticks": ""
             }
            },
            "type": "scatter3d"
           }
          ],
          "scattercarpet": [
           {
            "marker": {
             "colorbar": {
              "outlinewidth": 0,
              "ticks": ""
             }
            },
            "type": "scattercarpet"
           }
          ],
          "scattergeo": [
           {
            "marker": {
             "colorbar": {
              "outlinewidth": 0,
              "ticks": ""
             }
            },
            "type": "scattergeo"
           }
          ],
          "scattergl": [
           {
            "marker": {
             "colorbar": {
              "outlinewidth": 0,
              "ticks": ""
             }
            },
            "type": "scattergl"
           }
          ],
          "scattermapbox": [
           {
            "marker": {
             "colorbar": {
              "outlinewidth": 0,
              "ticks": ""
             }
            },
            "type": "scattermapbox"
           }
          ],
          "scatterpolar": [
           {
            "marker": {
             "colorbar": {
              "outlinewidth": 0,
              "ticks": ""
             }
            },
            "type": "scatterpolar"
           }
          ],
          "scatterpolargl": [
           {
            "marker": {
             "colorbar": {
              "outlinewidth": 0,
              "ticks": ""
             }
            },
            "type": "scatterpolargl"
           }
          ],
          "scatterternary": [
           {
            "marker": {
             "colorbar": {
              "outlinewidth": 0,
              "ticks": ""
             }
            },
            "type": "scatterternary"
           }
          ],
          "surface": [
           {
            "colorbar": {
             "outlinewidth": 0,
             "ticks": ""
            },
            "colorscale": [
             [
              0,
              "#0d0887"
             ],
             [
              0.1111111111111111,
              "#46039f"
             ],
             [
              0.2222222222222222,
              "#7201a8"
             ],
             [
              0.3333333333333333,
              "#9c179e"
             ],
             [
              0.4444444444444444,
              "#bd3786"
             ],
             [
              0.5555555555555556,
              "#d8576b"
             ],
             [
              0.6666666666666666,
              "#ed7953"
             ],
             [
              0.7777777777777778,
              "#fb9f3a"
             ],
             [
              0.8888888888888888,
              "#fdca26"
             ],
             [
              1,
              "#f0f921"
             ]
            ],
            "type": "surface"
           }
          ],
          "table": [
           {
            "cells": {
             "fill": {
              "color": "#EBF0F8"
             },
             "line": {
              "color": "white"
             }
            },
            "header": {
             "fill": {
              "color": "#C8D4E3"
             },
             "line": {
              "color": "white"
             }
            },
            "type": "table"
           }
          ]
         },
         "layout": {
          "annotationdefaults": {
           "arrowcolor": "#2a3f5f",
           "arrowhead": 0,
           "arrowwidth": 1
          },
          "autotypenumbers": "strict",
          "coloraxis": {
           "colorbar": {
            "outlinewidth": 0,
            "ticks": ""
           }
          },
          "colorscale": {
           "diverging": [
            [
             0,
             "#8e0152"
            ],
            [
             0.1,
             "#c51b7d"
            ],
            [
             0.2,
             "#de77ae"
            ],
            [
             0.3,
             "#f1b6da"
            ],
            [
             0.4,
             "#fde0ef"
            ],
            [
             0.5,
             "#f7f7f7"
            ],
            [
             0.6,
             "#e6f5d0"
            ],
            [
             0.7,
             "#b8e186"
            ],
            [
             0.8,
             "#7fbc41"
            ],
            [
             0.9,
             "#4d9221"
            ],
            [
             1,
             "#276419"
            ]
           ],
           "sequential": [
            [
             0,
             "#0d0887"
            ],
            [
             0.1111111111111111,
             "#46039f"
            ],
            [
             0.2222222222222222,
             "#7201a8"
            ],
            [
             0.3333333333333333,
             "#9c179e"
            ],
            [
             0.4444444444444444,
             "#bd3786"
            ],
            [
             0.5555555555555556,
             "#d8576b"
            ],
            [
             0.6666666666666666,
             "#ed7953"
            ],
            [
             0.7777777777777778,
             "#fb9f3a"
            ],
            [
             0.8888888888888888,
             "#fdca26"
            ],
            [
             1,
             "#f0f921"
            ]
           ],
           "sequentialminus": [
            [
             0,
             "#0d0887"
            ],
            [
             0.1111111111111111,
             "#46039f"
            ],
            [
             0.2222222222222222,
             "#7201a8"
            ],
            [
             0.3333333333333333,
             "#9c179e"
            ],
            [
             0.4444444444444444,
             "#bd3786"
            ],
            [
             0.5555555555555556,
             "#d8576b"
            ],
            [
             0.6666666666666666,
             "#ed7953"
            ],
            [
             0.7777777777777778,
             "#fb9f3a"
            ],
            [
             0.8888888888888888,
             "#fdca26"
            ],
            [
             1,
             "#f0f921"
            ]
           ]
          },
          "colorway": [
           "#636efa",
           "#EF553B",
           "#00cc96",
           "#ab63fa",
           "#FFA15A",
           "#19d3f3",
           "#FF6692",
           "#B6E880",
           "#FF97FF",
           "#FECB52"
          ],
          "font": {
           "color": "#2a3f5f"
          },
          "geo": {
           "bgcolor": "white",
           "lakecolor": "white",
           "landcolor": "#E5ECF6",
           "showlakes": true,
           "showland": true,
           "subunitcolor": "white"
          },
          "hoverlabel": {
           "align": "left"
          },
          "hovermode": "closest",
          "mapbox": {
           "style": "light"
          },
          "paper_bgcolor": "white",
          "plot_bgcolor": "#E5ECF6",
          "polar": {
           "angularaxis": {
            "gridcolor": "white",
            "linecolor": "white",
            "ticks": ""
           },
           "bgcolor": "#E5ECF6",
           "radialaxis": {
            "gridcolor": "white",
            "linecolor": "white",
            "ticks": ""
           }
          },
          "scene": {
           "xaxis": {
            "backgroundcolor": "#E5ECF6",
            "gridcolor": "white",
            "gridwidth": 2,
            "linecolor": "white",
            "showbackground": true,
            "ticks": "",
            "zerolinecolor": "white"
           },
           "yaxis": {
            "backgroundcolor": "#E5ECF6",
            "gridcolor": "white",
            "gridwidth": 2,
            "linecolor": "white",
            "showbackground": true,
            "ticks": "",
            "zerolinecolor": "white"
           },
           "zaxis": {
            "backgroundcolor": "#E5ECF6",
            "gridcolor": "white",
            "gridwidth": 2,
            "linecolor": "white",
            "showbackground": true,
            "ticks": "",
            "zerolinecolor": "white"
           }
          },
          "shapedefaults": {
           "line": {
            "color": "#2a3f5f"
           }
          },
          "ternary": {
           "aaxis": {
            "gridcolor": "white",
            "linecolor": "white",
            "ticks": ""
           },
           "baxis": {
            "gridcolor": "white",
            "linecolor": "white",
            "ticks": ""
           },
           "bgcolor": "#E5ECF6",
           "caxis": {
            "gridcolor": "white",
            "linecolor": "white",
            "ticks": ""
           }
          },
          "title": {
           "x": 0.05
          },
          "xaxis": {
           "automargin": true,
           "gridcolor": "white",
           "linecolor": "white",
           "ticks": "",
           "title": {
            "standoff": 15
           },
           "zerolinecolor": "white",
           "zerolinewidth": 2
          },
          "yaxis": {
           "automargin": true,
           "gridcolor": "white",
           "linecolor": "white",
           "ticks": "",
           "title": {
            "standoff": 15
           },
           "zerolinecolor": "white",
           "zerolinewidth": 2
          }
         }
        },
        "xaxis": {
         "anchor": "y",
         "categoryarray": [
          "Family",
          "Friends",
          "Happiness",
          "Health",
          "Money",
          "School"
         ],
         "categoryorder": "array",
         "domain": [
          0,
          1
         ],
         "title": {
          "text": "Priority Types"
         }
        },
        "yaxis": {
         "anchor": "x",
         "domain": [
          0,
          1
         ],
         "title": {
          "text": "Number of times reaching zero"
         }
        }
       }
      }
     },
     "metadata": {},
     "output_type": "display_data"
    }
   ],
   "source": [
    "fig = px.bar(count_priority, x='priority_type_that_went_to_zero', y='player_id', color=\"priority_type_that_went_to_zero\",\n",
    "labels={\n",
    "        \"player_id\": \"Number of times reaching zero\",\n",
    "        \"priority_type_that_went_to_zero\": \"Priority Types\",\n",
    "        \"priority_type_that_went_to_zero\": \"Priority Types\"\n",
    "        } \n",
    ")\n",
    "fig.show()"
   ]
  }
 ],
 "metadata": {
  "kernelspec": {
   "display_name": "Python 3.11.0 ('minimal_ds')",
   "language": "python",
   "name": "python3"
  },
  "language_info": {
   "codemirror_mode": {
    "name": "ipython",
    "version": 3
   },
   "file_extension": ".py",
   "mimetype": "text/x-python",
   "name": "python",
   "nbconvert_exporter": "python",
   "pygments_lexer": "ipython3",
   "version": "3.11.0"
  },
  "orig_nbformat": 4,
  "vscode": {
   "interpreter": {
    "hash": "1544083049200577014ff9408579467c6e29dbf6c3a54493d96878f46f58abbf"
   }
  }
 },
 "nbformat": 4,
 "nbformat_minor": 2
}
